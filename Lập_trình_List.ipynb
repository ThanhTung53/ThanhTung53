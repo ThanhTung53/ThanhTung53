{
  "nbformat": 4,
  "nbformat_minor": 0,
  "metadata": {
    "colab": {
      "name": "Lập_trình_List.ipynb",
      "provenance": [],
      "authorship_tag": "ABX9TyMfLbZlN+T7btPJYsyg/Q2U",
      "include_colab_link": true
    },
    "kernelspec": {
      "name": "python3",
      "display_name": "Python 3"
    },
    "language_info": {
      "name": "python"
    }
  },
  "cells": [
    {
      "cell_type": "markdown",
      "metadata": {
        "id": "view-in-github",
        "colab_type": "text"
      },
      "source": [
        "<a href=\"https://colab.research.google.com/github/ThanhTung53/Tuhu/blob/main/L%E1%BA%ADp_tr%C3%ACnh_List.ipynb\" target=\"_parent\"><img src=\"https://colab.research.google.com/assets/colab-badge.svg\" alt=\"Open In Colab\"/></a>"
      ]
    },
    {
      "cell_type": "markdown",
      "metadata": {
        "id": "JpyxgmD_u09R"
      },
      "source": [
        "1. Write a Python program to sum all the items in a list. (sum() function)"
      ]
    },
    {
      "cell_type": "code",
      "metadata": {
        "colab": {
          "base_uri": "https://localhost:8080/"
        },
        "id": "0pdKoUX_vOTL",
        "outputId": "90466c57-1018-4fd9-ca0e-765a46c39e8d"
      },
      "source": [
        "numbers = [1, 2, 3, 4, 5, 6]\n",
        "a = (sum(numbers))\n",
        "print(a)"
      ],
      "execution_count": 13,
      "outputs": [
        {
          "output_type": "stream",
          "name": "stdout",
          "text": [
            "21\n"
          ]
        }
      ]
    },
    {
      "cell_type": "markdown",
      "metadata": {
        "id": "dsyuRCr2u1BH"
      },
      "source": [
        "2. Write a Python program to multiply all the items in a list. (math.prod() function)"
      ]
    },
    {
      "cell_type": "code",
      "metadata": {
        "colab": {
          "base_uri": "https://localhost:8080/"
        },
        "id": "KnvbWleKvU4a",
        "outputId": "132a97e2-308a-49ac-e7a3-205fca083072"
      },
      "source": [
        "import numpy\n",
        "a = [1, 2, 3, 4, 5]\n",
        "b = [4, 5, 6, 7, 8]\n",
        "result_a = numpy.prod(a)\n",
        "result_b = numpy.prod(b)\n",
        "print(result_a)\n",
        "print(result_b)"
      ],
      "execution_count": 2,
      "outputs": [
        {
          "output_type": "stream",
          "name": "stdout",
          "text": [
            "120\n",
            "6720\n"
          ]
        }
      ]
    },
    {
      "cell_type": "markdown",
      "metadata": {
        "id": "Byi3tAXtu1EF"
      },
      "source": [
        "3. Write a Python program to get the largest number from a list. (max() function)"
      ]
    },
    {
      "cell_type": "code",
      "metadata": {
        "colab": {
          "base_uri": "https://localhost:8080/"
        },
        "id": "TbZL7tEevVYE",
        "outputId": "9ebad0e2-46fb-4756-f54c-406395b45510"
      },
      "source": [
        "a = [100, 200, 3000]\n",
        "print(\"Largest number of the list: \", max(a))"
      ],
      "execution_count": 16,
      "outputs": [
        {
          "output_type": "stream",
          "name": "stdout",
          "text": [
            "Largest number of the list:  3000\n"
          ]
        }
      ]
    },
    {
      "cell_type": "markdown",
      "metadata": {
        "id": "sxBG_6lbu1HO"
      },
      "source": [
        "4. Write a Python program to get the smallest number from a list. (min() function)"
      ]
    },
    {
      "cell_type": "code",
      "metadata": {
        "colab": {
          "base_uri": "https://localhost:8080/"
        },
        "id": "SSuv00qIvWMl",
        "outputId": "6ea0b3cb-a636-4961-e7de-d33c2146414d"
      },
      "source": [
        "b = [100, 500, 5]\n",
        "print(\"Smallest number of the list: \", min(b))"
      ],
      "execution_count": 17,
      "outputs": [
        {
          "output_type": "stream",
          "name": "stdout",
          "text": [
            "Smallest number of the list:  5\n"
          ]
        }
      ]
    },
    {
      "cell_type": "markdown",
      "metadata": {
        "id": "eM3KIbBQu1KP"
      },
      "source": [
        "5. Write a Python program to sort a list in descending order (sort() function)"
      ]
    },
    {
      "cell_type": "code",
      "metadata": {
        "colab": {
          "base_uri": "https://localhost:8080/"
        },
        "id": "aztV7F1nvWmK",
        "outputId": "996d27f0-ad7e-4389-ca30-b3cad357c4b2"
      },
      "source": [
        "a = [1, 100, 5, 50, 75, 25]\n",
        "a.sort(reverse = True)\n",
        "print(a)"
      ],
      "execution_count": 6,
      "outputs": [
        {
          "output_type": "stream",
          "name": "stdout",
          "text": [
            "[100, 75, 50, 25, 5, 1]\n"
          ]
        }
      ]
    },
    {
      "cell_type": "markdown",
      "metadata": {
        "id": "aryU_D2Yu1M_"
      },
      "source": [
        "6. Write a Python program to sort a list in ascending order (sort() function)"
      ]
    },
    {
      "cell_type": "code",
      "metadata": {
        "colab": {
          "base_uri": "https://localhost:8080/"
        },
        "id": "LUrlWPnWvXiT",
        "outputId": "9b72e6bf-ebca-4a22-e10b-259f67b49b2f"
      },
      "source": [
        "b = [1, 100, 5, 50, 75, 25]\n",
        "b.sort()\n",
        "print(b)"
      ],
      "execution_count": 7,
      "outputs": [
        {
          "output_type": "stream",
          "name": "stdout",
          "text": [
            "[1, 5, 25, 50, 75, 100]\n"
          ]
        }
      ]
    },
    {
      "cell_type": "markdown",
      "metadata": {
        "id": "TO43lAPYu1Py"
      },
      "source": [
        "7. Write a Python program to get the size of a list (len() function)"
      ]
    },
    {
      "cell_type": "code",
      "metadata": {
        "colab": {
          "base_uri": "https://localhost:8080/"
        },
        "id": "9ev51CouvYHp",
        "outputId": "27d23c1f-6d1d-4e07-bd49-4c3afd1ac192"
      },
      "source": [
        "a = [\"My\", \"Name\", \"Is\", \"Huynh\", \"Thanh\", \"Tung\"]\n",
        "print(len(a))"
      ],
      "execution_count": 8,
      "outputs": [
        {
          "output_type": "stream",
          "name": "stdout",
          "text": [
            "6\n"
          ]
        }
      ]
    },
    {
      "cell_type": "markdown",
      "metadata": {
        "id": "Hp6scU6hu1S3"
      },
      "source": [
        "8. Write a Python program to get random element(s) of a list (random.choice() function)"
      ]
    },
    {
      "cell_type": "code",
      "metadata": {
        "colab": {
          "base_uri": "https://localhost:8080/"
        },
        "id": "yV3d8UydvYmL",
        "outputId": "c8a715ea-d018-47d9-d1e7-db633c12211d"
      },
      "source": [
        "import random\n",
        "a = [1, 2, 3, 4, 5, 6, 7, 8, 9, 10]\n",
        "print(random.choice(a))"
      ],
      "execution_count": 11,
      "outputs": [
        {
          "output_type": "stream",
          "name": "stdout",
          "text": [
            "7\n"
          ]
        }
      ]
    },
    {
      "cell_type": "markdown",
      "metadata": {
        "id": "ZXEKvjMOu1VR"
      },
      "source": [
        "9. Write a Python program to join two different lists into one (use + or extend() function)"
      ]
    },
    {
      "cell_type": "code",
      "metadata": {
        "colab": {
          "base_uri": "https://localhost:8080/"
        },
        "id": "Ofug1Q6wvZI_",
        "outputId": "ad141619-577b-41ba-b190-bcc64f5245ca"
      },
      "source": [
        "a = [\"apple\", \"orange\", \"durian\", \"grapes\", \"watermelon\"]\n",
        "b = [\"red\", \"blue\", \"yellow\", \"gray\", \"pink\"]\n",
        "a.extend(b)\n",
        "print(a)"
      ],
      "execution_count": 12,
      "outputs": [
        {
          "output_type": "stream",
          "name": "stdout",
          "text": [
            "['apple', 'orange', 'durian', 'grapes', 'watermelon', 'red', 'blue', 'yellow', 'gray', 'pink']\n"
          ]
        }
      ]
    }
  ]
}