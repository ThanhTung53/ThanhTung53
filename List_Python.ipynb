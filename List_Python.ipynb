{
  "nbformat": 4,
  "nbformat_minor": 0,
  "metadata": {
    "colab": {
      "name": "List_Python.ipynb",
      "provenance": [],
      "authorship_tag": "ABX9TyN5CMqJ8axp0cEUGXrGDIOr",
      "include_colab_link": true
    },
    "kernelspec": {
      "name": "python3",
      "display_name": "Python 3"
    },
    "language_info": {
      "name": "python"
    }
  },
  "cells": [
    {
      "cell_type": "markdown",
      "metadata": {
        "id": "view-in-github",
        "colab_type": "text"
      },
      "source": [
        "<a href=\"https://colab.research.google.com/github/ThanhTung53/Tuhu/blob/main/List_Python.ipynb\" target=\"_parent\"><img src=\"https://colab.research.google.com/assets/colab-badge.svg\" alt=\"Open In Colab\"/></a>"
      ]
    },
    {
      "cell_type": "markdown",
      "metadata": {
        "id": "oMvIDRyVJzKt"
      },
      "source": [
        "Lập trình thực hiện các yêu cầu sau:\n",
        "\n",
        "1) Tạo một biến x kiểu List rỗng\n",
        "\n",
        "2) Thêm giá trị 18 vào x\n",
        "\n",
        "3) Thêm giá trị \"Huế\" vào x\n",
        "\n",
        "4) Tạo 1 List y = [12, 45, -1, -0.56, \"abc\"]\n",
        "\n",
        "5) Thêm y vào x\n",
        "\n",
        "6) Xuất giá trị của x ra màn hình\n",
        "\n",
        "7) In ra màn hình giá trị của phần tử cuối cùng và phần tử đầu tiên của x\n",
        "\n",
        "8) In ra màn hình giá trị của phần tử đầu tiên đến phần tử thứ 5 của x\n",
        "\n",
        "9) In ra màn hình giá trị của phần từ thứ 3 đến cuối cùng của x"
      ]
    },
    {
      "cell_type": "code",
      "metadata": {
        "colab": {
          "base_uri": "https://localhost:8080/"
        },
        "id": "bT0WB6r1JsDZ",
        "outputId": "12821e12-6638-4467-baf0-df2fa50054bc"
      },
      "source": [
        "#1\n",
        "x = [ ]\n",
        "print(x)"
      ],
      "execution_count": null,
      "outputs": [
        {
          "output_type": "stream",
          "name": "stdout",
          "text": [
            "[]\n"
          ]
        }
      ]
    },
    {
      "cell_type": "code",
      "metadata": {
        "colab": {
          "base_uri": "https://localhost:8080/"
        },
        "id": "ypWYrxJBKmoL",
        "outputId": "eeb4c83b-5a82-426a-e083-5f09f0e80874"
      },
      "source": [
        "#2\n",
        "x.insert(0,18)\n",
        "print(x)"
      ],
      "execution_count": null,
      "outputs": [
        {
          "output_type": "stream",
          "name": "stdout",
          "text": [
            "[18]\n"
          ]
        }
      ]
    },
    {
      "cell_type": "code",
      "metadata": {
        "colab": {
          "base_uri": "https://localhost:8080/"
        },
        "id": "wvlJm1CpKmyT",
        "outputId": "ba784db1-ceaa-40e3-a8ae-fc2ff4913b83"
      },
      "source": [
        "#3\n",
        "x. insert(1, \"Huế\")\n",
        "print(x)"
      ],
      "execution_count": null,
      "outputs": [
        {
          "output_type": "stream",
          "name": "stdout",
          "text": [
            "[18, 'Huế']\n"
          ]
        }
      ]
    },
    {
      "cell_type": "code",
      "metadata": {
        "colab": {
          "base_uri": "https://localhost:8080/"
        },
        "id": "dLOPjz7EKm29",
        "outputId": "bcd405f0-3bec-42ed-c3d0-b673bff90f68"
      },
      "source": [
        "#4\n",
        "y = [12, 45, -1, -0.56, \"abc\"]\n",
        "print(y)"
      ],
      "execution_count": 30,
      "outputs": [
        {
          "output_type": "stream",
          "name": "stdout",
          "text": [
            "[12, 45, -1, -0.56, 'abc']\n"
          ]
        }
      ]
    },
    {
      "cell_type": "code",
      "metadata": {
        "id": "Ep6cuqkzKm5w"
      },
      "source": [
        "#5\n",
        "x = [18, \"Huế\"]\n",
        "y = [12, 45, -1, -0.56, \"abc\"]\n",
        "x.extend(y)"
      ],
      "execution_count": 33,
      "outputs": []
    },
    {
      "cell_type": "code",
      "metadata": {
        "colab": {
          "base_uri": "https://localhost:8080/"
        },
        "id": "lk-u1uanKm8g",
        "outputId": "7d7fc68f-e17b-4477-d55a-974adbd42e5e"
      },
      "source": [
        "#6\n",
        "print(x)"
      ],
      "execution_count": 34,
      "outputs": [
        {
          "output_type": "stream",
          "name": "stdout",
          "text": [
            "[18, 'Huế', 12, 45, -1, -0.56, 'abc']\n"
          ]
        }
      ]
    },
    {
      "cell_type": "code",
      "metadata": {
        "colab": {
          "base_uri": "https://localhost:8080/"
        },
        "id": "SSnlLGqiKm_J",
        "outputId": "ef7317d4-71ea-417e-b1bd-23aa5884725f"
      },
      "source": [
        "#7\n",
        "print(x[-1])\n",
        "print(x[0])"
      ],
      "execution_count": null,
      "outputs": [
        {
          "output_type": "stream",
          "name": "stdout",
          "text": [
            "abc\n",
            "18\n"
          ]
        }
      ]
    },
    {
      "cell_type": "code",
      "metadata": {
        "colab": {
          "base_uri": "https://localhost:8080/"
        },
        "id": "JUfQ18IxKnEC",
        "outputId": "4ef82760-10a8-44d2-dc57-00a2e6ba5aba"
      },
      "source": [
        "#8\n",
        "print(x[:6])"
      ],
      "execution_count": null,
      "outputs": [
        {
          "output_type": "stream",
          "name": "stdout",
          "text": [
            "[18, 'Huế', 12, 45, -1, -0.56]\n"
          ]
        }
      ]
    },
    {
      "cell_type": "code",
      "metadata": {
        "colab": {
          "base_uri": "https://localhost:8080/"
        },
        "id": "50-W_oYkKnGw",
        "outputId": "9cff0ee2-c209-4618-d0b4-6dbc61f664f6"
      },
      "source": [
        "#9\n",
        "print(x[3:])"
      ],
      "execution_count": null,
      "outputs": [
        {
          "output_type": "stream",
          "name": "stdout",
          "text": [
            "[45, -1, -0.56, 'abc']\n"
          ]
        }
      ]
    }
  ]
}