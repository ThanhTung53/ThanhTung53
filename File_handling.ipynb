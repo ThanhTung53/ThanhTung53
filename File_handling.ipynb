{
  "nbformat": 4,
  "nbformat_minor": 0,
  "metadata": {
    "colab": {
      "name": "File_handling.ipynb",
      "provenance": [],
      "authorship_tag": "ABX9TyP/CM3ygX0S1AMnb8pIG8dx",
      "include_colab_link": true
    },
    "kernelspec": {
      "name": "python3",
      "display_name": "Python 3"
    },
    "language_info": {
      "name": "python"
    }
  },
  "cells": [
    {
      "cell_type": "markdown",
      "metadata": {
        "id": "view-in-github",
        "colab_type": "text"
      },
      "source": [
        "<a href=\"https://colab.research.google.com/github/ThanhTung53/Tuhu/blob/main/File_handling.ipynb\" target=\"_parent\"><img src=\"https://colab.research.google.com/assets/colab-badge.svg\" alt=\"Open In Colab\"/></a>"
      ]
    },
    {
      "cell_type": "markdown",
      "metadata": {
        "id": "qRJGJ7jWTA7x"
      },
      "source": [
        "Bài 1: Viết chương trình thực hiện các yêu cầu sau:\n",
        "- Nhập một chuỗi kí tự từ bàn phím\n",
        "- Nhập tên tập tin từ bàn phím\n",
        "- Lưu chuỗi ký tự ở trên vào tập tin."
      ]
    },
    {
      "cell_type": "code",
      "metadata": {
        "colab": {
          "base_uri": "https://localhost:8080/"
        },
        "id": "chFLN1ByS2RY",
        "outputId": "82c3c5de-9eff-465c-f042-0b58ba118abc"
      },
      "source": [
        "list1 = input(\"Nhập chuỗi: \")\n",
        "\n",
        "file1 = input(\"Tên tệp: \") + \".txt\"\n",
        "\n",
        "with open (file1, \"w\") as f:\n",
        "    f.write(list1)"
      ],
      "execution_count": null,
      "outputs": [
        {
          "name": "stdout",
          "output_type": "stream",
          "text": [
            "Nhập 1 chuỗi: abcs\n",
            "Nhập tên tệp: yguig\n"
          ]
        }
      ]
    },
    {
      "cell_type": "markdown",
      "metadata": {
        "id": "3TFYlymzTCkY"
      },
      "source": [
        "Bài 2: Viết chương trình thực hiện các yêu cầu sau:\n",
        "- Nhập tên tập tin từ bàn phím\n",
        "- Đọc nội dung tập tin và in ra màn hình"
      ]
    },
    {
      "cell_type": "code",
      "metadata": {
        "id": "_PSqbgTRTCyg"
      },
      "source": [
        "file2 = input(\"Tên tệp: \") + \".txt\"\n",
        "\n",
        "with open (file2, \"r\") as f:\n",
        "    f.seek(0)\n",
        "    tmp = f.read()\n",
        "\n",
        "print(tmp)"
      ],
      "execution_count": null,
      "outputs": []
    },
    {
      "cell_type": "markdown",
      "metadata": {
        "id": "G4wXF_SYTDB_"
      },
      "source": [
        "Bài 3: Viết chương trình thực hiện các yêu cầu sau:\n",
        "- Nhập tên tập tin từ bàn phím\n",
        "- Nhập một chuỗi kí tự vào từ bàn phím\n",
        "- Ghi chuỗi kí tự này vào cuối tập tin ở trên"
      ]
    },
    {
      "cell_type": "code",
      "metadata": {
        "id": "M4N7khBeTDQw"
      },
      "source": [
        "file3 = input(\"Tên tệp: \") + \".txt\"\n",
        "\n",
        "list3 =\" \" + input(\"Nhập chuỗi: \")\n",
        "\n",
        "with open(file3, \"r+\") as f:\n",
        "    tmp = f.read()\n",
        "\n",
        "    f.seek(len(tmp))\n",
        "\n",
        "    f.write(list3)"
      ],
      "execution_count": null,
      "outputs": []
    },
    {
      "cell_type": "markdown",
      "metadata": {
        "id": "DfcxWd3TTDaW"
      },
      "source": [
        "Bài 4: Viết chương trình thực hiện các yêu cầu sau:\n",
        "- Đọc tập tin ở bài 3 và ghi kết quả ra màn hình"
      ]
    },
    {
      "cell_type": "code",
      "metadata": {
        "id": "DTPC-gAJTDmW"
      },
      "source": [
        "file4 = input(\"Tên tệp: \") + \".txt\"\n",
        "\n",
        "with open(file4, \"r\") as f:\n",
        "    f.seek(0)\n",
        "    tmp = f.read()\n",
        "\n",
        "print(tmp)"
      ],
      "execution_count": null,
      "outputs": []
    },
    {
      "cell_type": "markdown",
      "metadata": {
        "id": "l9UpmJ-STDxl"
      },
      "source": [
        "Bài 5: Viết chương trình thực các yêu cầu sau:\n",
        "- Sinh ngẫu nhiên 1 danh sách gồm 1000 số nguyên trong khoảng từ [-1000, 1000]\n",
        "- Nhập tên tập tin từ bàn phím\n",
        "- Ghi danh sách trên vào tập tin theo quy tắc:\n",
        "\n",
        "o 10 số trên một hàng\n",
        "\n",
        "o Các số phân tách nhau bởi dấu phẩy (,)\n",
        "- Đọc nội dung tập tin ở trên và in ra màn hình theo quy tắc:\n",
        "\n",
        "o 10 số trên một hàng\n",
        "\n",
        "o Các số phan tách nhau bởi dấu tab."
      ]
    },
    {
      "cell_type": "code",
      "metadata": {
        "id": "jbk_SPHRTD8D"
      },
      "source": [
        "import random\n",
        "\n",
        "def tao_du_lieu():\n",
        "    a = []\n",
        "    count = 0\n",
        "    while (count < 1000):\n",
        "        a.append(random.randint(-1000, 1000))\n",
        "        count += 1\n",
        "    return a\n",
        "\n",
        "def luu_du_lieu_vao_file(ghi):\n",
        "    with open(tentep, \"a+\") as f:\n",
        "        f.seek(0)\n",
        "\n",
        "        count = 0\n",
        "        check = 0\n",
        "        while (count < (len(ghi))):\n",
        "            if (check < 9):\n",
        "                f.write(str(ghi[count]))\n",
        "                f.write(\",\")\n",
        "                check += 1\n",
        "                count += 1\n",
        "            else:\n",
        "                f.write(str(ghi[count]))\n",
        "                check = 0\n",
        "                f.write(\"\\n\")\n",
        "                count += 1\n",
        "\n",
        "def doc_du_lieu(doc):\n",
        "    with open(tentep, mode = \"r\") as f:\n",
        "        line = f.readline().strip()\n",
        "        while line:\n",
        "            doc += line.split(\",\")\n",
        "            line = f.readline().strip()\n",
        "    return doc\n",
        "\n",
        "def In(a):\n",
        "    count = 0\n",
        "    check = 0\n",
        "    while (count < (len(a))):\n",
        "        if (check < 9):\n",
        "            print(a[count], end = \"\\t \")\n",
        "            check += 1\n",
        "            count += 1\n",
        "        else:\n",
        "            print(a[count])\n",
        "            check = 0\n",
        "            count += 1\n",
        "\n",
        "def main():\n",
        "    doc = []\n",
        "    global tentep\n",
        "    tentep = input(\"Nhập tên tệp: \") + \".txt\"\n",
        "\n",
        "    with open(tentep, \"a+\") as f:\n",
        "        ghi = tao_du_lieu()\n",
        "\n",
        "        luu_du_lieu_vao_file(ghi)\n",
        "\n",
        "        doc = doc_du_lieu(doc)\n",
        "\n",
        "    In(doc)\n",
        "\n",
        "if __name__ == \"__main__\":\n",
        "    main()"
      ],
      "execution_count": null,
      "outputs": []
    }
  ]
}