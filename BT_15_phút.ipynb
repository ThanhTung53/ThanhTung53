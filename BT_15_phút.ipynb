{
  "nbformat": 4,
  "nbformat_minor": 0,
  "metadata": {
    "colab": {
      "name": "BT_15_phút.ipynb",
      "provenance": [],
      "authorship_tag": "ABX9TyP+a8DBej/ZfC0NRaiW6cBs",
      "include_colab_link": true
    },
    "kernelspec": {
      "name": "python3",
      "display_name": "Python 3"
    },
    "language_info": {
      "name": "python"
    }
  },
  "cells": [
    {
      "cell_type": "markdown",
      "metadata": {
        "id": "view-in-github",
        "colab_type": "text"
      },
      "source": [
        "<a href=\"https://colab.research.google.com/github/ThanhTung53/Tuhu/blob/main/BT_15_ph%C3%BAt.ipynb\" target=\"_parent\"><img src=\"https://colab.research.google.com/assets/colab-badge.svg\" alt=\"Open In Colab\"/></a>"
      ]
    },
    {
      "cell_type": "markdown",
      "metadata": {
        "id": "GnJcw-PTpS94"
      },
      "source": [
        "0 ≤ dtb < 5: Yếu\n",
        "\n",
        "5 ≤ dtb < 7: Trung bình\n",
        "\n",
        "7 ≤ dtb < 8: Khá\n",
        "\n",
        "8 ≤ dtb < 9: Giỏi\n",
        "\n",
        "dtb ≥ 9: Xuất sắc\n",
        "\n",
        "Xay dựng chương trình Python xếp hạng dựa vào dtb nhập từ bàn phím"
      ]
    },
    {
      "cell_type": "code",
      "metadata": {
        "colab": {
          "base_uri": "https://localhost:8080/"
        },
        "id": "wXG1e3V0spI7",
        "outputId": "2cd77b84-5c11-4b4b-b07e-5aee77d11031"
      },
      "source": [
        "dtb = float(input(\"Nhập điểm trung bình: \"))\n",
        "\n",
        "if (dtb >= 0) and (dtb < 5.0):\n",
        "  print(\"Học lực yếu\")\n",
        "elif (dtb >= 5.0) and (dtb < 7.0):\n",
        "  print(\"Học lực trung bình\")\n",
        "elif (dtb >= 7.0) and (dtb < 8.0):\n",
        "  print(\"Học lực khá\")\n",
        "elif (dtb >= 8.0) and (dtb < 9.0):\n",
        "  print(\"Học lực giỏi\")\n",
        "else:\n",
        "  print(\"Học lực xuất sắc\")"
      ],
      "execution_count": 11,
      "outputs": [
        {
          "output_type": "stream",
          "name": "stdout",
          "text": [
            "Nhập điểm trung bình: 7.5\n",
            "Học lực khá\n"
          ]
        }
      ]
    }
  ]
}