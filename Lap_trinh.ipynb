{
  "nbformat": 4,
  "nbformat_minor": 0,
  "metadata": {
    "colab": {
      "name": "Lap_trinh.ipynb",
      "provenance": [],
      "authorship_tag": "ABX9TyPvqPQR4U98p2qGtV3RgM7D",
      "include_colab_link": true
    },
    "kernelspec": {
      "name": "python3",
      "display_name": "Python 3"
    },
    "language_info": {
      "name": "python"
    }
  },
  "cells": [
    {
      "cell_type": "markdown",
      "metadata": {
        "id": "view-in-github",
        "colab_type": "text"
      },
      "source": [
        "<a href=\"https://colab.research.google.com/github/ThanhTung53/Tuhu/blob/main/Lap_trinh.ipynb\" target=\"_parent\"><img src=\"https://colab.research.google.com/assets/colab-badge.svg\" alt=\"Open In Colab\"/></a>"
      ]
    },
    {
      "cell_type": "markdown",
      "metadata": {
        "id": "bnEjr_mX7bsH"
      },
      "source": [
        "Bài 1: Lập trình nhập vào từ bàn phím 2 số nguyên và tính\n",
        "\n",
        "1.Tổng của 2 số\n",
        "\n",
        "2.Tích của 2 số\n",
        "\n",
        "3.Hiệu của 2 số\n",
        "\n",
        "4.Phép chia lấy phần dư của 2 số\n",
        "\n",
        "5.Phép chia lấy phần nguyên của 2 số"
      ]
    },
    {
      "cell_type": "code",
      "metadata": {
        "colab": {
          "base_uri": "https://localhost:8080/"
        },
        "id": "_hKqN3Zp6rim",
        "outputId": "7b247b5d-f5df-4572-e5b8-dc00fa34df11"
      },
      "source": [
        "a = input(\"a = \")\n",
        "b = input(\"b = \")\n",
        "a = int(a)\n",
        "b = int(b)\n",
        "\n",
        "#Tổng\n",
        "c = a + b\n",
        "print(\"a + b =\", c)\n",
        "\n",
        "#Tích\n",
        "c = a * b\n",
        "print(\"a * b =\", c)\n",
        "\n",
        "#Hiệu\n",
        "c = a - b\n",
        "print(\"a - b =\", c)\n",
        "\n",
        "#Chia lấy phần dư\n",
        "c = a % b\n",
        "print(\"a % b =\",c)\n",
        "\n",
        "#Chia lấy phần nguyên\n",
        "c = a // b\n",
        "print(\"a // b =\",c)"
      ],
      "execution_count": 2,
      "outputs": [
        {
          "output_type": "stream",
          "name": "stdout",
          "text": [
            "a = 10\n",
            "b = 5\n",
            "a + b = 15\n",
            "a * b = 50\n",
            "a - b = 5\n",
            "a % b = 0\n",
            "a // b = 2\n"
          ]
        }
      ]
    },
    {
      "cell_type": "markdown",
      "metadata": {
        "id": "-3ix03Ge8V8G"
      },
      "source": [
        "Bài 2: Lập trình nhập vào từ bàn phím 2 số thực và tính\n",
        "\n",
        "1.Tổng của 2 số\n",
        "\n",
        "2.Tích của 2 số\n",
        "\n",
        "3.Hiệu của 2 số\n",
        "\n",
        "4.Thương của 2 số"
      ]
    },
    {
      "cell_type": "code",
      "metadata": {
        "colab": {
          "base_uri": "https://localhost:8080/"
        },
        "id": "_1PRF8sZ8WIu",
        "outputId": "d1d3cba6-7f56-4fea-b43c-29511d9429a7"
      },
      "source": [
        "a = input(\"a = \")\n",
        "b = input(\"b = \")\n",
        "a = float(a)\n",
        "b = float(b)\n",
        "\n",
        "#Tổng\n",
        "c = a + b\n",
        "print(\"a + b =\",c)\n",
        "\n",
        "#Tích\n",
        "c = a * b\n",
        "print(\"a * b =\",c)\n",
        "\n",
        "#Hiệu\n",
        "c = a - b\n",
        "print(\"a - b =\",c)\n",
        "\n",
        "#Thương\n",
        "c = a / b\n",
        "print(\"a / b =\",c)"
      ],
      "execution_count": 4,
      "outputs": [
        {
          "output_type": "stream",
          "name": "stdout",
          "text": [
            "a = 10\n",
            "b = 5\n",
            "a + b = 15.0\n",
            "a * b = 50.0\n",
            "a - b = 5.0\n",
            "a / b = 2.0\n"
          ]
        }
      ]
    },
    {
      "cell_type": "markdown",
      "metadata": {
        "id": "-vi0HoIy8l6Y"
      },
      "source": [
        "Bài 3: Nhập một số từ bàn phím và tính\n",
        "\n",
        "1.Trị tuyệt đối\n",
        "\n",
        "2.Lấy phần nguyên của số\n",
        "\n",
        "3.Chuyển đổi thành số thực\n",
        "\n",
        "4.(Nhập thêm 1 số từ bàn phím) và tính lũy thừa  $ x^y $\n",
        "\n",
        "5.Tính căn bậc hai"
      ]
    },
    {
      "cell_type": "code",
      "metadata": {
        "colab": {
          "base_uri": "https://localhost:8080/"
        },
        "id": "OgbH1nI_8mIt",
        "outputId": "87718660-265f-48a4-8e7e-02d868c60ac4"
      },
      "source": [
        "x = 25\n",
        "#Trị tuyệt đối\n",
        "print(abs(x))\n",
        "\n",
        "#Phần nguyên của số\n",
        "x = int(x)\n",
        "print(x)\n",
        "\n",
        "#Chuyển đổi thành số thực\n",
        "a = float(x)\n",
        "print(a)\n",
        "\n",
        "#Tính lũy thừa\n",
        "y = 2\n",
        "b = pow(x,y)\n",
        "print(b)\n",
        "\n",
        "#Căn bậc hai\n",
        "import math\n",
        "c = math.sqrt(x)\n",
        "print(c)"
      ],
      "execution_count": 20,
      "outputs": [
        {
          "output_type": "stream",
          "name": "stdout",
          "text": [
            "25\n",
            "25\n",
            "25.0\n",
            "625\n",
            "5.0\n"
          ]
        }
      ]
    },
    {
      "cell_type": "markdown",
      "metadata": {
        "id": "rWCNcUB99AHD"
      },
      "source": [
        "Bài 4: Nhập 2 số từ bàn phím và thực hiện các phép so sánh sau giữa 2 số\n",
        "\n",
        "1.≥\n",
        "\n",
        "2.≤\n",
        "\n",
        "3.>\n",
        "\n",
        "4.<\n",
        "\n",
        "5.≠"
      ]
    },
    {
      "cell_type": "code",
      "metadata": {
        "colab": {
          "base_uri": "https://localhost:8080/"
        },
        "id": "TWYIq-gz9ASG",
        "outputId": "e55a976a-2481-4077-ba90-415c153a6993"
      },
      "source": [
        "x = 5\n",
        "y = 10\n",
        "\n",
        "print(x >= y)\n",
        "print(x <= y)\n",
        "print(x > y)\n",
        "print(x < y)\n",
        "print(x != y)"
      ],
      "execution_count": 9,
      "outputs": [
        {
          "output_type": "stream",
          "name": "stdout",
          "text": [
            "False\n",
            "True\n",
            "False\n",
            "True\n",
            "True\n"
          ]
        }
      ]
    },
    {
      "cell_type": "markdown",
      "metadata": {
        "id": "3s_8FvUc9dmq"
      },
      "source": [
        "Bài 5: Nhập 1 chuỗi kí tự từ bàn phím\n",
        "\n",
        "1.Chuyển thành chuỗi in hoa\n",
        "\n",
        "2.Chuyển thành chuỗi in thường"
      ]
    },
    {
      "cell_type": "code",
      "metadata": {
        "colab": {
          "base_uri": "https://localhost:8080/"
        },
        "id": "3T33fpvt9d0M",
        "outputId": "37645bf2-7d79-4ea2-96fa-8187fa8e97bd"
      },
      "source": [
        "a = \"my name is huynh thanh tung\"\n",
        "print(a.upper())\n",
        "\n",
        "a = \"MY NAME IS HUYNH THANH TUNG\"\n",
        "print(a.lower())"
      ],
      "execution_count": 1,
      "outputs": [
        {
          "output_type": "stream",
          "name": "stdout",
          "text": [
            "MY NAME IS HUYNH THANH TUNG\n",
            "my name is huynh thanh tung\n"
          ]
        }
      ]
    },
    {
      "cell_type": "markdown",
      "metadata": {
        "id": "cZh7txkz9qrh"
      },
      "source": [
        "Bài 6: Xuất ra màn hình 1 chuỗi ký tự nằm trên nhiều hàng"
      ]
    },
    {
      "cell_type": "code",
      "metadata": {
        "colab": {
          "base_uri": "https://localhost:8080/"
        },
        "id": "smAYKfIC_NVK",
        "outputId": "561f1fdb-592c-4f02-bcc8-beb443a80cfa"
      },
      "source": [
        "a = \"\"\"Huawei Chief Financial Officer Meng Wanzhou\n",
        "flew home to China on Friday\n",
        "after reaching an agreement with U.S. prosecutors\"\"\"\n",
        "print(a)"
      ],
      "execution_count": 21,
      "outputs": [
        {
          "output_type": "stream",
          "name": "stdout",
          "text": [
            "Huawei Chief Financial Officer Meng Wanzhou\n",
            "flew home to China on Friday\n",
            "after reaching an agreement with U.S. prosecutors\n"
          ]
        }
      ]
    }
  ]
}