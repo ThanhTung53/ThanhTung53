{
  "nbformat": 4,
  "nbformat_minor": 0,
  "metadata": {
    "colab": {
      "name": "Campus_Info.ipynb",
      "provenance": [],
      "include_colab_link": true
    },
    "kernelspec": {
      "name": "python3",
      "display_name": "Python 3"
    },
    "language_info": {
      "name": "python"
    }
  },
  "cells": [
    {
      "cell_type": "markdown",
      "metadata": {
        "id": "view-in-github",
        "colab_type": "text"
      },
      "source": [
        "<a href=\"https://colab.research.google.com/github/ThanhTung53/Tuhu/blob/main/Campus_Info.ipynb\" target=\"_parent\"><img src=\"https://colab.research.google.com/assets/colab-badge.svg\" alt=\"Open In Colab\"/></a>"
      ]
    },
    {
      "cell_type": "markdown",
      "metadata": {
        "id": "pkf7lPBJ3csW"
      },
      "source": [
        "Vẽ biểu đồ UML và lập trình\n",
        "- Lớp Person có các thuộc tính: name, gender, phone; phương thức outputPerson\n",
        "- Lớp Student thừa kế lớp Person và có các thuộc tính riêng: studentID, class (giải thích: sinh viên năm 1 hoặc 2, 3, 4); phương thức outputStudent\n",
        "- Lớp Lecturer thừa kế lớp Person và có các thuộc tính riêng: lecturerID, yearsOfExperience; phương thức outputLecturer"
      ]
    },
    {
      "cell_type": "code",
      "metadata": {
        "id": "PMbZMnYD3S1o",
        "colab": {
          "base_uri": "https://localhost:8080/"
        },
        "outputId": "0728c267-e65c-4ca0-c12f-0364f755f9ed"
      },
      "source": [
        "class Person():\n",
        "  name: str\n",
        "  gender: str\n",
        "  phone: int\n",
        "\n",
        "  def __init__(self, name, gender, phone) -> None:\n",
        "    super().__init__()\n",
        "    self.name = name\n",
        "    self.gender = gender\n",
        "    self.phone = phone\n",
        "\n",
        "  def outputPerson(self) -> str:\n",
        "      result = \"Name: \" + self.name + \"\\tGender: \" + self.gender + \"\\tPhone\" + str(self.phone)\n",
        "      return result\n",
        "\n",
        "class Student(Person):\n",
        "  studentID: int\n",
        "  class1: str\n",
        "\n",
        "  def __init__(self, name, gender, phone, studentID, class1) -> None:\n",
        "    Person.__init__(self, name, gender, phone) \n",
        "    self.studentID = studentID\n",
        "    self.class1 = class1\n",
        "\n",
        "  def outputStudent(self) -> str:\n",
        "    result = self.outputPerson() + \"\\n\\tStudentID: \" + str(self.studentID) + \"\\tClass1: \" + str(self.class1)\n",
        "    return result\n",
        "\n",
        "class Lecturer(Person):\n",
        "  lecturerID: int\n",
        "  yearOfExperience: int\n",
        "\n",
        "  def __init__(self, name, gender, phone, lecturerID, yearOfExperience) -> None:\n",
        "    Person.__init__(self, name, gender, phone) \n",
        "    self.lecturerID = lecturerID\n",
        "    self.yearOfExperience = yearOfExperience\n",
        "\n",
        "  def outputLecturer(self) -> str:\n",
        "    result = self.outputPerson() + \"\\n\\tLecturerID: \" + str(self.lecturerID) + \"\\tYearOfExperience: \" + str(self.yearOfExperience)\n",
        "    return result\n",
        "\n",
        "def main():\n",
        "  tung = Person(\"Thanh Tung\", \"Nam\", \"123456789\")\n",
        "  tung1 = Student(\"Huynh Tung\", \"Nam\", \"234567891\", 234, \"DS&AI\")\n",
        "  tung2 = Lecturer(\"Tung Nguyen\", \"Nam\", \"456789123\", 3897, 3)\n",
        "  print(tung.outputPerson())\n",
        "  print(tung1.outputStudent())\n",
        "  print(tung2.outputLecturer())\n",
        "\n",
        "if __name__ == \"__main__\":\n",
        "    main()\n"
      ],
      "execution_count": 14,
      "outputs": [
        {
          "output_type": "stream",
          "name": "stdout",
          "text": [
            "Name: Thanh Tung\tGender: Nam\tPhone123456789\n",
            "Name: Huynh Tung\tGender: Nam\tPhone234567891\n",
            "\tStudentID: 234\tClass1: DS&AI\n",
            "Name: Tung Nguyen\tGender: Nam\tPhone456789123\n",
            "\tLecturerID: 3897\tYearOfExperience: 3\n"
          ]
        }
      ]
    }
  ]
}