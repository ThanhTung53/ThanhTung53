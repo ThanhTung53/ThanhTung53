{
  "nbformat": 4,
  "nbformat_minor": 0,
  "metadata": {
    "colab": {
      "name": "Distance.ipynb",
      "provenance": [],
      "authorship_tag": "ABX9TyNyBTtOzv3W2NipUdek3KEo",
      "include_colab_link": true
    },
    "kernelspec": {
      "name": "python3",
      "display_name": "Python 3"
    },
    "language_info": {
      "name": "python"
    }
  },
  "cells": [
    {
      "cell_type": "markdown",
      "metadata": {
        "id": "view-in-github",
        "colab_type": "text"
      },
      "source": [
        "<a href=\"https://colab.research.google.com/github/ThanhTung53/Tuhu/blob/main/Distance.ipynb\" target=\"_parent\"><img src=\"https://colab.research.google.com/assets/colab-badge.svg\" alt=\"Open In Colab\"/></a>"
      ]
    },
    {
      "cell_type": "code",
      "metadata": {
        "id": "YdBlzecggbXc"
      },
      "source": [
        "interest_rate = float(input(\"The interest rate is: \"))\n",
        "number_of_year = float(input(\"The number of year is: \"))\n",
        "loan_amount = float(input(\"The loan amount: \"))\n",
        "a = (1 + interest_rate)**(number_of_year*12)\n",
        "a = 1/a\n",
        "denominator = 1 - a\n",
        "numerator = loan_amount*interest_rate\n",
        "monthlyPayment = numerator/denominator\n",
        "print(monthlyPayment)"
      ],
      "execution_count": null,
      "outputs": []
    },
    {
      "cell_type": "code",
      "metadata": {
        "id": "dUfZOin4ji0L"
      },
      "source": [
        "import math\n",
        "a = float(input(\"nhap x cua a\"))\n",
        "b = float(input(\"nhap y cua a\"))\n",
        "c = float(input(\"nhap x cua b\"))\n",
        "d = float(input(\"nhap y cua b\"))\n",
        "khoang_cach = math.sqrt((c - a)**2 + (d - b)**2)\n",
        "print(khoang_cach)"
      ],
      "execution_count": null,
      "outputs": []
    }
  ]
}