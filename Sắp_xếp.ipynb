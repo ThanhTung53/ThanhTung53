{
  "nbformat": 4,
  "nbformat_minor": 0,
  "metadata": {
    "colab": {
      "name": "Sắp_xếp.ipynb",
      "provenance": [],
      "authorship_tag": "ABX9TyP4UhJJ0XZzQBizS2Wi76J4",
      "include_colab_link": true
    },
    "kernelspec": {
      "name": "python3",
      "display_name": "Python 3"
    },
    "language_info": {
      "name": "python"
    }
  },
  "cells": [
    {
      "cell_type": "markdown",
      "metadata": {
        "id": "view-in-github",
        "colab_type": "text"
      },
      "source": [
        "<a href=\"https://colab.research.google.com/github/ThanhTung53/Tuhu/blob/main/S%E1%BA%AFp_x%E1%BA%BFp.ipynb\" target=\"_parent\"><img src=\"https://colab.research.google.com/assets/colab-badge.svg\" alt=\"Open In Colab\"/></a>"
      ]
    },
    {
      "cell_type": "markdown",
      "metadata": {
        "id": "XICncnZZ0SR-"
      },
      "source": [
        "**Bài 1:** Viết chương trình nhập vào từ bàn phím một danh sách gồm 10 số nguyên và thực hiện các\n",
        "yêu cầu sau:\n",
        "- Sắp xếp danh sách trên theo chiều tăng dần\n",
        "- In kết quả ra màn hình"
      ]
    },
    {
      "cell_type": "code",
      "metadata": {
        "colab": {
          "base_uri": "https://localhost:8080/"
        },
        "id": "CFMvAHmR0yEj",
        "outputId": "28cf28d5-f8d1-460e-9cf5-6927d3cd827a"
      },
      "source": [
        "a = [9,7,5,8,6,3,4,1,2]\n",
        "for x in range(len(a)):\n",
        "  for y in range(x + 1, len(a)):\n",
        "    if (a[x] > a[y]):\n",
        "      a[x], a[y] = a[y], a[x]\n",
        "print(\"Danh sách tăng dần: \",a) "
      ],
      "execution_count": null,
      "outputs": [
        {
          "output_type": "stream",
          "name": "stdout",
          "text": [
            "Danh sách tăng dần:  [1, 2, 3, 4, 5, 6, 7, 8, 9]\n"
          ]
        }
      ]
    },
    {
      "cell_type": "markdown",
      "metadata": {
        "id": "EOV-mwpy0SWo"
      },
      "source": [
        "**Bài 2:** Viết chương trình thực hiện các yêu cầu sau:\n",
        "- Xây dựng hàm có tên **nhap_danh_sach_so_nguyen(n)**, trong đó:\n",
        "\n",
        "o Tham số đầu vào n là số phần tử của danh sách;\n",
        "\n",
        "o Hàm này trả về một danh sách gồm n số nguyên được nhập vào từ bàn phím\n",
        "- Xây dựng hàm có tên **sap_xep_danh_sach(x)**, trong đó:\n",
        "\n",
        "o Tham số đầu vào x là một danh sách các số nguyên\n",
        "\n",
        "o Hàm này trả về một danh sách các số nguyên được sắp xếp theo chiều tăng dần\n",
        "- Chương trình chính (__main__) gọi thực thi 2 hàm nêu trên và in kết quả sắp xếp ra màn hình."
      ]
    },
    {
      "cell_type": "code",
      "metadata": {
        "id": "cZj_uE_T0xlC"
      },
      "source": [
        "def nhap_danh_sach_so_nguyen(n):\n",
        "  b = []\n",
        "  for i in range (n):\n",
        "    b.append(int(input(\"Input số nguyên: \")))\n",
        "  return b\n",
        "\n",
        "def sap_xep_danh_sach(b):\n",
        "  for i in range(len(b)):\n",
        "    for j in range(i + 1, len(b)):\n",
        "        if (b[i] > b[j]):\n",
        "            b[i], b[j] = b[j], b[i]\n",
        "  return b\n",
        "\n",
        "def main():\n",
        "  n = int(input(\"Input n: \"))\n",
        "  b = nhap_danh_sach_so_nguyen(n)\n",
        "  print(sap_xep_danh_sach(b))\n",
        "if __name__ == \"__main__\":\n",
        "    main()"
      ],
      "execution_count": null,
      "outputs": []
    },
    {
      "cell_type": "markdown",
      "metadata": {
        "id": "gVgZafGl0Seb"
      },
      "source": [
        "**Bài 3:** Viết chương trình nhập vào từ bàn phím một danh sách các số thực, theo các yeu cầu sau:\n",
        "- Sau khi nhập mỗi số thực từ bàn phím, chương trình hỏi người dùng có muốn tiếp tục nhập\n",
        "không. Nếu người dùng gõ ký tự n hoặc N thì kết thúc quá trình nhập;\n",
        "- Sắp xếp danh sách các số thực tren theo chiều giảm dần;\n",
        "- In kết quả ra màn hình."
      ]
    },
    {
      "cell_type": "code",
      "metadata": {
        "id": "1ypf2ymf0y1O"
      },
      "source": [
        "check = \"\"\n",
        "c = []\n",
        "\n",
        "while True:\n",
        "  c.append(float(input(\"nhập số thực: \")))\n",
        "  check = input(\"Nhấn kí tự bất kì để tiếp tục hoặc X để dừng lại: \")\n",
        "  if check in \"X\":\n",
        "    break\n",
        "for i in range(len(c)):\n",
        "    for j in range(i + 1, len(c)):\n",
        "        if (c[i] < c[j]):\n",
        "            c[i], c[j] = c[j], c[i]\n",
        "print(\"Danh sách giảm dần: \", c)\n",
        "\n",
        "def tieptuc():\n",
        "    print(\"Bạn có muốn tiếp tục tính toán\")\n",
        "    print(\"Nhập Yes để tiếp tục\\nNhập No để dừng lại\")\n",
        "    cont= input(\"Yes or No \").upper()\n",
        "    if (cont == \"YES\"):\n",
        "        main()\n",
        "    else:\n",
        "        pass\n",
        "tieptuc()"
      ],
      "execution_count": null,
      "outputs": []
    },
    {
      "cell_type": "markdown",
      "metadata": {
        "id": "sTDgTq3K0Sny"
      },
      "source": [
        "**Bài 4:** Viết chương trình thực hiện các yêu cầu sau:\n",
        "- Xây dựng hàm **nhap_danh_sach_so_thuc( )** thỏa mãn các yêu cầu sau:\n",
        "\n",
        "o Sau khi nhập mỗi số thực từ bàn phím, chương trình hỏi người dùng có muốn tiếp\n",
        "tục nhập không. Nếu người dùng gõ ký tự n hoặc N thì kết thúc quá trình nhập;\n",
        "\n",
        "o Hàm trả về danh sách các số thực đã nhập.\n",
        "- Xây dựng hàm **sap_xep_danh_sach_so_thuc(x)**, với:\n",
        "\n",
        "o Tham số đầu vào x là một danh sách các số thực;\n",
        "\n",
        "o Hàm này trả về một danh sách các số thực được sắp xếp theo chiều giảm dần\n",
        "\n",
        "- Chương trình chính (__main__) gọi thực thi 2 hàm nêu trên và in kết quả sắp xếp ra màn\n",
        "hình."
      ]
    },
    {
      "cell_type": "code",
      "metadata": {
        "id": "9jYuBE6d0zNB"
      },
      "source": [
        "def nhap_danh_sach_so_thuc():\n",
        "    d = []\n",
        "    while True:\n",
        "        n = float(input(\"Các phần tử của danh sách: \"))\n",
        "        d.append(n)\n",
        "        print(\"Nhập Yes để tiếp tục hoặc No để kết thúc: \")\n",
        "        selection = input().upper()\n",
        "        if (selection == \"NO\"):\n",
        "            return d\n",
        "\n",
        "def sap_xep_danh_sach_so_thuc(x):\n",
        "    for i in range(len(x)):\n",
        "        for j in range(i + 1, len(x)):\n",
        "            if (x[i] < x[j]):\n",
        "                x[i], x[j] = x[j], x[i]\n",
        "    return x\n",
        "\n",
        "def main():\n",
        "    x = nhap_danh_sach_so_thuc()\n",
        "    print(\"Danh sách trước khi sắp xếp: \",x)\n",
        "    print(\"Danh sách sau khi sắp xếp: \",sap_xep_danh_sach_so_thuc(x))\n",
        "if __name__==\"__main__\":\n",
        "    main()"
      ],
      "execution_count": null,
      "outputs": []
    },
    {
      "cell_type": "markdown",
      "metadata": {
        "id": "giFumVHi0SwR"
      },
      "source": [
        "**Bài 5:** Viết chương trình thực hiện các yêu cầu sau:\n",
        "- Sinh ngẫu nhiên 1 danh sách số nguyên gồm n phần tử. Trong đó, n được nhập vào từ bàn phím và số nguyên sinh ra nằm trong khoảng từ 0 đến max_value. Giá trị max_value được nhập vào từ bàn phím;\n",
        "- Hỏi người dùng lựa chọn sắp xếp danh sách trên theo chiều tăng dần hay giảm dần và sắp xếp danh sách theo lựa chọn của người dùng;\n",
        "- In kết quả sắp xếp ra màn hình."
      ]
    },
    {
      "cell_type": "code",
      "metadata": {
        "id": "arZ_E1Ay00HL"
      },
      "source": [
        "import random\n",
        "e = []\n",
        "f = int(input(\"Số phần tử: \"))\n",
        "check = 0\n",
        "max_value = int(input(\"Giá trị max_value: \"))\n",
        "\n",
        "for i in range(f):\n",
        "  e.append(random.randint(0, max_value))\n",
        "while True:\n",
        "  check = int(input(\"Lựa chọn (1) tăng dần, (2) giảm dần: \"))\n",
        "  \n",
        "  if (check == 1): \n",
        "    print(sap_xep_danh_sach(e))\n",
        "    break\n",
        "  elif (check == 2):\n",
        "    print(sap_xep_danh_sach_so_thuc(e))\n",
        "    break"
      ],
      "execution_count": null,
      "outputs": []
    },
    {
      "cell_type": "markdown",
      "metadata": {
        "id": "qzNsBCx80S3c"
      },
      "source": [
        "**Bài 6:** Viết chương trình thực hiện các yêu cầu sau:\n",
        "- Xây dựng hàm **sinh_ngau_nhien_danh_sach_so_nguyen( )**, thực hiện các thao tác sau:\n",
        "\n",
        "o Sinh ngẫu nhiên 1 danh sách số nguyên gồm n phần tử;\n",
        "\n",
        "o Trong đó, n được nhập vào từ bàn phím và số nguyên sinh ra nằm trong khoảng từ\n",
        "0 đến max_value;\n",
        "\n",
        "o Giá trị max_value được nhập vào từ bàn phím;\n",
        "\n",
        "o Hàm này trả về danh sách các số nguyên được sinh ngẫu nhiên ở trên.\n",
        "\n",
        "- Xây dựng hàm **sap_xep_giam_dan(x)**, trong đó:\n",
        "\n",
        "o Tham số đầu vào x là một danh sách các số nguyên;\n",
        "\n",
        "o Hàm này trả về một danh sách các số nguyên được sắp xếp theo chiều giảm dần.\n",
        "\n",
        "- Xây dựng hàm **sap_xep_tang_dan(x)**, trong đó:\n",
        "\n",
        "o Tham số đầu vào x là một danh sách các số nguyên;\n",
        "\n",
        "o Hàm này trả về một danh sách các số nguyên được sắp xếp theo chiều tăng dần.\n",
        "\n",
        "- Chương trình chính (__main__) gọi thực hiện các hàm trên và in kết quả ra màn hình."
      ]
    },
    {
      "cell_type": "code",
      "metadata": {
        "id": "mUGzWqZv001y"
      },
      "source": [
        "def sinh_ngau_nhien_danh_sach_so_nguyen(n,max_value):\n",
        "    import random\n",
        "    l1 = []\n",
        "    for i in range(n):\n",
        "        l1.append(random.randint(0, max_value))\n",
        "    return l1\n",
        "\n",
        "def sap_xep_giam_dan(x):\n",
        "    for i in range(len(x)):\n",
        "        for j in range(i + 1, len(x)):\n",
        "            if x[i] < x[j]:\n",
        "                x[i], x[j] = x[j], x[i]\n",
        "    return x\n",
        "\n",
        "def sap_xep_tang_dan(x):\n",
        "    for i in range(len(x)):\n",
        "        for j in range(i + 1, len(x)):\n",
        "            if x[i] > x[j]:\n",
        "                x[i], x[j] = x[j], x[i]\n",
        "    return x\n",
        "\n",
        "def main():\n",
        "    n = int(input(\"Số phần tử của danh sách: \"))\n",
        "    max_value = int(input(\"Giới hạn random: \"))\n",
        "    x = sinh_ngau_nhien_danh_sach_so_nguyen(n,max_value)\n",
        "    print(\"Danh sách sắp xếp tăng dần: \",sap_xep_tang_dan(x))\n",
        "    print(\"Danh sách sắp xếp giảm dần: \",sap_xep_giam_dan(x))\n",
        "if __name__==\"__main__\":\n",
        "    main()"
      ],
      "execution_count": null,
      "outputs": []
    }
  ]
}