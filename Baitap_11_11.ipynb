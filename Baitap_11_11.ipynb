{
  "nbformat": 4,
  "nbformat_minor": 0,
  "metadata": {
    "colab": {
      "name": "Baitap_11-11.ipynb",
      "provenance": [],
      "authorship_tag": "ABX9TyPb7mhl+rG4OOdGBzKUnNdo",
      "include_colab_link": true
    },
    "kernelspec": {
      "name": "python3",
      "display_name": "Python 3"
    },
    "language_info": {
      "name": "python"
    }
  },
  "cells": [
    {
      "cell_type": "markdown",
      "metadata": {
        "id": "view-in-github",
        "colab_type": "text"
      },
      "source": [
        "<a href=\"https://colab.research.google.com/github/ThanhTung53/Tuhu/blob/main/Baitap_11_11.ipynb\" target=\"_parent\"><img src=\"https://colab.research.google.com/assets/colab-badge.svg\" alt=\"Open In Colab\"/></a>"
      ]
    },
    {
      "cell_type": "markdown",
      "metadata": {
        "id": "08B39TTxvZJb"
      },
      "source": [
        "Computing Loan Payments"
      ]
    },
    {
      "cell_type": "code",
      "metadata": {
        "colab": {
          "base_uri": "https://localhost:8080/"
        },
        "id": "za1He6Z6usSC",
        "outputId": "4af0eb73-2b47-40d5-c212-0225f59ee83f"
      },
      "source": [
        "monthly_interest_rate = float(input(\"The monthly interest rate: \"))\n",
        "loan_amount = float(input(\"The loan amount: \"))\n",
        "number_of_years = float(input(\"The number of years: \"))\n",
        "\n",
        "a = (1 + monthly_interest_rate)**(number_of_years*12)\n",
        "a = 1/a\n",
        "\n",
        "numerator = loan_amount*monthly_interest_rate\n",
        "denominator = 1 - a\n",
        "\n",
        "monthlyPayment = numerator/denominator\n",
        "print(\"The monthyPayment: \",monthlyPayment)"
      ],
      "execution_count": 2,
      "outputs": [
        {
          "output_type": "stream",
          "name": "stdout",
          "text": [
            "The monthly interest rate: 12\n",
            "The loan amount: 5\n",
            "The number of years: 7\n",
            "The monthyPayment:  60.0\n"
          ]
        }
      ]
    },
    {
      "cell_type": "markdown",
      "metadata": {
        "id": "24c00L9fybN-"
      },
      "source": [
        "Computing Distances\n"
      ]
    },
    {
      "cell_type": "code",
      "metadata": {
        "colab": {
          "base_uri": "https://localhost:8080/"
        },
        "id": "aTmdOT5RybfH",
        "outputId": "472cebc3-fa74-4616-cb40-2b8f28508b9b"
      },
      "source": [
        "import math\n",
        "#A(x1,y1)\n",
        "x1 = float(input(\"Enter x1: \"))\n",
        "y1 = float(input(\"Enter y1: \"))\n",
        "\n",
        "#B(x2,y2)\n",
        "x2 = float(input(\"Enter x2: \"))\n",
        "y2 = float(input(\"Enter y2: \"))\n",
        "\n",
        "#Distances\n",
        "distances = math.sqrt((x2 - x1)**2 + (y2 - y1)**2)\n",
        "print(\"The distance between A and B: \",distances)"
      ],
      "execution_count": 4,
      "outputs": [
        {
          "output_type": "stream",
          "name": "stdout",
          "text": [
            "Enter x1: 3\n",
            "Enter y1: 5\n",
            "Enter x2: 8\n",
            "Enter y2: 10\n",
            "The distance between A and B:  7.0710678118654755\n"
          ]
        }
      ]
    }
  ]
}