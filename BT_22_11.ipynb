{
  "nbformat": 4,
  "nbformat_minor": 0,
  "metadata": {
    "colab": {
      "name": "BT_22_11.ipynb",
      "provenance": [],
      "authorship_tag": "ABX9TyM3hD5bpDDOpZIBPMIlDD1Y",
      "include_colab_link": true
    },
    "kernelspec": {
      "name": "python3",
      "display_name": "Python 3"
    },
    "language_info": {
      "name": "python"
    }
  },
  "cells": [
    {
      "cell_type": "markdown",
      "metadata": {
        "id": "view-in-github",
        "colab_type": "text"
      },
      "source": [
        "<a href=\"https://colab.research.google.com/github/ThanhTung53/Tuhu/blob/main/BT_22_11.ipynb\" target=\"_parent\"><img src=\"https://colab.research.google.com/assets/colab-badge.svg\" alt=\"Open In Colab\"/></a>"
      ]
    },
    {
      "cell_type": "markdown",
      "metadata": {
        "id": "G3L8i9oPQZjT"
      },
      "source": [
        "**Bài 1:** Viết chương trình tìm tất cả các số chia hết cho 7 nhưng không phải bội số của 5, nằm trong\n",
        "đoạn 10 và 200 (tính cả 10 và 200). Các số thu được sẽ được in ra màn hình."
      ]
    },
    {
      "cell_type": "code",
      "metadata": {
        "colab": {
          "base_uri": "https://localhost:8080/"
        },
        "id": "VXWO4cBBQ8Qz",
        "outputId": "b39acb18-7b6e-47b7-f313-2a364e5c89c3"
      },
      "source": [
        "x = []\n",
        "for y in range(10,201):\n",
        "    if (y % 7 == 0) and (y % 5 != 0):\n",
        "        x.append(str(y))\n",
        "print(x)"
      ],
      "execution_count": null,
      "outputs": [
        {
          "output_type": "stream",
          "name": "stdout",
          "text": [
            "['14', '21', '28', '42', '49', '56', '63', '77', '84', '91', '98', '112', '119', '126', '133', '147', '154', '161', '168', '182', '189', '196']\n"
          ]
        }
      ]
    },
    {
      "cell_type": "markdown",
      "metadata": {
        "id": "XdSomF5zQZod"
      },
      "source": [
        "**Bài 2:** Viết một chương trình tính giai thừa của một số nguyên dương n. Với n được nhập từ bàn\n",
        "phím. Ví dụ, n = 8 thì kết quả đầu ra phải là 1*2*3*4*5*6*7*8 = 40320."
      ]
    },
    {
      "cell_type": "code",
      "metadata": {
        "colab": {
          "base_uri": "https://localhost:8080/"
        },
        "id": "9F9B8_J_Q8uz",
        "outputId": "92c12567-c63a-4f9d-d66d-fa7c5fd34580"
      },
      "source": [
        "x = int(input(\"Nhập số nguyên dương n: \"))\n",
        "factorial = 1\n",
        "y = 1\n",
        "\n",
        "if (y > 0):\n",
        "    for y in range(1, x + 1):\n",
        "        factorial = factorial*y\n",
        "    print(\"Giai thừa của\", x, \"là\", factorial)\n",
        "else:\n",
        "    print(\"unknown\")"
      ],
      "execution_count": null,
      "outputs": [
        {
          "output_type": "stream",
          "name": "stdout",
          "text": [
            "Nhập số nguyên dương n: 8\n",
            "Giai thừa của 8 là 40320\n"
          ]
        }
      ]
    },
    {
      "cell_type": "markdown",
      "metadata": {
        "id": "WLLBu6TkQZuF"
      },
      "source": [
        "**Bài 3:** Dãy số Fibonacci được định nghĩa như sau: F0 = 0, F1 = 1, F2 = 1, Fn = F(n-1) + F(n-2)\n",
        "với n >= 2. Ví dụ: 0, 1, 1, 2, 3, 5, 8, ... Hãy viết chương trình tìm n số Fibonacci đầu tiên với n\n",
        "nhập vào từ bàn phím."
      ]
    },
    {
      "cell_type": "code",
      "metadata": {
        "colab": {
          "base_uri": "https://localhost:8080/"
        },
        "id": "8XZ1QwPfQ91E",
        "outputId": "4ffa6649-a2fa-48cd-8f47-47e89257c711"
      },
      "source": [
        "a = int(input(\"Số giá trị Fibonacci: \"))\n",
        "b = int(input(\"Giá trị đầu tiên F(n-1): \"))\n",
        "c = int(input(\"Giá trị thứ hai F(n-2): \"))\n",
        "d = [b,c]\n",
        "x = 2\n",
        "while x < a:\n",
        "  dx = d[x - 1] + d[x - 2]\n",
        "  d.append(dx)\n",
        "  x = x + 1\n",
        "print(d)"
      ],
      "execution_count": null,
      "outputs": [
        {
          "output_type": "stream",
          "name": "stdout",
          "text": [
            "Số giá trị Fibonacci: 8\n",
            "Giá trị đầu tiên F(n-1): 0\n",
            "Giá trị thứ hai F(n-2): 1\n",
            "[0, 1, 1, 2, 3, 5, 8, 13]\n"
          ]
        }
      ]
    },
    {
      "cell_type": "markdown",
      "metadata": {
        "id": "q2U3ubAGQZ3i"
      },
      "source": [
        "**Bài 4:** Viết chương trình liệt kê tất cả các số nguyên tố nhỏ hơn n. Số nguyên dương n được nhập\n",
        "từ bàn phím."
      ]
    },
    {
      "cell_type": "code",
      "metadata": {
        "colab": {
          "base_uri": "https://localhost:8080/"
        },
        "id": "wD7g5_h2Q-SL",
        "outputId": "3bf29b01-f39f-49ee-9846-abdb0ae5a4a8"
      },
      "source": [
        "import math\n",
        "a = int(input(\"Enter the number: \"))\n",
        "\n",
        "for i in range(0, a):\n",
        "  if (i > 1):\n",
        "    for j in range(2,i):\n",
        "      if (i % j == 0):\n",
        "        break\n",
        "    else:\n",
        "      print(i, end = \" \")"
      ],
      "execution_count": null,
      "outputs": [
        {
          "output_type": "stream",
          "name": "stdout",
          "text": [
            "Enter the number: 8\n",
            "2 3 5 7 "
          ]
        }
      ]
    },
    {
      "cell_type": "markdown",
      "metadata": {
        "id": "10-RV2y3QaBK"
      },
      "source": [
        "**Bài 5:** Viết chương trình liệt kê n số nguyên tố đầu tiên. Số nguyên dương n được nhập từ bàn\n",
        "phím."
      ]
    },
    {
      "cell_type": "code",
      "metadata": {
        "colab": {
          "base_uri": "https://localhost:8080/"
        },
        "id": "Ngp2HIDaQ_Fi",
        "outputId": "158a333b-34d9-4c56-c1a7-cf946d3a96c8"
      },
      "source": [
        "a = int(input(\"Enter the figure for prime number: \"))\n",
        "print(\"Prime numbers: \", end=' ')\n",
        "\n",
        "for x in range(1, a):\n",
        "    for y in range(2, x):\n",
        "        if(x % y == 0):\n",
        "            break\n",
        "    else:\n",
        "        print(x, end=' ')"
      ],
      "execution_count": null,
      "outputs": [
        {
          "output_type": "stream",
          "name": "stdout",
          "text": [
            "Enter the figure for prime number: 20\n",
            "Prime numbers:  1 2 3 5 7 11 13 17 19 "
          ]
        }
      ]
    },
    {
      "cell_type": "markdown",
      "metadata": {
        "id": "ohLS07ikQaKL"
      },
      "source": [
        "**Bài 6:** Viết chương trình liệt kê tất cả số nguyên tố có 5 chữ số."
      ]
    },
    {
      "cell_type": "code",
      "metadata": {
        "id": "6aJTAun4Q_oA"
      },
      "source": [
        "for a in range(10000,99999):\n",
        "  for b in range(2,1):\n",
        "    if a % b == 0:\n",
        "      break\n",
        "  else:\n",
        "    print(a, end = \" \")"
      ],
      "execution_count": null,
      "outputs": []
    },
    {
      "cell_type": "markdown",
      "metadata": {
        "id": "QSB_J1BOQaUH"
      },
      "source": [
        "**Bài 7:** Viết chương trình tính tổng của các chữ số của môt số nguyên n. Số nguyên dương n được\n",
        "nhập từ bàn phím. Ví dụ: n = 1234, tổng các chữ số: 1 + 2 + 3 + 4 = 10"
      ]
    },
    {
      "cell_type": "code",
      "metadata": {
        "colab": {
          "base_uri": "https://localhost:8080/"
        },
        "id": "felr6ftIRAEQ",
        "outputId": "f538b6a1-5794-413a-f203-7b7413edc106"
      },
      "source": [
        "a = int(input(\"Nhập số nguyên dương: \"))\n",
        "b = str(a)\n",
        "c = 0\n",
        "for x in b:\n",
        "  y = int(x)\n",
        "  c = c + y\n",
        "print(\"Tống các chữ số: \",c)"
      ],
      "execution_count": null,
      "outputs": [
        {
          "output_type": "stream",
          "name": "stdout",
          "text": [
            "Nhập số nguyên dương: 1234\n",
            "Tống các chữ số:  10\n"
          ]
        }
      ]
    },
    {
      "cell_type": "markdown",
      "metadata": {
        "id": "f14XPXgsQabM"
      },
      "source": [
        "**Bài 8**: Viết chương trình liệt kê các số Fibonacci nhỏ hơn n là số nguyên tố. N là số nguyên dương\n",
        "được nhập từ bàn phím."
      ]
    },
    {
      "cell_type": "code",
      "metadata": {
        "id": "aAi8oekFRApR"
      },
      "source": [
        "a = int(input(\"Nhập n: \"))\n",
        "b = int(input(\"Số giá trị dãy Fibonaci: \"))\n",
        "c = int(input(\"Số đầu tiên (0,1): \"))\n",
        "d = int(input(\"Số thứ hai: (1)\"))\n",
        "e = [c,d]\n",
        "x = 2\n",
        "while x < b:\n",
        "  f = d[i - 1] + d[i - 2]\n",
        "  e.append(f)\n",
        "  x += 1\n",
        "print(\"Liệt kê Fibonaci: \",e)\n",
        "print(\"Số Fibonaci hơn n là số nguyên tố: \")\n",
        "for y in e:\n",
        "  if (y < n and y > 1):\n",
        "   for j in range(2,x):\n",
        "        if y % j==0 :\n",
        "         break\n",
        "   else:\n",
        "      print(y, end=\" \")"
      ],
      "execution_count": null,
      "outputs": []
    }
  ]
}