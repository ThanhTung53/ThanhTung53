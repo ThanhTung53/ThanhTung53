{
  "nbformat": 4,
  "nbformat_minor": 0,
  "metadata": {
    "colab": {
      "name": "Phiên 2.ipynb",
      "provenance": [],
      "authorship_tag": "ABX9TyMCKB8732PO7oKryw0VEYog",
      "include_colab_link": true
    },
    "kernelspec": {
      "name": "python3",
      "display_name": "Python 3"
    },
    "language_info": {
      "name": "python"
    }
  },
  "cells": [
    {
      "cell_type": "markdown",
      "metadata": {
        "id": "view-in-github",
        "colab_type": "text"
      },
      "source": [
        "<a href=\"https://colab.research.google.com/github/ThanhTung53/Tuhu/blob/main/Phi%C3%AAn_2.ipynb\" target=\"_parent\"><img src=\"https://colab.research.google.com/assets/colab-badge.svg\" alt=\"Open In Colab\"/></a>"
      ]
    },
    {
      "cell_type": "markdown",
      "metadata": {
        "id": "pYj50N2EmKxK"
      },
      "source": [
        "Write a Python program to find the number of days in a month\n",
        "\n"
      ]
    },
    {
      "cell_type": "code",
      "metadata": {
        "colab": {
          "base_uri": "https://localhost:8080/"
        },
        "id": "PcISqqVWlyKg",
        "outputId": "7eb60894-354f-4851-85fa-1d992f7c63d0"
      },
      "source": [
        "a = int(input(\"Input a month: \"))\n",
        "b = int(input(\"Input a year: \"))\n",
        "if (a > 12) or (a < 1):\n",
        "  print(\"unknown\")\n",
        "else:\n",
        "  if(a == 1 or a == 3 or a == 5 or a == 7 or a == 8 or a == 10 or a == 12):\n",
        "\t  print(a, b, \"has 31 days\")\n",
        "  elif((a == 2 and ((b % 400 == 0) or (b % 4 == 0 ))):\t\n",
        "\t  print(a, \"of\", b, \"is leap year and has 29 days\")\n",
        "  elif(a == 2):\n",
        "\t  print(a, b,\"has 28 days\")\n",
        "  else:\n",
        "\t  print(a, b,\"has 30 days\") "
      ],
      "execution_count": 15,
      "outputs": [
        {
          "output_type": "stream",
          "name": "stdout",
          "text": [
            "Input a month: 2\n",
            "Input a year: 2016\n",
            "2 of 2016 is leap year and has 29 days\n"
          ]
        }
      ]
    },
    {
      "cell_type": "markdown",
      "metadata": {
        "id": "iQhAGC2In5sR"
      },
      "source": [
        "Write a Python program that takes the user to provide a single character from the alphabet. Print Vowel or Consonant, depending on the user input. If the user input is not a letter (between a and z or A and Z) or is a string of length > 1, print an error message."
      ]
    },
    {
      "cell_type": "code",
      "metadata": {
        "colab": {
          "base_uri": "https://localhost:8080/"
        },
        "id": "X-4_rsFeoEj8",
        "outputId": "df575ae5-6ac9-41cd-8740-4bbe875be59b"
      },
      "source": [
        "a = input(\"Input an alphabet: \")\n",
        "if(a == \"a\" or a == \"e\" or a == \"i\" or a == \"o\" or a == \"u\" or a == \"A\" or a == \"E\" or a == \"I\" or a == \"O\" or a == \"U\"):\n",
        "  print(\"Input letter is Vowel\")\n",
        "else:\n",
        "  print(\"Input letter is Consonant\")"
      ],
      "execution_count": 18,
      "outputs": [
        {
          "output_type": "stream",
          "name": "stdout",
          "text": [
            "Input an alphabet: p\n",
            "Input letter is Consonant\n"
          ]
        }
      ]
    },
    {
      "cell_type": "markdown",
      "metadata": {
        "id": "BH7E55kRn54D"
      },
      "source": [
        "Write a Python program that takes a year from user and print whether that year is a leap year or not"
      ]
    },
    {
      "cell_type": "code",
      "metadata": {
        "colab": {
          "base_uri": "https://localhost:8080/"
        },
        "id": "5EJDrGpeoFI7",
        "outputId": "5500da7f-9db9-42b1-ada5-8c6ab410bfaf"
      },
      "source": [
        "a = int(input(\"Input the year: \"))\n",
        "\n",
        "if a % 4 == 0 and a % 100 != 0:\n",
        "    print(a, \"is a leap year\")\n",
        "elif a % 100 == 0:\n",
        "    print(a, \"is not a leap year\")\n",
        "elif a % 400 ==0:\n",
        "    print(a, \"is a leap year\")\n",
        "else:\n",
        "    print(a, \"is not a leap year\")"
      ],
      "execution_count": 19,
      "outputs": [
        {
          "output_type": "stream",
          "name": "stdout",
          "text": [
            "Input the year: 2016\n",
            "2016 is a leap year\n"
          ]
        }
      ]
    },
    {
      "cell_type": "markdown",
      "metadata": {
        "id": "VySKvFMFn6Bj"
      },
      "source": [
        "Write a program in Python to input 5 numbers from keyboard and find their sum and average."
      ]
    },
    {
      "cell_type": "code",
      "metadata": {
        "colab": {
          "base_uri": "https://localhost:8080/"
        },
        "id": "hZ3rBpexoFoh",
        "outputId": "1a1791e1-2371-4bb8-f274-2fd6e45e86da"
      },
      "source": [
        "a = float(input(\"Input 1st number: \"))\n",
        "b = float(input('Enter 2nd number: '))\n",
        "c = float(input('Enter 3rd number: '))\n",
        "d = float(input('Enter 4th number: '))\n",
        "e = float(input('Enter 5th number: '))\n",
        "\n",
        "average = (a + b + c + d + e)/5\n",
        "sum = (a + b + c + d + e)\n",
        "print(\"The average is\", average)\n",
        "print(\"The sum is\", sum)\n",
        "\n",
        "\n",
        "\n",
        "\n"
      ],
      "execution_count": 21,
      "outputs": [
        {
          "output_type": "stream",
          "name": "stdout",
          "text": [
            "Input 1st number: 1\n",
            "Enter 2nd number: 2\n",
            "Enter 3rd number: 3\n",
            "Enter 4th number: 4\n",
            "Enter 5th number: 5\n",
            "The average is 3.0\n",
            "The sum is 15.0\n"
          ]
        }
      ]
    }
  ]
}