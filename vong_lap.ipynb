{
  "nbformat": 4,
  "nbformat_minor": 0,
  "metadata": {
    "colab": {
      "name": "vong_lap.ipynb",
      "provenance": [],
      "authorship_tag": "ABX9TyMzcPccw1Xv9FB5Zp3xXNns",
      "include_colab_link": true
    },
    "kernelspec": {
      "name": "python3",
      "display_name": "Python 3"
    },
    "language_info": {
      "name": "python"
    }
  },
  "cells": [
    {
      "cell_type": "markdown",
      "metadata": {
        "id": "view-in-github",
        "colab_type": "text"
      },
      "source": [
        "<a href=\"https://colab.research.google.com/github/ThanhTung53/Tuhu/blob/main/vong_lap.ipynb\" target=\"_parent\"><img src=\"https://colab.research.google.com/assets/colab-badge.svg\" alt=\"Open In Colab\"/></a>"
      ]
    },
    {
      "cell_type": "markdown",
      "metadata": {
        "id": "15vnbXyML_mF"
      },
      "source": [
        "1.Viết chương trình tìm tất cả các số chia hết cho 7 nhưng không phải bội số của 5, nằm trong đoạn 10 và 200 (tính cả 10 và 200). Các số thu được sẽ được in ra màn hình."
      ]
    },
    {
      "cell_type": "code",
      "metadata": {
        "colab": {
          "base_uri": "https://localhost:8080/"
        },
        "id": "s1M8eZlhL82w",
        "outputId": "253279bd-1242-466f-9c9a-5ce50f5b1a21"
      },
      "source": [
        "a = []\n",
        "for x in range (10,201):\n",
        "    if (x % 7 == 0) and (x % 5 != 0):\n",
        "        a.append(str(x))\n",
        "print(a)"
      ],
      "execution_count": 1,
      "outputs": [
        {
          "output_type": "stream",
          "name": "stdout",
          "text": [
            "['14', '21', '28', '42', '49', '56', '63', '77', '84', '91', '98', '112', '119', '126', '133', '147', '154', '161', '168', '182', '189', '196']\n"
          ]
        }
      ]
    },
    {
      "cell_type": "markdown",
      "metadata": {
        "id": "tmvWnxBnL_sl"
      },
      "source": [
        "2.Viết một chương trình tính giai thừa của một số nguyên dương n. Với n được nhập từ bàn phím. Ví dụ, n = 8 thì kết quả đầu ra phải là 1*2*3*4*5*6*7*8 = 40320."
      ]
    },
    {
      "cell_type": "code",
      "metadata": {
        "colab": {
          "base_uri": "https://localhost:8080/"
        },
        "id": "GpOWOgGHMnOg",
        "outputId": "3d3be679-6472-423f-e6b7-c5c30b3e7612"
      },
      "source": [
        "a = int(input(\"Enter the number: \"))\n",
        "if a > 0:\n",
        "    factorial = 1\n",
        "    for x in range(1, a + 1):\n",
        "        factorial = factorial*x\n",
        "    print(\"Factorial of\", a, \"is\", factorial)\n",
        "else:\n",
        "    print(\"unknown\")"
      ],
      "execution_count": 2,
      "outputs": [
        {
          "output_type": "stream",
          "name": "stdout",
          "text": [
            "Enter the number: 8\n",
            "Factorial of 8 is 40320\n"
          ]
        }
      ]
    },
    {
      "cell_type": "markdown",
      "metadata": {
        "id": "quknnMcOL_zn"
      },
      "source": [
        "3.Dãy số Fibonacci được định nghĩa như sau: F0 = 0, F1 = 1, F2 = 1, Fn = F(n-1) + F(n-2) với n >= 2. Ví dụ: 0, 1, 1, 2, 3, 5, 8, ... Hãy viết chương trình tìm n số Fibonacci đầu tiên với n nhập vào từ bàn phím."
      ]
    },
    {
      "cell_type": "code",
      "metadata": {
        "colab": {
          "base_uri": "https://localhost:8080/"
        },
        "id": "STBqm--pMnR5",
        "outputId": "8c5791d8-ef10-422d-b016-73f7ce10daa8"
      },
      "source": [
        "a = int(input(\"Số giá trị Fibonacci: \"))\n",
        "b = int(input(\"Giá trị đầu tiên (0,1): \"))\n",
        "c = int(input(\"Giá trị thứ hai (1): \"))\n",
        "d = [b,c]\n",
        "x = 2\n",
        "while x < a:\n",
        "  dx = d[x - 1] + d[x - 2]\n",
        "  d.append(dx)\n",
        "  x += 1\n",
        "print(d)"
      ],
      "execution_count": 3,
      "outputs": [
        {
          "output_type": "stream",
          "name": "stdout",
          "text": [
            "Số giá trị Fibonacci: 10\n",
            "Giá trị đầu tiên (0,1): 0\n",
            "Giá trị thứ hai (1): 1\n",
            "[0, 1, 1, 2, 3, 5, 8, 13, 21, 34]\n"
          ]
        }
      ]
    },
    {
      "cell_type": "markdown",
      "metadata": {
        "id": "qAgfPXt7L_7x"
      },
      "source": [
        "4.Viết chương trình liệt kê tất cả các số nguyên tố nhỏ hơn n. Số nguyên dương n được nhập từ bàn phím."
      ]
    },
    {
      "cell_type": "code",
      "metadata": {
        "colab": {
          "base_uri": "https://localhost:8080/"
        },
        "id": "5FB_Lsu4MnVi",
        "outputId": "bea5da9a-2ef3-499f-d714-8c3c2b825402"
      },
      "source": [
        "import math\n",
        "a = int(input(\"Enter the prime number: \"))\n",
        "for i in range(0,a):\n",
        "  if (i > 1):\n",
        "    for j in range(2,i):\n",
        "      if (i % j == 0):\n",
        "        break\n",
        "    else:\n",
        "      print(i, end = \" \")"
      ],
      "execution_count": 4,
      "outputs": [
        {
          "output_type": "stream",
          "name": "stdout",
          "text": [
            "Enter the prime number: 100\n",
            "2 3 5 7 11 13 17 19 23 29 31 37 41 43 47 53 59 61 67 71 73 79 83 89 97 "
          ]
        }
      ]
    },
    {
      "cell_type": "markdown",
      "metadata": {
        "id": "mtgDQw_1MADY"
      },
      "source": [
        "5.Viết chương trình liệt kê n số nguyên tố đầu tiên. Số nguyên dương n được nhập từ bàn phím."
      ]
    },
    {
      "cell_type": "code",
      "metadata": {
        "colab": {
          "base_uri": "https://localhost:8080/"
        },
        "id": "zp0oksDkMnZF",
        "outputId": "7dcc2e3b-1aaa-47c2-9e87-502c6a1bf2c5"
      },
      "source": [
        "a = int(input(\"Enter the figure for prime number: \"))\n",
        "print(\"Prime numbers: \", end=' ')\n",
        "\n",
        "for x in range(1, a):\n",
        "    for i in range(2, x):\n",
        "        if(x % i == 0):\n",
        "            break\n",
        "    else:\n",
        "        print(x, end=' ')"
      ],
      "execution_count": 5,
      "outputs": [
        {
          "output_type": "stream",
          "name": "stdout",
          "text": [
            "Enter the figure for prime number: 20\n",
            "Prime numbers:  1 2 3 5 7 11 13 17 19 "
          ]
        }
      ]
    },
    {
      "cell_type": "markdown",
      "metadata": {
        "id": "Sios-3CDMAK2"
      },
      "source": [
        "6.Viết chương trình liệt kê tất cả số nguyên tố có 5 chữ số."
      ]
    },
    {
      "cell_type": "code",
      "metadata": {
        "id": "C69HmvOuMpGu"
      },
      "source": [
        "for a in range(10000,99999):\n",
        "  for b in rang(2,1):\n",
        "    if a % b == 0:\n",
        "      break\n",
        "  else:\n",
        "    print(a, end = \" \")"
      ],
      "execution_count": null,
      "outputs": []
    },
    {
      "cell_type": "markdown",
      "metadata": {
        "id": "W8W8CASYMASH"
      },
      "source": [
        "7.Viết chương trình tính tổng của các chữ số của môt số nguyên n. Số nguyên dương n được nhập từ bàn phím. Ví dụ: n = 1234, tổng các chữ số: 1 + 2 + 3 + 4 = 10"
      ]
    },
    {
      "cell_type": "code",
      "metadata": {
        "colab": {
          "base_uri": "https://localhost:8080/"
        },
        "id": "UoUpQNGbMnK1",
        "outputId": "6635fb70-210d-4a80-9f36-3e4a7bba5c72"
      },
      "source": [
        "a = int(input(\"Nhập số nguyên dương: \"))\n",
        "b = str(a)\n",
        "c = 0\n",
        "for x in b:\n",
        "  y = int(x)\n",
        "  c = c + y\n",
        "print(\"Tống các chữ số: \",c)"
      ],
      "execution_count": 6,
      "outputs": [
        {
          "output_type": "stream",
          "name": "stdout",
          "text": [
            "Nhập số nguyên dương: 1234\n",
            "Tống các chữ số:  10\n"
          ]
        }
      ]
    },
    {
      "cell_type": "markdown",
      "metadata": {
        "id": "C7IBZrvGMAXw"
      },
      "source": [
        "8.Viết chương trình liệt kê các số Fibonacci nhỏ hơn n là số nguyên tố. N là số nguyên dương được nhập từ bàn phím."
      ]
    },
    {
      "cell_type": "code",
      "metadata": {
        "id": "vxB0R3JaMnHI"
      },
      "source": [
        "a = int(input(\"Nhập n: \"))\n",
        "b = int(input(\"Số giá trị dãy Fibonaci: \"))\n",
        "c = int(input(\"Số đầu tiên (0,1): \"))\n",
        "d = int(input(\"Số thứ hai: (1)\"))\n",
        "e = [c,d]\n",
        "x = 2\n",
        "while x < b:\n",
        "  f = d[i - 1] + d[i - 2]\n",
        "  e.append(f)\n",
        "  x += 1\n",
        "print(\"Liệt kê Fibonaci: \",e)\n",
        "print(\"Số Fibonaci hơn n là số nguyên tố: \")\n",
        "for y in e:\n",
        "  if (y < n and y > 1):\n",
        "   for j in range(2,x):\n",
        "        if y % j==0 :\n",
        "         break\n",
        "   else:\n",
        "      print(y, end=\" \")"
      ],
      "execution_count": null,
      "outputs": []
    }
  ]
}