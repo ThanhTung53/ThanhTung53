{
  "nbformat": 4,
  "nbformat_minor": 0,
  "metadata": {
    "colab": {
      "name": "Slide_18.ipynb",
      "provenance": [],
      "authorship_tag": "ABX9TyOh3NCwA5ynRLfcrk5ceZza",
      "include_colab_link": true
    },
    "kernelspec": {
      "name": "python3",
      "display_name": "Python 3"
    },
    "language_info": {
      "name": "python"
    }
  },
  "cells": [
    {
      "cell_type": "markdown",
      "metadata": {
        "id": "view-in-github",
        "colab_type": "text"
      },
      "source": [
        "<a href=\"https://colab.research.google.com/github/ThanhTung53/Tuhu/blob/main/Slide_18.ipynb\" target=\"_parent\"><img src=\"https://colab.research.google.com/assets/colab-badge.svg\" alt=\"Open In Colab\"/></a>"
      ]
    },
    {
      "cell_type": "code",
      "metadata": {
        "id": "wD-Z1y9sAED6"
      },
      "source": [
        "class Payment():\n",
        "    amount: float\n",
        "    def __init__(self, amount) -> None:\n",
        "      super().__init__()\n",
        "      self.amount = amount\n",
        "\n",
        "class Cash(Payment):\n",
        "    cashTendered: float\n",
        "    def __init__(self, amount, cashTendered) -> None:\n",
        "        Payment.__init__(self, Amount)\n",
        "        self.cashTendered = cashTendered\n",
        "\n",
        "class Check(Payment):\n",
        "    name: str\n",
        "    bankID: str\n",
        "    def __init__(self, amount, name, bankID) -> None:\n",
        "        Payment.__init__(self, Amount)\n",
        "        self.name = name\n",
        "        self.bankID = bankID\n",
        "    def authorized(self):\n",
        "        pass\n",
        "\n",
        "class Credit(Payment):\n",
        "    number: str\n",
        "    type1: str\n",
        "    expDate: str\n",
        "\n",
        "    def __init__(self, amount, number, type1, expDate) -> None:\n",
        "        Payment.__init__(self, amount)\n",
        "        self.number = number\n",
        "        self.type1 = type1\n",
        "        self.expDate = expDate\n",
        "    def authorized(self):\n",
        "        pass\n",
        "\n",
        "class Item():\n",
        "    shippingWeight: str\n",
        "    description: str\n",
        "    def __init__(self, shippingWeight, description) -> None:\n",
        "        self.shippingWeight = shippingWeight\n",
        "        self.description = description\n",
        "    def getPriceForQuantity(self):\n",
        "        pass\n",
        "    def getTax(self):\n",
        "        pass\n",
        "    def inStock(self):\n",
        "        pass\n",
        "\n",
        "class OrderDetail():\n",
        "  quantity: int\n",
        "  taxStatus: str\n",
        "  def __init__(self, quantity, taxStatus) -> None:\n",
        "    super().__init__()\n",
        "    self.quantity = quantity\n",
        "    self.taxStatus = taxStatus\n",
        "  def calcSubTotal(self):\n",
        "        pass\n",
        "  def calcWeight(self):\n",
        "        pass\n",
        "  def calcTax(self):\n",
        "        pass\n",
        "\n",
        "class Order():\n",
        "  payments: [Cash, Check, Credit]\n",
        "  status: str\n",
        "  orderdetail: [OrderDetail]\n",
        "  def __init__(self, date, status) -> None:\n",
        "    self.date = date\n",
        "    self.status = status\n",
        "  def calcSubTotal(self):\n",
        "      pass  \n",
        "  def calcTax(self):\n",
        "      pass\n",
        "  def calcTotal(self):\n",
        "      pass\n",
        "  def calcTotalWeight(self):\n",
        "      pass\n",
        "\n",
        "class Customer():\n",
        "  adress: str\n",
        "  name: str\n",
        "  order : [Order]\n",
        "  def __init__(self, name, address) -> None:\n",
        "    super().__init__()\n",
        "    self.name = name\n",
        "    self.address = address"
      ],
      "execution_count": 6,
      "outputs": []
    }
  ]
}