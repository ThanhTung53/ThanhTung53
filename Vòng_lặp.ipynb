{
  "nbformat": 4,
  "nbformat_minor": 0,
  "metadata": {
    "colab": {
      "name": "Vòng_lặp.ipynb",
      "provenance": [],
      "authorship_tag": "ABX9TyMQahKe/zC1eeK2qyyQYSyU",
      "include_colab_link": true
    },
    "kernelspec": {
      "name": "python3",
      "display_name": "Python 3"
    },
    "language_info": {
      "name": "python"
    }
  },
  "cells": [
    {
      "cell_type": "markdown",
      "metadata": {
        "id": "view-in-github",
        "colab_type": "text"
      },
      "source": [
        "<a href=\"https://colab.research.google.com/github/ThanhTung53/Tuhu/blob/main/V%C3%B2ng_l%E1%BA%B7p.ipynb\" target=\"_parent\"><img src=\"https://colab.research.google.com/assets/colab-badge.svg\" alt=\"Open In Colab\"/></a>"
      ]
    },
    {
      "cell_type": "markdown",
      "metadata": {
        "id": "bRy6VwwK98Vr"
      },
      "source": [
        "Exercise 1: Print First 10 natural numbers using while loop"
      ]
    },
    {
      "cell_type": "code",
      "metadata": {
        "colab": {
          "base_uri": "https://localhost:8080/"
        },
        "id": "7SNj-Mwk9Cn5",
        "outputId": "a0b7124a-6f85-45de-87e8-94aae7d60ebd"
      },
      "source": [
        "a = 0\n",
        "while a <= 10:\n",
        "  print(a)\n",
        "  a = a + 1"
      ],
      "execution_count": null,
      "outputs": [
        {
          "output_type": "stream",
          "name": "stdout",
          "text": [
            "0\n",
            "1\n",
            "2\n",
            "3\n",
            "4\n",
            "5\n",
            "6\n",
            "7\n",
            "8\n",
            "9\n",
            "10\n"
          ]
        }
      ]
    },
    {
      "cell_type": "markdown",
      "metadata": {
        "id": "KDbXJ6FP98Y-"
      },
      "source": [
        "Exercise 2: Print the following pattern\n",
        "\n",
        "5 4 3 2 1\n",
        "\n",
        "4 3 2 1\n",
        "\n",
        "3 2 1\n",
        "\n",
        "2 1\n",
        "\n",
        "1"
      ]
    },
    {
      "cell_type": "code",
      "metadata": {
        "colab": {
          "base_uri": "https://localhost:8080/"
        },
        "id": "GW87kT7W-Nuw",
        "outputId": "b0456033-d433-4491-cfe1-119000d2181d"
      },
      "source": [
        "pattern = 5\n",
        "for x in range(0, pattern + 1):\n",
        "  for y in range(pattern - x, 0, -1):\n",
        "      print(y, end = \" \")\n",
        "  print()"
      ],
      "execution_count": null,
      "outputs": [
        {
          "output_type": "stream",
          "name": "stdout",
          "text": [
            "5 4 3 2 1 \n",
            "4 3 2 1 \n",
            "3 2 1 \n",
            "2 1 \n",
            "1 \n",
            "\n"
          ]
        }
      ]
    },
    {
      "cell_type": "markdown",
      "metadata": {
        "id": "j77aH1aE98dT"
      },
      "source": [
        "Exercise 3: Calculate the sum of all numbers from 1 to a given number"
      ]
    },
    {
      "cell_type": "code",
      "metadata": {
        "colab": {
          "base_uri": "https://localhost:8080/"
        },
        "id": "Ap_Y2a8u-Rdt",
        "outputId": "92caab4e-9aa5-4132-a41e-7d6884d87f0b"
      },
      "source": [
        "a = int(input(\"Input a number: \"))\n",
        "sum = 0\n",
        "for b in range(1, a + 1, 1):\n",
        "    sum = sum + b\n",
        "print(\"Sum: \", sum)"
      ],
      "execution_count": null,
      "outputs": [
        {
          "output_type": "stream",
          "name": "stdout",
          "text": [
            "Input a number: 10\n",
            "Sum:  55\n"
          ]
        }
      ]
    },
    {
      "cell_type": "markdown",
      "metadata": {
        "id": "sT_h_MRs98gx"
      },
      "source": [
        "Exercise 4: Write a program to print multiplication table of a given number with natural numbers\n",
        "from 1 to 10."
      ]
    },
    {
      "cell_type": "code",
      "metadata": {
        "id": "n5PIPay0-U5P",
        "colab": {
          "base_uri": "https://localhost:8080/"
        },
        "outputId": "3c3ab53a-d0da-43b8-8a01-998d14b94ded"
      },
      "source": [
        "x = int(input(\"Enter the number: \"))\n",
        "for y in range(1, 11):\n",
        "   print(x, 'x', y, '=', x*y)"
      ],
      "execution_count": 1,
      "outputs": [
        {
          "output_type": "stream",
          "name": "stdout",
          "text": [
            "Enter the number: 5\n",
            "5 x 1 = 5\n",
            "5 x 2 = 10\n",
            "5 x 3 = 15\n",
            "5 x 4 = 20\n",
            "5 x 5 = 25\n",
            "5 x 6 = 30\n",
            "5 x 7 = 35\n",
            "5 x 8 = 40\n",
            "5 x 9 = 45\n",
            "5 x 10 = 50\n"
          ]
        }
      ]
    },
    {
      "cell_type": "markdown",
      "metadata": {
        "id": "Zm20x-Ak98kM"
      },
      "source": [
        "Exercise 5: Display numbers from a list using loop"
      ]
    },
    {
      "cell_type": "code",
      "metadata": {
        "id": "HZHwtl1s-dk8",
        "colab": {
          "base_uri": "https://localhost:8080/"
        },
        "outputId": "5ccc432a-1493-4e45-dc02-0e5b61baf0d3"
      },
      "source": [
        "a = [1, 2, 3, 4, 5, 6, 7, 8, 9]\n",
        "for x in range(len(a)):\n",
        "    print(a[x])"
      ],
      "execution_count": 2,
      "outputs": [
        {
          "output_type": "stream",
          "name": "stdout",
          "text": [
            "1\n",
            "2\n",
            "3\n",
            "4\n",
            "5\n",
            "6\n",
            "7\n",
            "8\n",
            "9\n"
          ]
        }
      ]
    },
    {
      "cell_type": "markdown",
      "metadata": {
        "id": "A6HnQXmb98n1"
      },
      "source": [
        "Exercise 6: Count the total number of digits in a number"
      ]
    },
    {
      "cell_type": "code",
      "metadata": {
        "id": "985dh82M-eCC",
        "colab": {
          "base_uri": "https://localhost:8080/"
        },
        "outputId": "5a559283-1725-4cb6-cf3c-d297b00b535d"
      },
      "source": [
        "a = int(input(\"Enter the number: \"))\n",
        "b = 0\n",
        "while a != 0:\n",
        "    a = a // 10\n",
        "    b = b + 1\n",
        "print(\"The total number of digits: \", b)"
      ],
      "execution_count": 4,
      "outputs": [
        {
          "output_type": "stream",
          "name": "stdout",
          "text": [
            "Enter the number: 12345678\n",
            "The total number of digits:  8\n"
          ]
        }
      ]
    },
    {
      "cell_type": "markdown",
      "metadata": {
        "id": "gbnNrU8O98re"
      },
      "source": [
        "Exercise 7: Print list in reverse order using a loop"
      ]
    },
    {
      "cell_type": "code",
      "metadata": {
        "id": "H_73vOBe-eiC",
        "colab": {
          "base_uri": "https://localhost:8080/"
        },
        "outputId": "cb71100f-6379-4a60-987e-b31d534d5f9e"
      },
      "source": [
        "a = [1, 2, 3, 4, 5, 6, 7, 8, 9]\n",
        "b = reversed(a)\n",
        "for x in b:\n",
        "    print(x)"
      ],
      "execution_count": 5,
      "outputs": [
        {
          "output_type": "stream",
          "name": "stdout",
          "text": [
            "9\n",
            "8\n",
            "7\n",
            "6\n",
            "5\n",
            "4\n",
            "3\n",
            "2\n",
            "1\n"
          ]
        }
      ]
    },
    {
      "cell_type": "markdown",
      "metadata": {
        "id": "jJtGr-ST98ux"
      },
      "source": [
        "Exercise 8: Display numbers from -10 to -1 using for loop"
      ]
    },
    {
      "cell_type": "code",
      "metadata": {
        "id": "bMEKniHX-fcR",
        "colab": {
          "base_uri": "https://localhost:8080/"
        },
        "outputId": "15d418e6-6615-48b5-b699-cf028c646e13"
      },
      "source": [
        "for x in range(-10,0,1):\n",
        "  print(x)"
      ],
      "execution_count": 6,
      "outputs": [
        {
          "output_type": "stream",
          "name": "stdout",
          "text": [
            "-10\n",
            "-9\n",
            "-8\n",
            "-7\n",
            "-6\n",
            "-5\n",
            "-4\n",
            "-3\n",
            "-2\n",
            "-1\n"
          ]
        }
      ]
    },
    {
      "cell_type": "markdown",
      "metadata": {
        "id": "dqp0sUjZ98yv"
      },
      "source": [
        "Exercise 9: Use else block to display a message “Done” after successful execution of for loop"
      ]
    },
    {
      "cell_type": "code",
      "metadata": {
        "id": "QVfo3IId-f5B",
        "colab": {
          "base_uri": "https://localhost:8080/"
        },
        "outputId": "6062705a-7894-4483-e551-1e019dbf2f94"
      },
      "source": [
        "for i in range(8):\n",
        "    print(i)\n",
        "else:\n",
        "    print(\"Done!\")"
      ],
      "execution_count": 7,
      "outputs": [
        {
          "output_type": "stream",
          "name": "stdout",
          "text": [
            "0\n",
            "1\n",
            "2\n",
            "3\n",
            "4\n",
            "5\n",
            "6\n",
            "7\n",
            "Done!\n"
          ]
        }
      ]
    },
    {
      "cell_type": "markdown",
      "metadata": {
        "id": "x7_xw1AR982i"
      },
      "source": [
        "Exercise 10: Write a program to display all prime numbers within a range"
      ]
    },
    {
      "cell_type": "code",
      "metadata": {
        "id": "uC94iR8Z-wWK",
        "colab": {
          "base_uri": "https://localhost:8080/"
        },
        "outputId": "9fda7513-2c78-4fc1-c615-efc42fca8783"
      },
      "source": [
        "start = 25\n",
        "end = 50\n",
        "print(\"Prime numbers between\", start, \"and\", end, \"are:\")\n",
        "for num in range(start, end + 1):\n",
        "    if (num > 1):\n",
        "        for i in range(2, num):\n",
        "            if (num % i) == 0:\n",
        "                break\n",
        "        else:\n",
        "            print(num)"
      ],
      "execution_count": 8,
      "outputs": [
        {
          "output_type": "stream",
          "name": "stdout",
          "text": [
            "Prime numbers between 25 and 50 are:\n",
            "29\n",
            "31\n",
            "37\n",
            "41\n",
            "43\n",
            "47\n"
          ]
        }
      ]
    },
    {
      "cell_type": "markdown",
      "metadata": {
        "id": "ToFR1elm987A"
      },
      "source": [
        "Exercise 11: Display Fibonacci series up to 10 terms"
      ]
    },
    {
      "cell_type": "code",
      "metadata": {
        "id": "fMwXjZEm-wyC",
        "colab": {
          "base_uri": "https://localhost:8080/"
        },
        "outputId": "00725680-27c8-4844-eced-36a08da434de"
      },
      "source": [
        "n = int(input(\"Enter number: \"))\n",
        "a = 0\n",
        "b = 1\n",
        "sum = 0\n",
        "count = 1\n",
        "print(\"Term: \", end = \" \")\n",
        "while count <= n:\n",
        "  print(sum, end = \" \")\n",
        "  count += 1\n",
        "  a = b\n",
        "  b = sum\n",
        "  sum = a + b"
      ],
      "execution_count": 9,
      "outputs": [
        {
          "output_type": "stream",
          "name": "stdout",
          "text": [
            "Enter number: 10\n",
            "Term:  0 1 1 2 3 5 8 13 21 34 "
          ]
        }
      ]
    },
    {
      "cell_type": "markdown",
      "metadata": {
        "id": "xwhVPRl898-x"
      },
      "source": [
        "Exercise 12: Find the factorial of a given number"
      ]
    },
    {
      "cell_type": "code",
      "metadata": {
        "id": "gWgacq0f-xWU"
      },
      "source": [
        "num = int(input(\"Enter the number: \"))\n",
        "factorial = 1\n",
        "\n",
        "if (num < 0):\n",
        "    print(\"not exist\")\n",
        "elif (num == 0):\n",
        "    print(\"The factorial of 0 is 1\")\n",
        "else:\n",
        "    for i in range(1, num + 1):\n",
        "        factorial = factorial * i\n",
        "    print(\"The factorial of\", num, \"is\", factorial)"
      ],
      "execution_count": null,
      "outputs": []
    },
    {
      "cell_type": "markdown",
      "metadata": {
        "id": "n7fkEYZN99C1"
      },
      "source": [
        "Exercise 13: Reverse a given integer number"
      ]
    },
    {
      "cell_type": "code",
      "metadata": {
        "id": "r2GpcKzK-6dF",
        "colab": {
          "base_uri": "https://localhost:8080/"
        },
        "outputId": "be971f75-70f4-4aca-d440-e83bc96cd68d"
      },
      "source": [
        "num = 123456789\n",
        "reverse = 0\n",
        "print(\"Number \", num)\n",
        "while num > 0:\n",
        "    reminder = num % 10\n",
        "    reverse = (reverse * 10) + reminder\n",
        "    num = num // 10\n",
        "print(\"Revere Number \", reverse)"
      ],
      "execution_count": 10,
      "outputs": [
        {
          "output_type": "stream",
          "name": "stdout",
          "text": [
            "Number  123456789\n",
            "Revere Number  987654321\n"
          ]
        }
      ]
    },
    {
      "cell_type": "markdown",
      "metadata": {
        "id": "_yEdGVEY99GD"
      },
      "source": [
        "Exercise 14: Use a loop to display elements from a given list present at odd index positions"
      ]
    },
    {
      "cell_type": "code",
      "metadata": {
        "id": "v5EleXSY-67L",
        "colab": {
          "base_uri": "https://localhost:8080/"
        },
        "outputId": "24dee65f-7c2e-4569-82bf-c14cdc081e69"
      },
      "source": [
        "a = [1,2,3,4,5,6,7,8,9]\n",
        "for i in a[::2]:\n",
        "    print(i, end=\" \")"
      ],
      "execution_count": 12,
      "outputs": [
        {
          "output_type": "stream",
          "name": "stdout",
          "text": [
            "1 3 5 7 9 "
          ]
        }
      ]
    },
    {
      "cell_type": "markdown",
      "metadata": {
        "id": "02LjlyEX99JH"
      },
      "source": [
        "Exercise 15: Calculate the cube of all numbers from 1 to a given number"
      ]
    },
    {
      "cell_type": "code",
      "metadata": {
        "id": "3QIu6RYo-7am",
        "colab": {
          "base_uri": "https://localhost:8080/"
        },
        "outputId": "10c839fb-3fd1-4403-9d6d-ef52d0782981"
      },
      "source": [
        "x = int(input(\"Enter the number: \"))\n",
        "for y in range(1, x + 1):\n",
        "  print(\"The cube:\", (y*y*y))"
      ],
      "execution_count": 35,
      "outputs": [
        {
          "output_type": "stream",
          "name": "stdout",
          "text": [
            "Enter the number: 6\n",
            "The cube: 1\n",
            "The cube: 8\n",
            "The cube: 27\n",
            "The cube: 64\n",
            "The cube: 125\n",
            "The cube: 216\n"
          ]
        }
      ]
    }
  ]
}