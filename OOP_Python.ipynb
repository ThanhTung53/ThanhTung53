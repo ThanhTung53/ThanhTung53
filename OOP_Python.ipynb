{
  "nbformat": 4,
  "nbformat_minor": 0,
  "metadata": {
    "colab": {
      "name": "OOP_Python.ipynb",
      "provenance": [],
      "include_colab_link": true
    },
    "kernelspec": {
      "name": "python3",
      "display_name": "Python 3"
    },
    "language_info": {
      "name": "python"
    }
  },
  "cells": [
    {
      "cell_type": "markdown",
      "metadata": {
        "id": "view-in-github",
        "colab_type": "text"
      },
      "source": [
        "<a href=\"https://colab.research.google.com/github/ThanhTung53/Tuhu/blob/main/OOP_Python.ipynb\" target=\"_parent\"><img src=\"https://colab.research.google.com/assets/colab-badge.svg\" alt=\"Open In Colab\"/></a>"
      ]
    },
    {
      "cell_type": "code",
      "metadata": {
        "id": "J5kNbSTTF5WI",
        "colab": {
          "base_uri": "https://localhost:8080/"
        },
        "outputId": "fbfe6346-5aa3-41de-9eae-33d5852fbbf7"
      },
      "source": [
        "class Xemay():\n",
        "  phankhoi: int\n",
        "  tenxe: str\n",
        "  xuatxu: str\n",
        "\n",
        "  def __init__(self, cubic_meter, name, origin):\n",
        "    self.phankhoi = cubic_meter\n",
        "    self.tenxe = name\n",
        "    self.xuatxu = origin\n",
        "\n",
        "  def outputXemay(self) -> str:\n",
        "    result = \"Phankhoi: \" + str(self.phankhoi) + \"; Tenxe: \" + self.tenxe + \"; Xuatxu: \" + self.xuatxu\n",
        "    return result\n",
        "\n",
        "def main():\n",
        "  xe1 = Xemay(123, \"ABC\", \"Japan\")\n",
        "  xe2 = Xemay(234, \"DEF\", \"Japan\")\n",
        "  xe3 = Xemay(567, \"XYZ\", \"Japan\")\n",
        "\n",
        "  print(xe1.outputXemay())\n",
        "  print(xe2.outputXemay())\n",
        "  print(xe3.outputXemay())\n",
        "\n",
        "if __name__ == \"__main__\":\n",
        "  main()"
      ],
      "execution_count": null,
      "outputs": [
        {
          "output_type": "stream",
          "name": "stdout",
          "text": [
            "Phankhoi: 123; Tenxe: ABC; Xuatxu: Japan\n",
            "Phankhoi: 234; Tenxe: DEF; Xuatxu: Japan\n",
            "Phankhoi: 567; Tenxe: XYZ; Xuatxu: Japan\n"
          ]
        }
      ]
    }
  ]
}