{
  "nbformat": 4,
  "nbformat_minor": 0,
  "metadata": {
    "colab": {
      "name": "excer_if_el.ipynb",
      "provenance": [],
      "authorship_tag": "ABX9TyM5Era2XXf/qxrqSRXw/FoN",
      "include_colab_link": true
    },
    "kernelspec": {
      "name": "python3",
      "display_name": "Python 3"
    },
    "language_info": {
      "name": "python"
    }
  },
  "cells": [
    {
      "cell_type": "markdown",
      "metadata": {
        "id": "view-in-github",
        "colab_type": "text"
      },
      "source": [
        "<a href=\"https://colab.research.google.com/github/ThanhTung53/Tuhu/blob/main/excer_if_el.ipynb\" target=\"_parent\"><img src=\"https://colab.research.google.com/assets/colab-badge.svg\" alt=\"Open In Colab\"/></a>"
      ]
    },
    {
      "cell_type": "markdown",
      "metadata": {
        "id": "6ThvFHIjCLg0"
      },
      "source": [
        "1.Write a Python program to get a number from the user and print whether it is positive or negative"
      ]
    },
    {
      "cell_type": "code",
      "metadata": {
        "colab": {
          "base_uri": "https://localhost:8080/"
        },
        "id": "NjCMBWOPCOJj",
        "outputId": "8ca526fa-7cb6-405f-f5df-147255dfcd5d"
      },
      "source": [
        "a = float(input(\"input number: \"))\n",
        "if (a > 0):\n",
        "   print(\"Number is positive\")\n",
        "elif (a == 0):\n",
        "   print(\"Zero\")\n",
        "else:\n",
        "   print(\"Negative number\")"
      ],
      "execution_count": null,
      "outputs": [
        {
          "output_type": "stream",
          "name": "stdout",
          "text": [
            "input number: 35\n",
            "Number is positive\n"
          ]
        }
      ]
    },
    {
      "cell_type": "markdown",
      "metadata": {
        "id": "ymvqigeKCrhQ"
      },
      "source": [
        "2. Take three numbers from the user and print the greatest number Test Data"
      ]
    },
    {
      "cell_type": "code",
      "metadata": {
        "colab": {
          "base_uri": "https://localhost:8080/"
        },
        "id": "CEGo183NCr0F",
        "outputId": "159e726e-52da-40dd-b899-4011d63a62ec"
      },
      "source": [
        "a = float(input(\"Input the 1st number: \"))\n",
        "b = float(input(\"Input the 2nd number: \"))\n",
        "c = float(input(\"Input the 3rd number: \"))\n",
        "if (a > b) and (a > c):\n",
        "   greatest = a\n",
        "elif (b > a) and (b > c):\n",
        "   greatest = b\n",
        "else:\n",
        "   greatest = c\n",
        "\n",
        "print(\"The greatest: \", greatest)"
      ],
      "execution_count": null,
      "outputs": [
        {
          "output_type": "stream",
          "name": "stdout",
          "text": [
            "Input the 1st number: 25\n",
            "Input the 2nd number: 78\n",
            "Input the 3rd number: 87\n",
            "The greatest:  87.0\n"
          ]
        }
      ]
    },
    {
      "cell_type": "markdown",
      "metadata": {
        "id": "p3EIpAYpEadV"
      },
      "source": [
        "3. Write a Python program that reads a floating-point number and prints \"zero\" if the number is zero. Otherwise, print \"positive\" or \"negative\". Add \"small\" if the absolute value of the number is less than 1, or \"large\" if it exceeds 1,000,000."
      ]
    },
    {
      "cell_type": "code",
      "metadata": {
        "colab": {
          "base_uri": "https://localhost:8080/"
        },
        "id": "Rf9D9EekEfIg",
        "outputId": "0ef4f72f-7ad8-460e-e3d4-cdd70a46f254"
      },
      "source": [
        "a = float(input(\"input a number: \"))\n",
        "\n",
        "if (a == 0):\n",
        "  print(\"Zero\")\n",
        "\n",
        "if (a > 0):\n",
        "  print(\"Positive number\")\n",
        "  if abs(a) > 1000000:\n",
        "      print(\"Large\")\n",
        "  if abs(a) < 1:\n",
        "      print(\"Small\")\n",
        "\n",
        "else:\n",
        "  print(\"Negative number\")"
      ],
      "execution_count": 1,
      "outputs": [
        {
          "output_type": "stream",
          "name": "stdout",
          "text": [
            "input a number: 25\n",
            "Positive number\n"
          ]
        }
      ]
    },
    {
      "cell_type": "markdown",
      "metadata": {
        "id": "Sz1mRj7zFLlb"
      },
      "source": [
        "4.Write a Python program that keeps a number from the user and generates an integer between 1 and 7 and displays the name of the weekday."
      ]
    },
    {
      "cell_type": "code",
      "metadata": {
        "colab": {
          "base_uri": "https://localhost:8080/"
        },
        "id": "tLLZq15KFLy-",
        "outputId": "4fecca8f-b1da-4ce1-cecd-9bf52e88f0a4"
      },
      "source": [
        "a = int(input(\"input number: \"))\n",
        "if (a == 1):\n",
        "    print(\"Monday\")\n",
        "elif (a == 2):\n",
        "    print(\"Tuesday\")\n",
        "elif (a == 3):\n",
        "    print(\"Wednesday\")\n",
        "elif (a == 4):\n",
        "    print(\"Thursday\")\n",
        "elif (a == 5):\n",
        "    print(\"Friday\")\n",
        "elif (a == 6):\n",
        "    print(\"Saturday\")\n",
        "elif (a == 7):\n",
        "    print(\"Sunday\")\n",
        "else:\n",
        "    print(\"unknown\")"
      ],
      "execution_count": null,
      "outputs": [
        {
          "output_type": "stream",
          "name": "stdout",
          "text": [
            "input number: 3\n",
            "Wednesday\n"
          ]
        }
      ]
    },
    {
      "cell_type": "markdown",
      "metadata": {
        "id": "yLZ00Hc_Gh-4"
      },
      "source": [
        "5. Write a Python program that reads in two floating-point numbers and tests whether they are the same up to three decimal places."
      ]
    },
    {
      "cell_type": "code",
      "metadata": {
        "colab": {
          "base_uri": "https://localhost:8080/"
        },
        "id": "_B549UbvGiP9",
        "outputId": "3d832d9b-a35a-42e2-dec5-722f4731ba94"
      },
      "source": [
        "a = float(input(\"Input floating-point number: \"))\n",
        "b = float(input(\"Input floating-point another number: \"))\n",
        "a = round(a*1000)\n",
        "a = a/1000\n",
        "b = round(b*1000)\n",
        "b = b/1000\n",
        "if (a == b):\n",
        "  print(\"They are similar\")\n",
        "else:\n",
        "  print(\"They are different\")"
      ],
      "execution_count": null,
      "outputs": [
        {
          "output_type": "stream",
          "name": "stdout",
          "text": [
            "Input floating-point number: 25.586\n",
            "Input floating-point another number: 25.589\n",
            "They are different\n"
          ]
        }
      ]
    }
  ]
}