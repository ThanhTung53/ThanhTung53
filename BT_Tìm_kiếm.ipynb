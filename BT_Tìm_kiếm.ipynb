{
  "nbformat": 4,
  "nbformat_minor": 0,
  "metadata": {
    "colab": {
      "name": "BT_Tìm_kiếm.ipynb",
      "provenance": [],
      "authorship_tag": "ABX9TyOtWFwf4faVyhKQSiCDtsey",
      "include_colab_link": true
    },
    "kernelspec": {
      "name": "python3",
      "display_name": "Python 3"
    },
    "language_info": {
      "name": "python"
    }
  },
  "cells": [
    {
      "cell_type": "markdown",
      "metadata": {
        "id": "view-in-github",
        "colab_type": "text"
      },
      "source": [
        "<a href=\"https://colab.research.google.com/github/ThanhTung53/Tuhu/blob/main/BT_T%C3%ACm_ki%E1%BA%BFm.ipynb\" target=\"_parent\"><img src=\"https://colab.research.google.com/assets/colab-badge.svg\" alt=\"Open In Colab\"/></a>"
      ]
    },
    {
      "cell_type": "markdown",
      "metadata": {
        "id": "cSJOi4bVAAhh"
      },
      "source": [
        "Bài 1: Viết chương trình thực hiện các yêu cầu sau:\n",
        "- Sinh ngẫu nhiên 1 danh sách n số nguyên trong đoạn [a, b], với các thông số n, a và b được\n",
        "nhập vào từ bàn phím;\n",
        "- Nhập vào 1 số x từ bàn phím có giá trị trong đoạn [a, b];\n",
        "- Tìm kiếm x có xuất hiện trong danh sách trên hay không. Nếu có thì trả về vị trí xuất hiện\n",
        "đầu tiên trong danh sách. Ngược lại, thông báo không tìm thấy."
      ]
    },
    {
      "cell_type": "code",
      "metadata": {
        "id": "7hQZ1SpHABPB"
      },
      "source": [
        "import random\n",
        "\n",
        "n = int(input(\"Số phần tử trong danh sách: \"))\n",
        "a = int(input(\"Start: \"))\n",
        "b = int(input(\"End: \"))\n",
        "l1 = []\n",
        "\n",
        "for i in range(n):\n",
        "    l1.append(random.randint(a,b))\n",
        "print(\"Danh sách đã tạo: \",l1)\n",
        "\n",
        "x = int(input(\"Giá trị cần tìm x là: \"))\n",
        "for i in range(len(l)):\n",
        "    if (l1[i] == x):\n",
        "        print(\"Vị trí đầu tiên của x là: \",i)\n",
        "        break\n",
        "else:\n",
        "    print(\"không tìm thấy x\")"
      ],
      "execution_count": null,
      "outputs": []
    },
    {
      "cell_type": "markdown",
      "metadata": {
        "id": "9KMYR0kKAAlR"
      },
      "source": [
        "Bài 2: Viết chương trình thực hiện các yêu cầu sau:\n",
        "- Sinh ngẫu nhiên 1 danh sách n số nguyên trong đoạn [a, b], với các thông số n, a và b được\n",
        "nhập vào từ bàn phím;\n",
        "- Nhập vào 1 số x từ bàn phím có giá trị trong đoạn [a, b];\n",
        "- Tìm kiếm x có xuất hiện trong danh sách trên hay không theo yêu cầu sau:\n",
        "o Nếu có thì trả về vị trí xuất hiện đầu tiên trong danh sách và thông báo số bước lặp\n",
        "đã thực hiện để tìm được phần tử này.\n",
        "o Ngược lại, thông báo không tìm thấy."
      ]
    },
    {
      "cell_type": "code",
      "metadata": {
        "id": "8WUTIOBVABsa"
      },
      "source": [
        "import random\n",
        "\n",
        "n = int(input(\"số phần tử trong danh sách: \"))\n",
        "a = int(input(\"Start: \"))\n",
        "b = int(input(\"End: \"))\n",
        "l1 = []\n",
        "\n",
        "for i in range(n):\n",
        "    l1.append(random.randint(a,b))\n",
        "print(\"Danh sách đã tạo: \",l1)\n",
        "\n",
        "x = int(input(\"Giá trị x cần tìm: \"))\n",
        "count = 0\n",
        "for i in range(len(l)):\n",
        "    if (l1[i] == x):\n",
        "        print(\"Vị trí đầu tiên của x: \",i)\n",
        "        print(\"Số lần lặp là: \",count)\n",
        "        break\n",
        "    count = count + 1\n",
        "else:\n",
        "    print(\"Không tìm thấy x\")"
      ],
      "execution_count": null,
      "outputs": []
    },
    {
      "cell_type": "markdown",
      "metadata": {
        "id": "bvySwGpdAAqW"
      },
      "source": [
        "Bài 3: Viết chương trình thực hiện các yêu cầu sau:\n",
        "- Bước 1: Sinh ngẫu nhiên 1 danh sách n số nguyên trong đoạn [a, b], với các thông số n, a\n",
        "và b được nhập vào từ bàn phím;\n",
        "- Bước 2: Nhập vào 1 số x từ bàn phím có giá trị trong đoạn [a, b];\n",
        "- Bước 3: Sắp xếp danh sách trên theo chiều tăng dần\n",
        "- Bước 4: Tìm kiếm x có xuất hiện trong danh sách trên hay không theo yêu cầu sau:\n",
        "o Nếu có thì trả về vị trí xuất hiện đầu tiên trong danh sách và thông báo số bước lặp\n",
        "đã thực hiện để tìm được phần tử này.\n",
        "o Ngược lại, thông báo không tìm thấy."
      ]
    },
    {
      "cell_type": "code",
      "metadata": {
        "id": "Ve47BhEFACGo"
      },
      "source": [
        "import random\n",
        "\n",
        "n = int(input(\"Số phần tử trong danh sách: \"))\n",
        "a = int(input(\"Start: \"))\n",
        "b = int(input(\"End: \"))\n",
        "l1 = []\n",
        "for i in range(n):\n",
        "    l.append(random.randint(a,b))\n",
        "print(\"Danh sách đã tạo: \",l1)\n",
        "\n",
        "x = int(input(\"Giá trị x là: \"))\n",
        "for i in range(len(l1)):\n",
        "    for j in range(i + 1, len(l1)):\n",
        "        if (l1[i] > l1[j]):\n",
        "            l1[i], l1[j] = l1[j], l1[i]\n",
        "print(\"Danh sách sắp xếp tăng dần: \",l1)\n",
        "\n",
        "count = 0\n",
        "for i in range(len(l1)):\n",
        "    if (l1[i] == x):\n",
        "        print(\"Vị trí đầu tiên của x: \",i)\n",
        "        print(\"Số lần lặp: \",count)\n",
        "        break\n",
        "    count = count + 1\n",
        "else:\n",
        "    print(\"Không tìm thấy x\")"
      ],
      "execution_count": null,
      "outputs": []
    },
    {
      "cell_type": "markdown",
      "metadata": {
        "id": "Ltqfe_qNAAun"
      },
      "source": [
        "Bài 4: Viết chương trình thực hiện các yêu cầu sau:\n",
        "- Bước 1: Sinh ngẫu nhiên 1 danh sách n số nguyên trong đoạn [a, b], với các thông số n, a\n",
        "và b được nhập vào từ bàn phím;\n",
        "- Bước 2: Nhập vào 1 số x từ bàn phím có giá trị trong đoạn [a, b];\n",
        "\n",
        "- Bước 3: Sắp xếp danh sách trên theo chiều tăng dần\n",
        "- Bước 4: Tìm kiếm x có xuất hiện trong danh sách trên hay không theo yêu cầu sau:\n",
        "o Nếu có thì trả về tất cả các vị trí xuất hiện trong danh sách và thông báo số bước\n",
        "lặp đã thực hiện để tìm được các phần tử này.\n",
        "o Ngược lại, thông báo không tìm thấy."
      ]
    },
    {
      "cell_type": "code",
      "metadata": {
        "id": "V_sxwlSyACm5"
      },
      "source": [
        "import random\n",
        "\n",
        "n = int(input(\"Số phần tử trong danh sách: \"))\n",
        "a = int(input(\"Start: \"))\n",
        "b = int(input(\"End: \"))\n",
        "l1 = []\n",
        "\n",
        "for i in range(n):\n",
        "    l1.append(random.randint(a,b))\n",
        "print(\"Danh sách đã tạo: \",l1)\n",
        "x = int(input('Giá trị x cần tìm: \"))\n",
        "for i in range(len(l1)):\n",
        "    for j in range(i + 1, len(l1)):\n",
        "        if (l1[i] > l1[j]):\n",
        "            l1[i], l1[j] = l1[j], l1[i]\n",
        "print(\"Danh sách sắp xếp tăng dần: \",l1)\n",
        "\n",
        "l2 = []\n",
        "lap = []\n",
        "count = 0\n",
        "for i in range(len(l)):\n",
        "    if l1[i] == x:\n",
        "        l2.append(i)\n",
        "        lap.append(count)\n",
        "    count += 1\n",
        "if (len(l2) > 0):\n",
        "    print(\"Những vị trí x xuất hiện: \",l2)\n",
        "    print(\"Số lần lặp: \", lap)\n",
        "else:\n",
        "    print(\"Không tìm thấy x\")"
      ],
      "execution_count": null,
      "outputs": []
    }
  ]
}