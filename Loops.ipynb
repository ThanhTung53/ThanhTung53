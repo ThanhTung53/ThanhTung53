{
  "nbformat": 4,
  "nbformat_minor": 0,
  "metadata": {
    "colab": {
      "name": "Loops.ipynb",
      "provenance": [],
      "authorship_tag": "ABX9TyP/8c2DlJcS0oZohI9TXVTK",
      "include_colab_link": true
    },
    "kernelspec": {
      "name": "python3",
      "display_name": "Python 3"
    },
    "language_info": {
      "name": "python"
    }
  },
  "cells": [
    {
      "cell_type": "markdown",
      "metadata": {
        "id": "view-in-github",
        "colab_type": "text"
      },
      "source": [
        "<a href=\"https://colab.research.google.com/github/ThanhTung53/Tuhu/blob/main/Loops.ipynb\" target=\"_parent\"><img src=\"https://colab.research.google.com/assets/colab-badge.svg\" alt=\"Open In Colab\"/></a>"
      ]
    },
    {
      "cell_type": "code",
      "metadata": {
        "colab": {
          "base_uri": "https://localhost:8080/"
        },
        "id": "Zg-PxObFMQst",
        "outputId": "5cca05ab-6005-4ad9-a522-027a75a9d544"
      },
      "source": [
        "#1.Print First 10 natural numbers using while loop\n",
        "i = 0\n",
        "while i <=10:\n",
        "  print(i)\n",
        "  i += 1"
      ],
      "execution_count": null,
      "outputs": [
        {
          "output_type": "stream",
          "name": "stdout",
          "text": [
            "0\n",
            "1\n",
            "2\n",
            "3\n",
            "4\n",
            "5\n",
            "6\n",
            "7\n",
            "8\n",
            "9\n",
            "10\n"
          ]
        }
      ]
    },
    {
      "cell_type": "code",
      "metadata": {
        "colab": {
          "base_uri": "https://localhost:8080/"
        },
        "id": "pVJ6QFk5Mp-D",
        "outputId": "4ec5c574-2cac-4c11-bb49-259e7fd2e40f"
      },
      "source": [
        "#2.Print the pattern\n",
        "rows = 5\n",
        "for i in range(0, rows + 1):\n",
        "    for j in range(rows - i, 0, -1):\n",
        "        print(j, end=' ')\n",
        "    print()"
      ],
      "execution_count": null,
      "outputs": [
        {
          "output_type": "stream",
          "name": "stdout",
          "text": [
            "5 4 3 2 1 \n",
            "4 3 2 1 \n",
            "3 2 1 \n",
            "2 1 \n",
            "1 \n",
            "\n"
          ]
        }
      ]
    },
    {
      "cell_type": "code",
      "metadata": {
        "colab": {
          "base_uri": "https://localhost:8080/"
        },
        "id": "eiMnw7RcNkfw",
        "outputId": "156311ce-af71-4980-fa12-83f8ff587675"
      },
      "source": [
        "#3.Calculate the sum of all numbers from 1 to a given number\n",
        "n = int(input(\"Number: \"))\n",
        "sum = 0\n",
        "for num in range(1, n + 1, 1):\n",
        "    sum = sum + num\n",
        "print(\"Sum: \", sum)"
      ],
      "execution_count": null,
      "outputs": [
        {
          "output_type": "stream",
          "name": "stdout",
          "text": [
            "Number: 3\n",
            "Sum:  6\n"
          ]
        }
      ]
    },
    {
      "cell_type": "code",
      "metadata": {
        "colab": {
          "base_uri": "https://localhost:8080/"
        },
        "id": "mzleKY4LOHYz",
        "outputId": "195584cb-efd0-4ad5-e56e-8da43b75b55a"
      },
      "source": [
        "#4.Write a program to print multiplication table of a given number with natural numbers from 1 to 10.\n",
        "a = int(input(\"Enter the number: \"))\n",
        "for i in range(1, 11):\n",
        "   print(a, 'x', i, '=', a*i)"
      ],
      "execution_count": 13,
      "outputs": [
        {
          "output_type": "stream",
          "name": "stdout",
          "text": [
            "Enter the number: 5\n",
            "5 x 1 = 5\n",
            "5 x 2 = 10\n",
            "5 x 3 = 15\n",
            "5 x 4 = 20\n",
            "5 x 5 = 25\n",
            "5 x 6 = 30\n",
            "5 x 7 = 35\n",
            "5 x 8 = 40\n",
            "5 x 9 = 45\n",
            "5 x 10 = 50\n"
          ]
        }
      ]
    },
    {
      "cell_type": "code",
      "metadata": {
        "colab": {
          "base_uri": "https://localhost:8080/"
        },
        "id": "65-A-ItXPNlm",
        "outputId": "92ad25a3-1c82-4b39-f7bb-b0754fc59e65"
      },
      "source": [
        "#5.Display numbers from a list using loop\n",
        "a = [1, 2, 3, 4, 5]\n",
        "for x in range(len(a)):\n",
        "    print(a[x])"
      ],
      "execution_count": null,
      "outputs": [
        {
          "output_type": "stream",
          "name": "stdout",
          "text": [
            "1\n",
            "2\n",
            "3\n",
            "4\n",
            "5\n"
          ]
        }
      ]
    },
    {
      "cell_type": "code",
      "metadata": {
        "colab": {
          "base_uri": "https://localhost:8080/"
        },
        "id": "6otXBpkwPo3N",
        "outputId": "4f18cf19-bb09-4a64-f00c-a4bddd58738c"
      },
      "source": [
        "#6.Count the total number of digits in a number\n",
        "num = int(input(\"Enter the number: \"))\n",
        "count = 0\n",
        "while num != 0:\n",
        "    num = num // 10\n",
        "    count = count + 1\n",
        "print(\"Total digits are:\", count)"
      ],
      "execution_count": 15,
      "outputs": [
        {
          "output_type": "stream",
          "name": "stdout",
          "text": [
            "Enter the number: 123456\n",
            "Total digits are: 6\n"
          ]
        }
      ]
    },
    {
      "cell_type": "code",
      "metadata": {
        "colab": {
          "base_uri": "https://localhost:8080/"
        },
        "id": "SJgLpLv0TJtc",
        "outputId": "cf2248b2-11c0-46cb-a079-d734b52b401b"
      },
      "source": [
        "#7.Print list in reverse order using a loop\n",
        "a = [1, 2, 3, 4, 5, 6]\n",
        "b = reversed(a)\n",
        "for x in b:\n",
        "    print(x)"
      ],
      "execution_count": null,
      "outputs": [
        {
          "output_type": "stream",
          "name": "stdout",
          "text": [
            "6\n",
            "5\n",
            "4\n",
            "3\n",
            "2\n",
            "1\n"
          ]
        }
      ]
    },
    {
      "cell_type": "code",
      "metadata": {
        "colab": {
          "base_uri": "https://localhost:8080/"
        },
        "id": "c9SUE6BzTJ77",
        "outputId": "7f40c5eb-94c2-4c28-f5e0-8b1f2d9751b6"
      },
      "source": [
        "#8.Display numbers from -10 to -1 using for loop\n",
        "for x in range(-10,0,1):\n",
        "  print(x)"
      ],
      "execution_count": null,
      "outputs": [
        {
          "output_type": "stream",
          "name": "stdout",
          "text": [
            "-10\n",
            "-9\n",
            "-8\n",
            "-7\n",
            "-6\n",
            "-5\n",
            "-4\n",
            "-3\n",
            "-2\n",
            "-1\n"
          ]
        }
      ]
    },
    {
      "cell_type": "code",
      "metadata": {
        "colab": {
          "base_uri": "https://localhost:8080/"
        },
        "id": "WhOSFAXmTKHZ",
        "outputId": "16522828-6831-4079-f5c5-e4cedfb6a236"
      },
      "source": [
        "#9.Use else block to display a message “Done” after successful execution of for loop\n",
        "for i in range(5):\n",
        "    print(i)\n",
        "else:\n",
        "    print(\"Done!\")"
      ],
      "execution_count": null,
      "outputs": [
        {
          "output_type": "stream",
          "name": "stdout",
          "text": [
            "0\n",
            "1\n",
            "2\n",
            "3\n",
            "4\n",
            "Done!\n"
          ]
        }
      ]
    },
    {
      "cell_type": "code",
      "metadata": {
        "colab": {
          "base_uri": "https://localhost:8080/"
        },
        "id": "hBRhY6dTV-61",
        "outputId": "0c58deec-0814-4945-bf0c-275e1495b64f"
      },
      "source": [
        "#10.Write a program to display all prime numbers within a range\n",
        "start = 25\n",
        "end = 50\n",
        "print(\"Prime numbers between\", start, \"and\", end, \"are:\")\n",
        "for num in range(start, end + 1):\n",
        "    if num > 1:\n",
        "        for i in range(2, num):\n",
        "            if (num % i) == 0:\n",
        "                break\n",
        "        else:\n",
        "            print(num)"
      ],
      "execution_count": null,
      "outputs": [
        {
          "output_type": "stream",
          "name": "stdout",
          "text": [
            "Prime numbers between 25 and 50 are:\n",
            "29\n",
            "31\n",
            "37\n",
            "41\n",
            "43\n",
            "47\n"
          ]
        }
      ]
    },
    {
      "cell_type": "code",
      "metadata": {
        "colab": {
          "base_uri": "https://localhost:8080/"
        },
        "id": "6WdUwBKWV_DD",
        "outputId": "41bdb29a-e56c-4e9b-a9d5-f9681f3fcd46"
      },
      "source": [
        "#11.Display Fibonacci series up to 10 terms\n",
        "n = int(input(\"Enter number: \"))\n",
        "a = 0\n",
        "b = 1\n",
        "sum = 0\n",
        "count = 1\n",
        "print(\"Term: \", end = \" \")\n",
        "while count <= n:\n",
        "  print(sum, end = \" \")\n",
        "  count += 1\n",
        "  a = b\n",
        "  b = sum\n",
        "  sum = a + b"
      ],
      "execution_count": null,
      "outputs": [
        {
          "output_type": "stream",
          "name": "stdout",
          "text": [
            "Enter number: 10\n",
            "Term:  0 1 1 2 3 5 8 13 21 34 "
          ]
        }
      ]
    },
    {
      "cell_type": "code",
      "metadata": {
        "colab": {
          "base_uri": "https://localhost:8080/"
        },
        "id": "bQMMAStBV_K7",
        "outputId": "d80748b1-f01e-4a19-c6a8-36166f69adf9"
      },
      "source": [
        "#12.Find the factorial of a given number\n",
        "num = int(input(\"Enter the number: \"))\n",
        "factorial = 1\n",
        "if num < 0:\n",
        "    print(\"not exist\")\n",
        "elif num == 0:\n",
        "    print(\"The factorial of 0 is 1\")\n",
        "else:\n",
        "    for i in range(1, num + 1):\n",
        "        factorial = factorial * i\n",
        "    print(\"The factorial of\", num, \"is\", factorial)"
      ],
      "execution_count": 12,
      "outputs": [
        {
          "output_type": "stream",
          "name": "stdout",
          "text": [
            "Enter the number: 3\n",
            "The factorial of 3 is 6\n"
          ]
        }
      ]
    },
    {
      "cell_type": "code",
      "metadata": {
        "colab": {
          "base_uri": "https://localhost:8080/"
        },
        "id": "qYiOHAcjV_Sh",
        "outputId": "41125c22-d973-4cf9-ea0e-9bae053a7245"
      },
      "source": [
        "#13.Reverse a given integer number\n",
        "num = 12345\n",
        "reverse = 0\n",
        "print(\"Number \", num)\n",
        "while num > 0:\n",
        "    reminder = num % 10\n",
        "    reverse = (reverse * 10) + reminder\n",
        "    num = num // 10\n",
        "print(\"Revere Number \", reverse)"
      ],
      "execution_count": 9,
      "outputs": [
        {
          "output_type": "stream",
          "name": "stdout",
          "text": [
            "Number  12345\n",
            "Revere Number  54321\n"
          ]
        }
      ]
    },
    {
      "cell_type": "code",
      "metadata": {
        "colab": {
          "base_uri": "https://localhost:8080/"
        },
        "id": "Ryca5Y98V_Z-",
        "outputId": "dcd06b43-2df2-4d0e-949a-d1903be608bd"
      },
      "source": [
        "#14.Use a loop to display elements from a given list present at odd index positions\n",
        "a = [1,2,3,4,5,6,7,8,9,10]\n",
        "for i in a[::2]:\n",
        "    print(i, end=\" \")"
      ],
      "execution_count": 7,
      "outputs": [
        {
          "output_type": "stream",
          "name": "stdout",
          "text": [
            "1 3 5 7 9 "
          ]
        }
      ]
    },
    {
      "cell_type": "code",
      "metadata": {
        "colab": {
          "base_uri": "https://localhost:8080/"
        },
        "id": "IaD1VvaKV_gt",
        "outputId": "ec3360aa-c8b7-4401-e14c-77281baf6580"
      },
      "source": [
        "#15.Calculate the cube of all numbers from 1 to a given number\n",
        "a = int(input(\"Enter the number: \"))\n",
        "for i in range(1, a + 1):\n",
        "    print(\"The cube:\", (i * i * i))"
      ],
      "execution_count": 3,
      "outputs": [
        {
          "output_type": "stream",
          "name": "stdout",
          "text": [
            "Enter the number: 6\n",
            "The cube: 1\n",
            "The cube: 8\n",
            "The cube: 27\n",
            "The cube: 64\n",
            "The cube: 125\n",
            "The cube: 216\n"
          ]
        }
      ]
    }
  ]
}