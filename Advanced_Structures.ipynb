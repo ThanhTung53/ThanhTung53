{
  "nbformat": 4,
  "nbformat_minor": 0,
  "metadata": {
    "colab": {
      "name": "Advanced_Structures.ipynb",
      "provenance": [],
      "authorship_tag": "ABX9TyNYeA+MVU5Pou38enn4/y6k",
      "include_colab_link": true
    },
    "kernelspec": {
      "name": "python3",
      "display_name": "Python 3"
    },
    "language_info": {
      "name": "python"
    }
  },
  "cells": [
    {
      "cell_type": "markdown",
      "metadata": {
        "id": "view-in-github",
        "colab_type": "text"
      },
      "source": [
        "<a href=\"https://colab.research.google.com/github/ThanhTung53/Tuhu/blob/main/Advanced_Structures.ipynb\" target=\"_parent\"><img src=\"https://colab.research.google.com/assets/colab-badge.svg\" alt=\"Open In Colab\"/></a>"
      ]
    },
    {
      "cell_type": "markdown",
      "metadata": {
        "id": "1KhdM98xyQyV"
      },
      "source": [
        "Bài 1: Viết chương trình thực hiện các yêu cầu sau:\n",
        "- Nhập vào 1 số nguyên dương N từ bàn phím\n",
        "- Hãy xây dựng 1 dictionary với các phần tử chỉ mục và giá trị có dạng (i: log(i)) với I đi từ\n",
        "0 tới N\n",
        "- Hiển thị dictionary trên ra màn hình"
      ]
    },
    {
      "cell_type": "code",
      "metadata": {
        "colab": {
          "base_uri": "https://localhost:8080/"
        },
        "id": "WZy1RLMVyJeI",
        "outputId": "997a2dbe-6709-4045-c276-83b65fadd3cd"
      },
      "source": [
        "import math\n",
        "n = int(input(\"Nhập số nguyên dương n: \"))\n",
        "d = dict()\n",
        "\n",
        "for x in range(1,n+1):\n",
        "    d[x] = math.log(x)\n",
        "\n",
        "print(d) "
      ],
      "execution_count": null,
      "outputs": [
        {
          "output_type": "stream",
          "name": "stdout",
          "text": [
            "Nhập số nguyên dương n: 3\n",
            "{1: 0.0, 2: 0.6931471805599453, 3: 1.0986122886681098}\n"
          ]
        }
      ]
    },
    {
      "cell_type": "markdown",
      "metadata": {
        "id": "xHhiXFzDzYPp"
      },
      "source": [
        "Bài 2: Viết chương trình thực hiện các yêu cầu sau:\n",
        "- Nhập vào từ bàn phím một chuỗi các giá trị (có thể là số nguyên, số thực hay các ký tự)\n",
        "cách nhau bởi dấu phẩy (“,”).\n",
        "- Chuyển chuỗi được nhập từ bàn phím thành một danh sách (list)\n",
        "- Hiển thị danh sách đó ra màn hình."
      ]
    },
    {
      "cell_type": "code",
      "metadata": {
        "colab": {
          "base_uri": "https://localhost:8080/"
        },
        "id": "ncNhUZhRzYaq",
        "outputId": "9f7c51e1-28f4-4b3f-c5a6-fd341fc0b5d4"
      },
      "source": [
        "x = input(\"Enter the list: \").split(\",\")\n",
        "\n",
        "print(x)\n",
        "\n",
        "print(type(x))"
      ],
      "execution_count": null,
      "outputs": [
        {
          "output_type": "stream",
          "name": "stdout",
          "text": [
            "Enter the list: 10, 10.1\n",
            "['10', ' 10.1']\n",
            "<class 'list'>\n"
          ]
        }
      ]
    },
    {
      "cell_type": "markdown",
      "metadata": {
        "id": "cKULOAYS1eJA"
      },
      "source": [
        "Bài 3: Viết chương trình thực hiện các yêu cầu sau:\n",
        "- Nhập vào từ bàn phím một chuỗi các giá trị (có thể là số nguyên, số thực hay các ký tự)\n",
        "cách nhau bởi dấu phẩy (“,”).\n",
        "- Chuyển chuỗi được nhập từ bàn phím thành một tuple\n",
        "- Hiển thị tuple đó ra màn hình."
      ]
    },
    {
      "cell_type": "code",
      "metadata": {
        "colab": {
          "base_uri": "https://localhost:8080/"
        },
        "id": "dE3SBz8r1eXU",
        "outputId": "a2dbc947-def0-4f6d-ebbe-ea494c78ded2"
      },
      "source": [
        "x = input(\"Enter the list: \").split(\",\")\n",
        "\n",
        "x = tuple(x)\n",
        "\n",
        "print(x)\n",
        "\n",
        "print(type(x))"
      ],
      "execution_count": null,
      "outputs": [
        {
          "output_type": "stream",
          "name": "stdout",
          "text": [
            "Enter the list: [10, 11, 10.1]\n",
            "('[10', ' 11', ' 10.1]')\n",
            "<class 'tuple'>\n"
          ]
        }
      ]
    },
    {
      "cell_type": "markdown",
      "metadata": {
        "id": "JiyDXeGf17Qb"
      },
      "source": [
        "Bài 4: Viết chương trình thực hiện các yêu cầu sau:\n",
        "- Nhập vào 1 chuỗi các kí tự từ bàn phím, các từ cách nhau bởi ít nhất một khoảng trắng\n",
        "- Chuyển chuỗi vừa nhập thành 1 danh sách với điều kiện phân tách là dấu khoảng trắng\n",
        "(space)\n",
        "- Hiển thị danh sách thu được ra màn hình"
      ]
    },
    {
      "cell_type": "code",
      "metadata": {
        "colab": {
          "base_uri": "https://localhost:8080/"
        },
        "id": "jEg9-_Dn17ZJ",
        "outputId": "1a0b9c02-f90e-43ae-8e8c-c3ed7366ad12"
      },
      "source": [
        "x = input(\"Enter the list: \").split(\" \")\n",
        "\n",
        "print(x)\n",
        "\n",
        "print(type(x))"
      ],
      "execution_count": null,
      "outputs": [
        {
          "output_type": "stream",
          "name": "stdout",
          "text": [
            "Enter the list: 10 11 12 34\n",
            "['10', '11', '12', '34']\n",
            "<class 'list'>\n"
          ]
        }
      ]
    },
    {
      "cell_type": "markdown",
      "metadata": {
        "id": "VdBIVtU--7Yp"
      },
      "source": [
        "Bài 5: Viết chương trình thực hiện các yêu cầu sau:\n",
        "- Nhập vào 1 danh sách các số nguyên từ bàn phím (Quá trình nhập dừng khi người dùng\n",
        "nhập vào 1 kí tự từ a đến z)\n",
        "- Hiển thị danh sách đó ra màn hình\n",
        "- Yêu cầu người dùng nhập vào một số nguyên N từ bàn phím\n",
        "\n",
        "- Tìm kiếm vị trí xuất hiện đầu tiên của N trong danh sách và hiển thị ra màn hình (nếu không\n",
        "có thì thông báo không tìm thấy ra màn hình).\n",
        "- Tìm kiếm tất cả các vị trí xuất hiện của N trong danh sách và hiển thị ra màn hình. (Nếu\n",
        "không tìm thấy thì thông báo không tìm được ra màn hình)"
      ]
    },
    {
      "cell_type": "code",
      "metadata": {
        "id": "ZbGeJ2Mx-7tH"
      },
      "source": [
        "num = []\n",
        "local = []\n",
        "\n",
        "while True:\n",
        "    n = input(\"Dữ liệu cần nhập cho mảng: \")\n",
        "    if (n.isdigit() == True):\n",
        "        num.append(int(n))\n",
        "    else:\n",
        "        print(\"Dữ liệu đã nhập thành công\")\n",
        "        break\n",
        "print(num)\n",
        "\n",
        "x = int(input(\"Nhập số cần tìm: \"))\n",
        "\n",
        "count = 0\n",
        "flag = 0\n",
        "while(count < len(num)):\n",
        "        if(x == num[count]):\n",
        "            local.append(count)\n",
        "            flag = 1\n",
        "        count += 1\n",
        "\n",
        "if(flag == 1):\n",
        "    print(\"Giá trị\", x, \"xuất hiện đầu tiên trong danh sách tại vị trí:\",local[0])\n",
        "    print(\"Giá trị\", x, \"xuất hiện trong danh sách tại các vị trí:\",local)\n",
        "else:\n",
        "    print(\"Không có giá trị\", x, \"xuất hiện trong danh sách\")"
      ],
      "execution_count": null,
      "outputs": []
    }
  ]
}