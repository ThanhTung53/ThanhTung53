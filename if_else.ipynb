{
  "nbformat": 4,
  "nbformat_minor": 0,
  "metadata": {
    "colab": {
      "name": "if_else.ipynb",
      "provenance": [],
      "authorship_tag": "ABX9TyPOn6tODCN/Wi92s3YiDvxv",
      "include_colab_link": true
    },
    "kernelspec": {
      "name": "python3",
      "display_name": "Python 3"
    },
    "language_info": {
      "name": "python"
    }
  },
  "cells": [
    {
      "cell_type": "markdown",
      "metadata": {
        "id": "view-in-github",
        "colab_type": "text"
      },
      "source": [
        "<a href=\"https://colab.research.google.com/github/ThanhTung53/Tuhu/blob/main/if_else.ipynb\" target=\"_parent\"><img src=\"https://colab.research.google.com/assets/colab-badge.svg\" alt=\"Open In Colab\"/></a>"
      ]
    },
    {
      "cell_type": "code",
      "metadata": {
        "colab": {
          "base_uri": "https://localhost:8080/"
        },
        "id": "lN9BibSEibeM",
        "outputId": "4e6a7582-c8f5-4d42-cb83-574c99da5ca6"
      },
      "source": [
        "import getpass\n",
        "u = input(\"username: \")\n",
        "p = getpass.getpass(prompt= \"password: \")\n",
        "if u == \"peter\" and p == \"Rj@is2019\":\n",
        "  print(\"Login success\")\n",
        "else:\n",
        "  print(\"Login failure\")\n",
        "print(\"The program ends here\")"
      ],
      "execution_count": 5,
      "outputs": [
        {
          "output_type": "stream",
          "name": "stdout",
          "text": [
            "username: peter\n",
            "password: ··········\n",
            "Login success\n",
            "The program ends here\n"
          ]
        }
      ]
    },
    {
      "cell_type": "markdown",
      "metadata": {
        "id": "VCW_N60yojd6"
      },
      "source": [
        "1. Write a Python program to get a number from the user and print whether it is positive or negative"
      ]
    },
    {
      "cell_type": "code",
      "metadata": {
        "colab": {
          "base_uri": "https://localhost:8080/"
        },
        "id": "lq51MW-io4TQ",
        "outputId": "836d93a7-52c2-4a64-d90b-86c41295f2c8"
      },
      "source": [
        "a = float(input(\"Input number: \"))\n",
        "if (a >= 0):\n",
        "   if (a == 0):\n",
        "       print(\"Zero\")\n",
        "   else:\n",
        "       print(\"Number is positive\")\n",
        "else:\n",
        "   print(\"Number is negative\")"
      ],
      "execution_count": 15,
      "outputs": [
        {
          "output_type": "stream",
          "name": "stdout",
          "text": [
            "Input number: 35\n",
            "Number is positive\n"
          ]
        }
      ]
    },
    {
      "cell_type": "markdown",
      "metadata": {
        "id": "rWccl1bLojnY"
      },
      "source": [
        "2. Take three numbers from the user and print the greatest number"
      ]
    },
    {
      "cell_type": "code",
      "metadata": {
        "colab": {
          "base_uri": "https://localhost:8080/"
        },
        "id": "9flVCuYKo4xF",
        "outputId": "1fcb1cab-4574-4bcb-852c-16ac99b74cec"
      },
      "source": [
        "a = float(input(\"Input the 1st number: \"))\n",
        "b = float(input(\"Input the 2nd number: \"))\n",
        "c = float(input(\"Input the 3rd number: \"))\n",
        "\n",
        "if (a >= b) and (a >= c):\n",
        "   greatest = a\n",
        "if (b >= a) and (b >= c):\n",
        "   greatest = b\n",
        "else:\n",
        "   greatest = c\n",
        "\n",
        "print(\"The greatest: \", greatest)"
      ],
      "execution_count": 24,
      "outputs": [
        {
          "output_type": "stream",
          "name": "stdout",
          "text": [
            "Input the 1st number: 25\n",
            "Input the 2nd number: 78\n",
            "Input the 3rd number: 87\n",
            "The greatest:  87.0\n"
          ]
        }
      ]
    },
    {
      "cell_type": "code",
      "metadata": {
        "id": "AzV59T8y6jvi"
      },
      "source": [
        "a = float(input(\"Input the 1st number: \"))\n",
        "b = float(input(\"Input the 2nd number: \"))\n",
        "c = float(input(\"Input the 3rd number: \"))\n",
        "\n",
        "max = a\n",
        "if max < b:  \n",
        "      max = b\n",
        "if max < c:\n",
        "    max = c\n",
        "    \n",
        "print(\"max = \", max)"
      ],
      "execution_count": null,
      "outputs": []
    },
    {
      "cell_type": "markdown",
      "metadata": {
        "id": "t3UgTgrBojtr"
      },
      "source": [
        "3. Write a Python program that reads a floating-point number and prints \"zero\" if the number is\n",
        "zero. Otherwise, print \"positive\" or \"negative\". Add \"small\" if the absolute value of the number is\n",
        "less than 1, or \"large\" if it exceeds 1,000,000."
      ]
    },
    {
      "cell_type": "code",
      "metadata": {
        "colab": {
          "base_uri": "https://localhost:8080/"
        },
        "id": "MardMwDn0rSo",
        "outputId": "0e906a55-700c-49bd-d341-f3bc3e790e70"
      },
      "source": [
        "a = float(input(\"Input a number: \"))\n",
        "\n",
        "if (a > 0):\n",
        "  if (a < 1):\n",
        "    print(\"Positive small number\")\n",
        "  elif (a > 1000000):\n",
        "    print(\"Positive large number\")\n",
        "  else:\n",
        "    print(\"Positive number\")\n",
        "\n",
        "elif (a < 0):\n",
        "  if abs(a) < 1:\n",
        "    print(\"Negative small number\")\n",
        "  elif abs(a) > 1000000:\n",
        "    print(\"Negative large number\")\n",
        "  else:\n",
        "    print(\"Negative number\")\n",
        "\n",
        "else:\n",
        "  print(\"Zero\")"
      ],
      "execution_count": 49,
      "outputs": [
        {
          "output_type": "stream",
          "name": "stdout",
          "text": [
            "Input a number: 25\n",
            "Positive number\n"
          ]
        }
      ]
    },
    {
      "cell_type": "markdown",
      "metadata": {
        "id": "OCwB0ZZooj1S"
      },
      "source": [
        "4. Write a Python program that keeps a number from the user and generates an integer between 1\n",
        "and 7 and displays the name of the weekday."
      ]
    },
    {
      "cell_type": "code",
      "metadata": {
        "colab": {
          "base_uri": "https://localhost:8080/"
        },
        "id": "KyLr__Xno548",
        "outputId": "7ee7230e-3ac7-48af-b1e3-fdccf9fadd25"
      },
      "source": [
        "a = int(input(\"input number: \"))\n",
        "if (a == 1):\n",
        "    print(\"Monday\")\n",
        "elif (a == 2):\n",
        "    print(\"Tuesday\")\n",
        "elif (a == 3):\n",
        "    print(\"Wednesday\")\n",
        "elif (a == 4):\n",
        "    print(\"Thursday\")\n",
        "elif (a == 5):\n",
        "    print(\"Friday\")\n",
        "elif (a == 6):\n",
        "    print(\"Saturday\")\n",
        "elif (a == 7):\n",
        "    print(\"Sunday\")\n",
        "else:\n",
        "    print(\"unknown\")"
      ],
      "execution_count": 50,
      "outputs": [
        {
          "output_type": "stream",
          "name": "stdout",
          "text": [
            "input number: 3\n",
            "Wednesday\n"
          ]
        }
      ]
    },
    {
      "cell_type": "markdown",
      "metadata": {
        "id": "uieNJa08oj7q"
      },
      "source": [
        "5. Write a Python program that reads in two floating-point numbers and tests whether they are the\n",
        "same up to three decimal places."
      ]
    },
    {
      "cell_type": "code",
      "metadata": {
        "colab": {
          "base_uri": "https://localhost:8080/"
        },
        "id": "v1XTAeWuo6VC",
        "outputId": "0789372c-79c9-4aae-d023-79ba5888d46c"
      },
      "source": [
        "a = float(input(\"Input floating-point number: \"))\n",
        "b = float(input(\"Input another floating-point number: \"))\n",
        "\n",
        "a = round(a*1000)\n",
        "a = a/1000\n",
        "b = round(b*1000)\n",
        "b = b/1000\n",
        "\n",
        "if (a == b):\n",
        "  print(\"They are similar\")\n",
        "else:\n",
        "  print(\"They are different\")"
      ],
      "execution_count": 22,
      "outputs": [
        {
          "output_type": "stream",
          "name": "stdout",
          "text": [
            "Input floating-point number: 25.586\n",
            "Input floating-point another number: 25.589\n",
            "They are different\n"
          ]
        }
      ]
    }
  ]
}