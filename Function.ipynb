{
  "nbformat": 4,
  "nbformat_minor": 0,
  "metadata": {
    "colab": {
      "name": "Function.ipynb",
      "provenance": [],
      "authorship_tag": "ABX9TyP1j9Xmv+zJUV7v4363Ew38",
      "include_colab_link": true
    },
    "kernelspec": {
      "name": "python3",
      "display_name": "Python 3"
    },
    "language_info": {
      "name": "python"
    }
  },
  "cells": [
    {
      "cell_type": "markdown",
      "metadata": {
        "id": "view-in-github",
        "colab_type": "text"
      },
      "source": [
        "<a href=\"https://colab.research.google.com/github/ThanhTung53/Tuhu/blob/main/Function.ipynb\" target=\"_parent\"><img src=\"https://colab.research.google.com/assets/colab-badge.svg\" alt=\"Open In Colab\"/></a>"
      ]
    },
    {
      "cell_type": "markdown",
      "metadata": {
        "id": "EC0gDLQhmwOK"
      },
      "source": [
        "Bài 1: Hãy xây dựng một hàm thực hiện các yêu cầu sau:\n",
        "- Xuất ra màn hình câu thông báo: “Lập trình Java 2021”\n",
        "- Hàm không có giá trị trả về\n",
        "Từ chương trình chính, gọi thực hiện hàm này."
      ]
    },
    {
      "cell_type": "code",
      "metadata": {
        "colab": {
          "base_uri": "https://localhost:8080/"
        },
        "id": "Qs7Ncy5wmeNM",
        "outputId": "b66c3683-00e0-4d6c-8bde-efc5780d443b"
      },
      "source": [
        "def sayhello():\n",
        "  print(\"Lập trình Java 2021\")\n",
        "\n",
        "sayhello()"
      ],
      "execution_count": null,
      "outputs": [
        {
          "output_type": "stream",
          "name": "stdout",
          "text": [
            "Lập trình Java 2021\n"
          ]
        }
      ]
    },
    {
      "cell_type": "markdown",
      "metadata": {
        "id": "GKjpEz-3mz70"
      },
      "source": [
        "Bài 2: Hãy xây dựng một hàm thực hiện các yêu cầu sau:\n",
        "- Nhận một tham số đầu vào là một chuỗi ký tự (kiểu String)\n",
        "- Xuất ra màn hình nội dung chuỗi được truyền vào từ tham số\n",
        "- Hàm không có giá trị trả về\n",
        "Từ chương trình chính gọi thực hiện hàm này."
      ]
    },
    {
      "cell_type": "code",
      "metadata": {
        "id": "rh-8q0gqm01N",
        "colab": {
          "base_uri": "https://localhost:8080/"
        },
        "outputId": "add6f25a-fc8f-4e8c-eb1b-79d42e103075"
      },
      "source": [
        "def my_func(fname):\n",
        "    print(fname)\n",
        "\n",
        "my_func(\"Thanh Tung\")"
      ],
      "execution_count": null,
      "outputs": [
        {
          "output_type": "stream",
          "name": "stdout",
          "text": [
            "Thanh Tung\n"
          ]
        }
      ]
    },
    {
      "cell_type": "markdown",
      "metadata": {
        "id": "3TBj1sEim0KB"
      },
      "source": [
        "Bài 3: Hãy viết chương trình thực hiện các yêu cầu sau:\n",
        "- Nhập một số nguyên dương n từ bàn phím (kiểm tra nếu không đạt yêu cầu thì bắt nhập\n",
        "lại)\n",
        "- Nhập một thông điệp từ bàn phím\n",
        "- Gọi thực hiện hàm ở Bài 2 n lần với thông điệp được truyền làm tham số đầu vào của hàm."
      ]
    },
    {
      "cell_type": "code",
      "metadata": {
        "id": "Z2L7BcEFm1N_",
        "colab": {
          "base_uri": "https://localhost:8080/"
        },
        "outputId": "2be38ad8-494d-4493-bdb3-8781e36909ad"
      },
      "source": [
        "def input_n():\n",
        "    n = int(input(\"Nhập số nguyên dương: \"))\n",
        "    if(n < 0):\n",
        "        input_n()\n",
        "    return n\n",
        "\n",
        "def output_list(list):\n",
        "    print(list)\n",
        "\n",
        "def main():\n",
        "    x = input_n()\n",
        "    for y in range(1,x + 1):\n",
        "        output_list(\"Say hi!\")\n",
        "\n",
        "if __name__ == \"__main__\":\n",
        "    main()"
      ],
      "execution_count": null,
      "outputs": [
        {
          "output_type": "stream",
          "name": "stdout",
          "text": [
            "Nhập số nguyên dương: 3\n",
            "Say hi!\n",
            "Say hi!\n",
            "Say hi!\n"
          ]
        }
      ]
    },
    {
      "cell_type": "markdown",
      "metadata": {
        "id": "i9x3PC8Mm0TE"
      },
      "source": [
        "Bài 4: Hãy viết chương trình thực hiện các yêu cầu sau:\n",
        "- Xây dựng hàm giải phương trình bậc 1 (ax + b = 0), với hệ số a & b được truyền vào qua\n",
        "thông số của hàm.\n",
        "- Chương trình chính nhận các thông số a, b từ bàn phím\n",
        "- Chương trình chính gọi hàm giải phương trình bậc 1 nêu trên"
      ]
    },
    {
      "cell_type": "code",
      "metadata": {
        "id": "Ygww3C5bm1tn",
        "colab": {
          "base_uri": "https://localhost:8080/"
        },
        "outputId": "53fc5c7c-b9c1-4c53-8186-60c5455326eb"
      },
      "source": [
        "def pt_bac_1(a,b):\n",
        "    if (a == 0) and (b == 0):\n",
        "        print(\"Phương trình có vô số nghiệm\")\n",
        "    elif (a == 0) and (b !=0):\n",
        "        print(\"Phương trình vô nghiệm\")\n",
        "    else:\n",
        "        print(\"Phương trình có nghiệm duy nhất x = \",-b/a) \n",
        "\n",
        "def main():\n",
        "    a = float(input(\"a = \"))\n",
        "    b = float(input(\"b = \"))\n",
        "    pt_bac_1(a,b)\n",
        "\n",
        "if __name__ == \"__main__\":\n",
        "    main()"
      ],
      "execution_count": null,
      "outputs": [
        {
          "output_type": "stream",
          "name": "stdout",
          "text": [
            "a = 3\n",
            "b = 4\n",
            "Phương trình có nghiệm duy nhất x =  -1.3333333333333333\n"
          ]
        }
      ]
    },
    {
      "cell_type": "markdown",
      "metadata": {
        "id": "SHmqAvg5m0ad"
      },
      "source": [
        "Bài 5: Hãy viết chương trình thực hiện các yêu cầu sau:\n",
        "- Xây dựng hàm giải phương trình bậc (ax2 + bx + c = 0), với hệ số a & b & c được truyền\n",
        "vào qua thông số của hàm.\n",
        "- Chương trình chính nhận các thông số a, b & c từ bàn phím\n",
        "- Chương trình chính gọi hàm giải phương trình bậc 2 nêu trên"
      ]
    },
    {
      "cell_type": "code",
      "metadata": {
        "colab": {
          "base_uri": "https://localhost:8080/"
        },
        "id": "5s8OI7f_4z3W",
        "outputId": "eb307056-f823-4a1e-e332-3faed92a8386"
      },
      "source": [
        "import math\n",
        "\n",
        "def pt_bac_2(a,b,c):\n",
        "  if (a == 0):\n",
        "      if (b == 0):\n",
        "          if (c == 0):\n",
        "              print(\"Phương trình có vô số nghiệm\")\n",
        "          else:\n",
        "              print(\"Phương trình vô nghiệm\")\n",
        "      else:\n",
        "          if (c == 0):\n",
        "              print(\"có 1 nghiệm x = 0\")\n",
        "          else:\n",
        "              print(\"có 1 nghiệm x = \", -c/b)\n",
        "  else:\n",
        "      delta = b**2 - 4*a*c\n",
        "      if (delta < 0):\n",
        "          print(\"phương trình vô nghiệm\")\n",
        "      elif (delta == 0):\n",
        "          print(\"phương trình có 1 nghiệm x = \", -b/(2*a))\n",
        "      else:\n",
        "          print(\"phương trình có 2 nghiệm phân biệt\")\n",
        "          print(\"x1 = \", float((-b - sqrt(delta))/(2*a)))\n",
        "          print(\"x2 = \", float((-b + sqrt(delta))/(2*a)))\n",
        "          \n",
        "a = float(input(\"Nhập a: \"))\n",
        "b = float(input(\"Nhập b: \"))\n",
        "c = float(input(\"Nhập c: \"))\n",
        "pt_bac_2(a,b,c)"
      ],
      "execution_count": 8,
      "outputs": [
        {
          "output_type": "stream",
          "name": "stdout",
          "text": [
            "Nhập a: 1\n",
            "Nhập b: 2\n",
            "Nhập c: -3\n",
            "phương trình có 2 nghiệm phân biệt\n",
            "x1 =  -3.0\n",
            "x2 =  1.0\n"
          ]
        }
      ]
    },
    {
      "cell_type": "markdown",
      "metadata": {
        "id": "Trm-NL8eopfx"
      },
      "source": [
        "Bài 6: Hãy viết chương trình thực hiện các yêu cầu sau:\n",
        "\n",
        "- Cho người dùng lựa chọn giải phương trình bậc 1 hay bậc 2 bằng cách nhập số (1 hay 2)\n",
        "từ bàn phím\n",
        "- Nếu người dùng chọn giải phương trình bậc 1, thì thực hiện các bước như Bài 4\n",
        "- Nếu người dùng chọn giải phương trình bậc 2, thì thực hiện các bước như Bài 5"
      ]
    },
    {
      "cell_type": "code",
      "metadata": {
        "id": "M-mUZM3nop_0",
        "colab": {
          "base_uri": "https://localhost:8080/"
        },
        "outputId": "4ba00d33-56f2-470f-b5f6-2c3c096d9166"
      },
      "source": [
        "import math\n",
        "\n",
        "def pt_bac_1(a,b):\n",
        "    if (a == 0) and (b == 0):\n",
        "        print(\"Phương trình có vô số nghiệm\")\n",
        "    elif (a == 0) and (b !=0):\n",
        "        print(\"Phương trình vô nghiệm\")\n",
        "    else:\n",
        "        print(\"Phương trình có nghiệm duy nhất x = \",-b/a) \n",
        "\n",
        "def pt_bac_2(a,b,c):\n",
        "    delta = b*b - 4*a*c\n",
        "    if (delta > 0):\n",
        "        x1=(-b - math.sqrt(delta))/(2*a)\n",
        "        x2=(-b + math.sqrt(delta))/(2*a)\n",
        "        print(\"Phương trình có 2 nghiệm\")\n",
        "        print(\"x1 =\",x1)\n",
        "        print(\"x2 =\",x2)\n",
        "    if (delta == 0):\n",
        "        x = (-b)/(2*a)\n",
        "        print(\"Phương trình có duy nhất một nghiệm\")\n",
        "        print(\"x1 = x2 =\",x)\n",
        "    if (delta < 0):\n",
        "        print(\"Phương trình vô nghiệm\")\n",
        "\n",
        "selection = int(input(\"Chọn giải phương trình bậc 1 hoặc 2: \"))\n",
        "if (selection == 1): \n",
        "  a = float(input(\"Nhập a: \"))\n",
        "  b = float(input(\"Nhập b: \"))\n",
        "  pt_bac_1(a,b)\n",
        "else:\n",
        "  a = float(input(\"Nhập a: \"))\n",
        "  b = float(input(\"Nhập b: \"))\n",
        "  c = float(input(\"Nhập c: \"))\n",
        "  pt_bac_2(a,b,c)"
      ],
      "execution_count": 10,
      "outputs": [
        {
          "output_type": "stream",
          "name": "stdout",
          "text": [
            "Chọn giải phương trình bậc 1 hoặc 2: 2\n",
            "Nhập a: 1\n",
            "Nhập b: 2\n",
            "Nhập c: -3\n",
            "Phương trình có 2 nghiệm\n",
            "x1 = -3.0\n",
            "x2 = 1.0\n"
          ]
        }
      ]
    },
    {
      "cell_type": "markdown",
      "metadata": {
        "id": "E3BcL_Z6oqRi"
      },
      "source": [
        "Bài 7: Viết chương trình thực hiện các yêu cầu sau:\n",
        "- Thực hiện yêu cầu như bài 6\n",
        "- Sau khi thực hiện xong cho người dùng lựa chọn tiếp tục thực hiện lại hay kết thúc chương\n",
        "trình"
      ]
    },
    {
      "cell_type": "code",
      "metadata": {
        "id": "D9dHS_GBorgx",
        "colab": {
          "base_uri": "https://localhost:8080/"
        },
        "outputId": "cedacd39-2a9d-4a1f-9ff5-4b7856521ca2"
      },
      "source": [
        "import math\n",
        "\n",
        "def pt_bac_1 (a,b):\n",
        "    if (a == 0) and (b == 0):\n",
        "        print(\"Phương trình có vô số nghiệm\")\n",
        "    elif (a == 0) and (b !=0):\n",
        "        print(\"Phương trình vô nghiệm\")\n",
        "    else:\n",
        "        print(\"Phương trình có nghiệm duy nhất x = \",-b/a) \n",
        "\n",
        "def pt_bac_2 (a,b,c):\n",
        "    delta = b*b - 4*a*c\n",
        "    if (delta > 0):\n",
        "        x1=(-b - math.sqrt(delta))/(2*a)\n",
        "        x2=(-b + math.sqrt(delta))/(2*a)\n",
        "        print(\"Phương trình có 2 nghiệm\")\n",
        "        print(\"x1 =\",x1)\n",
        "        print(\"x2 =\",x2)\n",
        "    if (delta == 0):\n",
        "        x = (-b)/(2*a)\n",
        "        print(\"Phương trình có duy nhất một nghiệm\")\n",
        "        print(\"x1 = x2 =\",x)\n",
        "    if (delta < 0):\n",
        "        print(\"Phương trình vô nghiệm\")\n",
        "\n",
        "selection = int(input(\"Chọn giải phương trình bậc 1 hoặc 2: \"))\n",
        "if (selection == 1): \n",
        "  a = float(input(\"Nhập a: \"))\n",
        "  b = float(input(\"Nhập b: \"))\n",
        "  pt_bac_1(a,b)\n",
        "else:\n",
        "  a = float(input(\"Nhập a: \"))\n",
        "  b = float(input(\"Nhập b: \"))\n",
        "  c = float(input(\"Nhập c: \"))\n",
        "  pt_bac_2(a,b,c)\n",
        "\n",
        "def cont_or_end():\n",
        "    print(\"Tiếp tục thực hiện?\")\n",
        "    print(\"Yes để tiếp tục - No để dừng lại\")\n",
        "    T = input(\"Yes or No: \")\n",
        "    if (T == \"Yes\"):\n",
        "        main()\n",
        "    else:\n",
        "        pass\n",
        "cont_or_end()"
      ],
      "execution_count": 17,
      "outputs": [
        {
          "name": "stdout",
          "output_type": "stream",
          "text": [
            "Chọn giải phương trình bậc 1 hoặc 2: 2\n",
            "Nhập a: 3\n",
            "Nhập b: -4\n",
            "Nhập c: 5\n",
            "Phương trình vô nghiệm\n",
            "Tiếp tục thực hiện?\n",
            "Yes để tiếp tục - No để dừng lại\n",
            "Yes or No: No\n"
          ]
        }
      ]
    }
  ]
}