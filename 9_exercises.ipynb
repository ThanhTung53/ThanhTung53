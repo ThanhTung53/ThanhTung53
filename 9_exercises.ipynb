{
  "nbformat": 4,
  "nbformat_minor": 0,
  "metadata": {
    "colab": {
      "name": "9_exercises.ipynb",
      "provenance": [],
      "authorship_tag": "ABX9TyPV7HHxmvygd5/62QZP2PPf",
      "include_colab_link": true
    },
    "kernelspec": {
      "name": "python3",
      "display_name": "Python 3"
    },
    "language_info": {
      "name": "python"
    }
  },
  "cells": [
    {
      "cell_type": "markdown",
      "metadata": {
        "id": "view-in-github",
        "colab_type": "text"
      },
      "source": [
        "<a href=\"https://colab.research.google.com/github/ThanhTung53/Tuhu/blob/main/9_exercises.ipynb\" target=\"_parent\"><img src=\"https://colab.research.google.com/assets/colab-badge.svg\" alt=\"Open In Colab\"/></a>"
      ]
    },
    {
      "cell_type": "markdown",
      "metadata": {
        "id": "CpaVOD9JTE4H"
      },
      "source": [
        "1. Write a Python program to sum all the items in a list. (sum() function)"
      ]
    },
    {
      "cell_type": "code",
      "metadata": {
        "colab": {
          "base_uri": "https://localhost:8080/"
        },
        "id": "jWZUAzEHSufR",
        "outputId": "564511fe-ebf0-4dcb-a06c-eab8993a206a"
      },
      "source": [
        "numbers = [2, 3, 4]\n",
        "a = (sum(numbers))\n",
        "print(a)"
      ],
      "execution_count": 1,
      "outputs": [
        {
          "output_type": "stream",
          "name": "stdout",
          "text": [
            "9\n"
          ]
        }
      ]
    },
    {
      "cell_type": "markdown",
      "metadata": {
        "id": "O9Lq1nBKTbrP"
      },
      "source": [
        "2. Write a Python program to multiply all the items in a list. (math.prod() function)"
      ]
    },
    {
      "cell_type": "code",
      "metadata": {
        "colab": {
          "base_uri": "https://localhost:8080/"
        },
        "id": "O9wqrsacTb6_",
        "outputId": "e8636c4e-882f-4d37-ba9d-593cfe4d62e7"
      },
      "source": [
        "import numpy\n",
        "a = [1, 2, 3]\n",
        "b = [4, 5, 6]\n",
        "result_a = numpy.prod(a)\n",
        "result_b = numpy.prod(b)\n",
        "print(result_a)\n",
        "print(result_b)"
      ],
      "execution_count": 15,
      "outputs": [
        {
          "output_type": "stream",
          "name": "stdout",
          "text": [
            "6\n",
            "120\n"
          ]
        }
      ]
    },
    {
      "cell_type": "markdown",
      "metadata": {
        "id": "BviUNVT9UvUg"
      },
      "source": [
        "3. Write a Python program to get the largest number from a list. (max() function)"
      ]
    },
    {
      "cell_type": "code",
      "metadata": {
        "colab": {
          "base_uri": "https://localhost:8080/"
        },
        "id": "RhH1yLEXUvd5",
        "outputId": "bd147d72-2c2d-475f-b011-7740273371ca"
      },
      "source": [
        "a = max(10, 20, 30)\n",
        "print(a)"
      ],
      "execution_count": 6,
      "outputs": [
        {
          "output_type": "stream",
          "name": "stdout",
          "text": [
            "30\n"
          ]
        }
      ]
    },
    {
      "cell_type": "markdown",
      "metadata": {
        "id": "LtcIJNAHU5GV"
      },
      "source": [
        "4. Write a Python program to get the smallest number from a list. (min() function)"
      ]
    },
    {
      "cell_type": "code",
      "metadata": {
        "colab": {
          "base_uri": "https://localhost:8080/"
        },
        "id": "MXzlY0BOU5PD",
        "outputId": "0419861c-2a94-4dc2-bf3f-0d3a60d353c9"
      },
      "source": [
        "b = min(100, 50, 5)\n",
        "print(b)"
      ],
      "execution_count": 7,
      "outputs": [
        {
          "output_type": "stream",
          "name": "stdout",
          "text": [
            "5\n"
          ]
        }
      ]
    },
    {
      "cell_type": "markdown",
      "metadata": {
        "id": "OPVSFxC-VEed"
      },
      "source": [
        "5. Write a Python program to sort a list in descending order (sort() function)"
      ]
    },
    {
      "cell_type": "code",
      "metadata": {
        "colab": {
          "base_uri": "https://localhost:8080/"
        },
        "id": "-hsUeFkOVEmv",
        "outputId": "d9742d0d-f867-46b6-aa60-a24bae5bf495"
      },
      "source": [
        "a = [100, 50, 75, 25, 45, 3]\n",
        "a.sort(reverse = True)\n",
        "print(a)"
      ],
      "execution_count": 8,
      "outputs": [
        {
          "output_type": "stream",
          "name": "stdout",
          "text": [
            "[100, 75, 50, 45, 25, 3]\n"
          ]
        }
      ]
    },
    {
      "cell_type": "markdown",
      "metadata": {
        "id": "5Ylt3WFDVe2z"
      },
      "source": [
        "6. Write a Python program to sort a list in ascending order (sort() function)"
      ]
    },
    {
      "cell_type": "code",
      "metadata": {
        "colab": {
          "base_uri": "https://localhost:8080/"
        },
        "id": "0pJOJW1YVfAx",
        "outputId": "14077da4-0ae5-47c6-e81e-fa8b0d50036f"
      },
      "source": [
        "b = [100, 50, 75, 25, 45, 3]\n",
        "b.sort()\n",
        "print(b)"
      ],
      "execution_count": 9,
      "outputs": [
        {
          "output_type": "stream",
          "name": "stdout",
          "text": [
            "[3, 25, 45, 50, 75, 100]\n"
          ]
        }
      ]
    },
    {
      "cell_type": "markdown",
      "metadata": {
        "id": "I-hWqgZ3VsI-"
      },
      "source": [
        "7. Write a Python program to get the size of a list (len() function)"
      ]
    },
    {
      "cell_type": "code",
      "metadata": {
        "colab": {
          "base_uri": "https://localhost:8080/"
        },
        "id": "7kozbtcSVsR0",
        "outputId": "b0f9316c-1ebc-484b-d2c4-b52aed076bbb"
      },
      "source": [
        "a = [\"Toi\", \"Ten\", \"La\", \"Huynh\", \"Thanh\", \"Tung\"]\n",
        "print(len(a))"
      ],
      "execution_count": 10,
      "outputs": [
        {
          "output_type": "stream",
          "name": "stdout",
          "text": [
            "6\n"
          ]
        }
      ]
    },
    {
      "cell_type": "markdown",
      "metadata": {
        "id": "sn1q_47yV5Ze"
      },
      "source": [
        "8. Write a Python program to get random element(s) of a list (random.choice() function)"
      ]
    },
    {
      "cell_type": "code",
      "metadata": {
        "colab": {
          "base_uri": "https://localhost:8080/"
        },
        "id": "ozIfuXijV5jN",
        "outputId": "b64933a4-f61e-46c9-d9c3-0a38fac0ef2e"
      },
      "source": [
        "import random\n",
        "a = [1, 2, 3, 4, 5, 6, 7, 8, 9, 10]\n",
        "print(random.choice(a))"
      ],
      "execution_count": 12,
      "outputs": [
        {
          "output_type": "stream",
          "name": "stdout",
          "text": [
            "1\n"
          ]
        }
      ]
    },
    {
      "cell_type": "markdown",
      "metadata": {
        "id": "sR_Z6gl0WUnJ"
      },
      "source": [
        "9. Write a Python program to join two different lists into one (use + or extend() function)"
      ]
    },
    {
      "cell_type": "code",
      "metadata": {
        "colab": {
          "base_uri": "https://localhost:8080/"
        },
        "id": "BuFw1qyNWUxI",
        "outputId": "67a3d4bf-97f7-4362-cae9-0a32760f1dc1"
      },
      "source": [
        "a = [\"increase\", \"jump\", \"ascend\", \"rocket\", \"rise\"]\n",
        "b = [\"decrease\", \"plunge\", \"descend\", \"plummet\", \"fall\"]\n",
        "a.extend(b)\n",
        "print(a)"
      ],
      "execution_count": 14,
      "outputs": [
        {
          "output_type": "stream",
          "name": "stdout",
          "text": [
            "['increase', 'jump', 'ascend', 'rocket', 'rise', 'decrease', 'plunge', 'descend', 'plummet', 'fall']\n"
          ]
        }
      ]
    }
  ]
}