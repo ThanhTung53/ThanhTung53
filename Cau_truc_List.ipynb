{
  "nbformat": 4,
  "nbformat_minor": 0,
  "metadata": {
    "colab": {
      "name": "Cau_truc_List.ipynb",
      "provenance": [],
      "authorship_tag": "ABX9TyMCbPoTEH/2iyTapI6WSOWV",
      "include_colab_link": true
    },
    "kernelspec": {
      "name": "python3",
      "display_name": "Python 3"
    },
    "language_info": {
      "name": "python"
    }
  },
  "cells": [
    {
      "cell_type": "markdown",
      "metadata": {
        "id": "view-in-github",
        "colab_type": "text"
      },
      "source": [
        "<a href=\"https://colab.research.google.com/github/ThanhTung53/Tuhu/blob/main/Cau_truc_List.ipynb\" target=\"_parent\"><img src=\"https://colab.research.google.com/assets/colab-badge.svg\" alt=\"Open In Colab\"/></a>"
      ]
    },
    {
      "cell_type": "code",
      "metadata": {
        "colab": {
          "base_uri": "https://localhost:8080/"
        },
        "id": "Oy4eGyxvOoR6",
        "outputId": "efbe1e9b-cd54-4384-de1e-11a3d530de27"
      },
      "source": [
        "list1 = ['physics', 'chemistry', 1997, 2000]\n",
        "list2 = [1, 2, 3, 4, 5 ]\n",
        "list3 = [\"a\", \"b\", \"c\", \"d\"]\n",
        "print(list1)\n",
        "print(list2)\n",
        "print(list3)"
      ],
      "execution_count": null,
      "outputs": [
        {
          "output_type": "stream",
          "name": "stdout",
          "text": [
            "['physics', 'chemistry', 1997, 2000]\n",
            "[1, 2, 3, 4, 5]\n",
            "['a', 'b', 'c', 'd']\n"
          ]
        }
      ]
    },
    {
      "cell_type": "code",
      "metadata": {
        "colab": {
          "base_uri": "https://localhost:8080/"
        },
        "id": "hWTjIX7aQCpf",
        "outputId": "63f630a5-6450-42ea-b44f-752ebef2cb8e"
      },
      "source": [
        "list1 = ['physics', 'chemistry', 1997, 2000]\n",
        "list2 = [1, 2, 3, 4, 5, 6, 7 ]\n",
        "print(\"list1[0]: \", list1[0])\n",
        "print(\"list2[1:5]: \", list2[1:5])"
      ],
      "execution_count": null,
      "outputs": [
        {
          "output_type": "stream",
          "name": "stdout",
          "text": [
            "list1[0]:  physics\n",
            "list2[1:5]:  [2, 3, 4, 5]\n"
          ]
        }
      ]
    },
    {
      "cell_type": "code",
      "metadata": {
        "colab": {
          "base_uri": "https://localhost:8080/"
        },
        "id": "yKTTz841QM1-",
        "outputId": "db8b6c93-717f-4bb1-9beb-c5145de774d0"
      },
      "source": [
        "list3= ['physics', 'chemistry', 1997, 2000]\n",
        "print(\"Value available at index 2 : \")\n",
        "print(list3[2])\n",
        "list3[2] = 2001\n",
        "print(\"New value available at index 2 : \")\n",
        "print(list3[2])"
      ],
      "execution_count": null,
      "outputs": [
        {
          "output_type": "stream",
          "name": "stdout",
          "text": [
            "Value available at index 2 : \n",
            "1997\n",
            "New value available at index 2 : \n",
            "2001\n"
          ]
        }
      ]
    },
    {
      "cell_type": "code",
      "metadata": {
        "colab": {
          "base_uri": "https://localhost:8080/"
        },
        "id": "kbv9t2qnQZ_z",
        "outputId": "05e1fd15-2296-45e6-a886-4cf2cc810e43"
      },
      "source": [
        "list1 = ['physics', 'chemistry', 1997, 2000]\n",
        "print(list1)\n",
        "del list1[2]\n",
        "print(\"After deleting value at index 2 : \")\n",
        "print(list1)"
      ],
      "execution_count": null,
      "outputs": [
        {
          "output_type": "stream",
          "name": "stdout",
          "text": [
            "['physics', 'chemistry', 1997, 2000]\n",
            "After deleting value at index 2 : \n",
            "['physics', 'chemistry', 2000]\n"
          ]
        }
      ]
    },
    {
      "cell_type": "code",
      "metadata": {
        "colab": {
          "base_uri": "https://localhost:8080/"
        },
        "id": "mRgksCQ1Qf3a",
        "outputId": "2c5a43a9-d27e-40b5-fed7-6618793604da"
      },
      "source": [
        "a = [1, 2, 3]\n",
        "print(len(a))\n",
        "\n",
        "b1 = [1, 2, 3]\n",
        "b2 = [4, 5, 6]\n",
        "b3 = b1 + b2\n",
        "print(b3)\n",
        "\n",
        "d = [1, 2, 3]\n",
        "if 3 in d:\n",
        "  print(True)\n",
        "\n",
        "for x in [1, 2, 3]: \n",
        "  print(x)"
      ],
      "execution_count": null,
      "outputs": [
        {
          "output_type": "stream",
          "name": "stdout",
          "text": [
            "3\n",
            "[1, 2, 3, 4, 5, 6]\n",
            "True\n",
            "1\n",
            "2\n",
            "3\n"
          ]
        }
      ]
    },
    {
      "cell_type": "code",
      "metadata": {
        "colab": {
          "base_uri": "https://localhost:8080/"
        },
        "id": "P4zms6uAZUCq",
        "outputId": "fe2a5b09-020b-4277-c360-014ed59d5779"
      },
      "source": [
        "[\"Hi!\"]*3"
      ],
      "execution_count": null,
      "outputs": [
        {
          "output_type": "execute_result",
          "data": {
            "text/plain": [
              "['Hi!', 'Hi!', 'Hi!']"
            ]
          },
          "metadata": {},
          "execution_count": 19
        }
      ]
    },
    {
      "cell_type": "code",
      "metadata": {
        "colab": {
          "base_uri": "https://localhost:8080/"
        },
        "id": "KYo1J1jsTlVn",
        "outputId": "1579511a-5040-4b7a-93d0-13f3b6aca958"
      },
      "source": [
        "L = [\"Red\", \"Yellow\", \"Green\"]\n",
        "print(L[2])\n",
        "print(L[-2])\n",
        "print(L[1:])"
      ],
      "execution_count": null,
      "outputs": [
        {
          "output_type": "stream",
          "name": "stdout",
          "text": [
            "Green\n",
            "Yellow\n",
            "['Yellow', 'Green']\n"
          ]
        }
      ]
    },
    {
      "cell_type": "code",
      "metadata": {
        "colab": {
          "base_uri": "https://localhost:8080/"
        },
        "id": "utvhxIeArOgH",
        "outputId": "aebc9487-cea3-4745-e5c2-e403996ee325"
      },
      "source": [
        "list1 = [1998, 2000]\n",
        "list2 = [1, 2, 3, 4, 5, 6, 7 ]\n",
        "\n",
        "print(len(list1))\n",
        "print(max(list1))\n",
        "print(min(list1))"
      ],
      "execution_count": null,
      "outputs": [
        {
          "output_type": "stream",
          "name": "stdout",
          "text": [
            "2\n",
            "2000\n",
            "1998\n"
          ]
        }
      ]
    },
    {
      "cell_type": "code",
      "metadata": {
        "colab": {
          "base_uri": "https://localhost:8080/"
        },
        "id": "OWzaaRLarVya",
        "outputId": "f2590f7b-04dd-45f0-ed1d-a120c4fb7dce"
      },
      "source": [
        "list1 = [ 1, 2, 3, 4, 5, 6, 1998, 2000]\n",
        "\n",
        "print(\"add 50\")\n",
        "list1.append(50) \n",
        "print(list1)\n",
        "\n",
        "print(\"count50\")\n",
        "list1.count(50) \n",
        "print(list1)\n",
        "\n",
        "print(\"position\")\n",
        "list1.index(1998) \n",
        "print(list1)\n",
        "\n",
        "print(\"insert 2000\")\n",
        "list1.insert(1, 2000) \n",
        "print(list1)\n",
        "\n",
        "print(\"del 5\")\n",
        "list1.remove(5) \n",
        "print(list1)"
      ],
      "execution_count": null,
      "outputs": [
        {
          "output_type": "stream",
          "name": "stdout",
          "text": [
            "add 50\n",
            "[1, 2, 3, 4, 5, 6, 1998, 2000, 50]\n",
            "count50\n",
            "[1, 2, 3, 4, 5, 6, 1998, 2000, 50]\n",
            "position\n",
            "[1, 2, 3, 4, 5, 6, 1998, 2000, 50]\n",
            "insert 2000\n",
            "[1, 2000, 2, 3, 4, 5, 6, 1998, 2000, 50]\n",
            "del 5\n",
            "[1, 2000, 2, 3, 4, 6, 1998, 2000, 50]\n"
          ]
        }
      ]
    }
  ]
}