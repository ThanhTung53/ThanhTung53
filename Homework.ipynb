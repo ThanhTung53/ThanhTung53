{
  "nbformat": 4,
  "nbformat_minor": 0,
  "metadata": {
    "colab": {
      "name": "Homework.ipynb",
      "provenance": [],
      "include_colab_link": true
    },
    "kernelspec": {
      "name": "python3",
      "display_name": "Python 3"
    },
    "language_info": {
      "name": "python"
    }
  },
  "cells": [
    {
      "cell_type": "markdown",
      "metadata": {
        "id": "view-in-github",
        "colab_type": "text"
      },
      "source": [
        "<a href=\"https://colab.research.google.com/github/ThanhTung53/Tuhu/blob/main/Homework.ipynb\" target=\"_parent\"><img src=\"https://colab.research.google.com/assets/colab-badge.svg\" alt=\"Open In Colab\"/></a>"
      ]
    },
    {
      "cell_type": "markdown",
      "metadata": {
        "id": "Mur1_zAZqaCG"
      },
      "source": [
        "Bài 1: Lập trình nhập vào từ bàn phím 2 số nguyên và tính\n",
        "1. Tổng của 2 số\n",
        "2. Tích của 2 số\n",
        "3. Hiệu của 2 số\n",
        "4. Phép chia lấy phần dư của 2 số\n",
        "5. Phép chia lấy phần nguyên của 2 số"
      ]
    },
    {
      "cell_type": "code",
      "metadata": {
        "id": "RlR2DQ_VqSMs",
        "colab": {
          "base_uri": "https://localhost:8080/"
        },
        "outputId": "fd2375b9-4d49-461f-b07b-33b74bc67473"
      },
      "source": [
        "a = input(\"a = \")\n",
        "b = input(\"b = \")\n",
        "a = int(a)\n",
        "b = int(b)\n",
        "c = a + b\n",
        "print(\"a + b =\", c)\n",
        "c = a * b\n",
        "print(\"a * b =\", c)\n",
        "c = a - b\n",
        "print(\"a - b =\", c)\n",
        "c = a % b\n",
        "print(\"a % b =\",c)\n",
        "c = a // b\n",
        "print(\"a // b =\",c)"
      ],
      "execution_count": null,
      "outputs": [
        {
          "output_type": "stream",
          "name": "stdout",
          "text": [
            "a = 9\n",
            "b = 2\n",
            "a + b = 11\n",
            "a * b = 18\n",
            "a - b = 7\n",
            "a % b = 1\n",
            "a // b = 4\n"
          ]
        }
      ]
    },
    {
      "cell_type": "markdown",
      "metadata": {
        "id": "rGebQrrHryi3"
      },
      "source": [
        "Bài 2: Lập trình nhập vào từ bàn phím 2 số thực và tính\n",
        "1. Tổng của 2 số\n",
        "2. Tích của 2 số\n",
        "3. Hiệu của 2 số\n",
        "4. Thương của 2 số"
      ]
    },
    {
      "cell_type": "code",
      "metadata": {
        "colab": {
          "base_uri": "https://localhost:8080/"
        },
        "id": "_M60PitA1NrB",
        "outputId": "488f36d8-3872-4e8b-a14c-8da2b9233fe4"
      },
      "source": [
        "a = input(\"a =\")\n",
        "b = input(\"b =\")\n",
        "a = float(a)\n",
        "b = float(b)\n",
        "c = a + b\n",
        "print(\"a + b =\",c)\n",
        "c = a * b\n",
        "print(\"a * b =\",c)\n",
        "c = a - b\n",
        "print(\"a - b =\",c)\n",
        "c = a / b\n",
        "print(\"a / b =\",c)"
      ],
      "execution_count": null,
      "outputs": [
        {
          "output_type": "stream",
          "name": "stdout",
          "text": [
            "a =11.5\n",
            "b =12.7\n",
            "a + b = 24.2\n",
            "a * b = 146.04999999999998\n",
            "a - b = -1.1999999999999993\n",
            "a / b = 0.9055118110236221\n"
          ]
        }
      ]
    },
    {
      "cell_type": "markdown",
      "metadata": {
        "id": "pJ99uiJDsGtA"
      },
      "source": [
        "Bài 3: Nhập một số từ bàn phím và tính\n",
        "1. Trị tuyệt đối\n",
        "2. Lấy phần nguyên của số\n",
        "3. Chuyển đổi thành số thực\n",
        "4. (Nhập thêm 1 số từ bàn phím) và tính lũy thừa  $ x^y $\n",
        "5. Tính căn bậc hai\n"
      ]
    },
    {
      "cell_type": "code",
      "metadata": {
        "id": "WqwpBW5RsaKj",
        "colab": {
          "base_uri": "https://localhost:8080/"
        },
        "outputId": "0a2746e6-4931-48e8-8b0b-6452c903aec6"
      },
      "source": [
        "x = 25\n",
        "#Trị tuyệt đối\n",
        "print(abs(x))\n",
        "\n",
        "#Phần nguyên của số\n",
        "x = int(x)\n",
        "print(x)\n",
        "\n",
        "#Chuyển đổi thành số thực\n",
        "a = float(x)\n",
        "print(a)\n",
        "\n",
        "#Tính lũy thừa\n",
        "y = 2\n",
        "b = pow(25,2)\n",
        "print(b)\n",
        "\n",
        "#Căn bậc hai\n",
        "import math\n",
        "c = math.sqrt(x)\n",
        "print(c)\n"
      ],
      "execution_count": null,
      "outputs": [
        {
          "output_type": "stream",
          "name": "stdout",
          "text": [
            "25\n",
            "25\n",
            "25.0\n",
            "625\n",
            "5.0\n"
          ]
        }
      ]
    },
    {
      "cell_type": "markdown",
      "metadata": {
        "id": "16odqN51scg4"
      },
      "source": [
        "Bài 4: Nhập 2 số từ bàn phím và thực hiện các phép so sánh sau giữa 2 số\n",
        "1. $ \\geq $\n",
        "2. $ \\leq $\n",
        "3. >\n",
        "4. <\n",
        "5. $ \\neq $\n",
        "\n",
        "\n"
      ]
    },
    {
      "cell_type": "code",
      "metadata": {
        "id": "CO7HAPD3tZbj",
        "colab": {
          "base_uri": "https://localhost:8080/"
        },
        "outputId": "5b4cbfd5-2741-4af7-fbee-3ca4e44afde5"
      },
      "source": [
        "x = 5\n",
        "y = 3\n",
        "print(x >= y)\n",
        "print(x <= y)\n",
        "print(x > y)\n",
        "print(x < y)\n",
        "print(x != y)"
      ],
      "execution_count": 17,
      "outputs": [
        {
          "output_type": "stream",
          "name": "stdout",
          "text": [
            "True\n",
            "False\n",
            "True\n",
            "False\n",
            "True\n"
          ]
        }
      ]
    },
    {
      "cell_type": "markdown",
      "metadata": {
        "id": "KKA3GQ7ltaan"
      },
      "source": [
        "Bài 5: Nhập 1 chuỗi kí tự từ bàn phím\n",
        "1. Chuyển thành chuỗi in hoa\n",
        "2. Chuyển thành chuỗi in thường"
      ]
    },
    {
      "cell_type": "code",
      "metadata": {
        "id": "BhRZ05i4tt7i",
        "colab": {
          "base_uri": "https://localhost:8080/"
        },
        "outputId": "57fdb107-c0cc-41cb-ad04-d49b7ea24a45"
      },
      "source": [
        "a = \"my name is huynh thanh tung\"\n",
        "print(a.upper())\n",
        "\n",
        "a = \"MY NAME IS HUYNH THANH TUNG\"\n",
        "print(a.lower())"
      ],
      "execution_count": null,
      "outputs": [
        {
          "output_type": "stream",
          "name": "stdout",
          "text": [
            "MY NAME IS HUYNH THANH TUNG\n",
            "my name is huynh thanh tung\n"
          ]
        }
      ]
    },
    {
      "cell_type": "markdown",
      "metadata": {
        "id": "Oi9fz7mctuIs"
      },
      "source": [
        "Bài 6: Xuất ra màn hình 1 chuỗi ký tự nằm trên nhiều hàng "
      ]
    },
    {
      "cell_type": "code",
      "metadata": {
        "id": "0qhJs3fZt_ls",
        "colab": {
          "base_uri": "https://localhost:8080/"
        },
        "outputId": "61145867-b618-4740-85d9-6a63105665c1"
      },
      "source": [
        "a = \"\"\"I'm singin' in the rain\n",
        "Just singin' in the rain\n",
        "What a glorious feeling\n",
        "I'm happy again.\n",
        "I'm laughing at clouds.\n",
        "So dark up above,\n",
        "The sun's in my heart\n",
        "And I'm ready for love.\"\"\"\n",
        "print(a)"
      ],
      "execution_count": null,
      "outputs": [
        {
          "output_type": "stream",
          "name": "stdout",
          "text": [
            "I'm singin' in the rain\n",
            "Just singin' in the rain\n",
            "What a glorious feeling\n",
            "I'm happy again.\n",
            "I'm laughing at clouds.\n",
            "So dark up above,\n",
            "The sun's in my heart\n",
            "And I'm ready for love.\n"
          ]
        }
      ]
    }
  ]
}