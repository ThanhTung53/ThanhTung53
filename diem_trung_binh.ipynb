{
  "nbformat": 4,
  "nbformat_minor": 0,
  "metadata": {
    "colab": {
      "name": "diem_trung_binh.ipynb",
      "provenance": [],
      "authorship_tag": "ABX9TyP3soVUJwDt4vhADLYuo3XC",
      "include_colab_link": true
    },
    "kernelspec": {
      "name": "python3",
      "display_name": "Python 3"
    },
    "language_info": {
      "name": "python"
    }
  },
  "cells": [
    {
      "cell_type": "markdown",
      "metadata": {
        "id": "view-in-github",
        "colab_type": "text"
      },
      "source": [
        "<a href=\"https://colab.research.google.com/github/ThanhTung53/Tuhu/blob/main/diem_trung_binh.ipynb\" target=\"_parent\"><img src=\"https://colab.research.google.com/assets/colab-badge.svg\" alt=\"Open In Colab\"/></a>"
      ]
    },
    {
      "cell_type": "code",
      "metadata": {
        "colab": {
          "base_uri": "https://localhost:8080/"
        },
        "id": "fXELXIYl7BQM",
        "outputId": "651d5bc9-b339-4d3c-8d12-b2e189d0c445"
      },
      "source": [
        "x = float(input(\"Điểm trung bình: \"))\n",
        "if 0 <= x < 5:\n",
        "  print(\"Yếu\")\n",
        "elif 5 <= x < 7:\n",
        "  print(\"Trung bình\")\n",
        "elif 7 <= x < 8:\n",
        "  print(\"Khá\")\n",
        "elif 8 <= x < 9:\n",
        "  print(\"Giỏi\")\n",
        "else:\n",
        "  print(\"Xuất sắc\")"
      ],
      "execution_count": 6,
      "outputs": [
        {
          "output_type": "stream",
          "name": "stdout",
          "text": [
            "Điểm trung bình: 9\n",
            "Xuất sắc\n"
          ]
        }
      ]
    }
  ]
}