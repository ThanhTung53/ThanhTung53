{
  "nbformat": 4,
  "nbformat_minor": 0,
  "metadata": {
    "colab": {
      "name": "diem_trung_binh.ipynb",
      "provenance": [],
      "authorship_tag": "ABX9TyNGoCfXZDa1idGlYQrK9sfy",
      "include_colab_link": true
    },
    "kernelspec": {
      "name": "python3",
      "display_name": "Python 3"
    },
    "language_info": {
      "name": "python"
    }
  },
  "cells": [
    {
      "cell_type": "markdown",
      "metadata": {
        "id": "view-in-github",
        "colab_type": "text"
      },
      "source": [
        "<a href=\"https://colab.research.google.com/github/ThanhTung53/Tuhu/blob/main/diem_trung_binh.ipynb\" target=\"_parent\"><img src=\"https://colab.research.google.com/assets/colab-badge.svg\" alt=\"Open In Colab\"/></a>"
      ]
    },
    {
      "cell_type": "code",
      "metadata": {
        "colab": {
          "base_uri": "https://localhost:8080/"
        },
        "id": "RXLc_X_smixf",
        "outputId": "cd306661-8cdf-4900-ed9b-2790a219bfdd"
      },
      "source": [
        "dtb = float(input(\"Nhập điểm trung bình: \"))\n",
        "\n",
        "if (dtb < 5.0):\n",
        "  print(\"Học lực yếu\")\n",
        "elif (dtb < 7.0):\n",
        "  print(\"Học lực trung bình\")\n",
        "elif (dtb < 8.0):\n",
        "  print(\"Học lực khá\")\n",
        "elif (dtb < 9.0):\n",
        "  print(\"Học lực giỏi\")\n",
        "else:\n",
        "  print(\"Học lực xuất sắc\")"
      ],
      "execution_count": 8,
      "outputs": [
        {
          "output_type": "stream",
          "name": "stdout",
          "text": [
            "Nhập điểm trung bình: 7.5\n",
            "Học lực khá\n"
          ]
        }
      ]
    }
  ]
}