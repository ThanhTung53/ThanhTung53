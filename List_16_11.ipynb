{
  "nbformat": 4,
  "nbformat_minor": 0,
  "metadata": {
    "colab": {
      "name": "List_16/11.ipynb",
      "provenance": [],
      "authorship_tag": "ABX9TyP8NYk4xAAakVUyCOSqs6ZN",
      "include_colab_link": true
    },
    "kernelspec": {
      "name": "python3",
      "display_name": "Python 3"
    },
    "language_info": {
      "name": "python"
    }
  },
  "cells": [
    {
      "cell_type": "markdown",
      "metadata": {
        "id": "view-in-github",
        "colab_type": "text"
      },
      "source": [
        "<a href=\"https://colab.research.google.com/github/ThanhTung53/Tuhu/blob/main/List_16_11.ipynb\" target=\"_parent\"><img src=\"https://colab.research.google.com/assets/colab-badge.svg\" alt=\"Open In Colab\"/></a>"
      ]
    },
    {
      "cell_type": "markdown",
      "metadata": {
        "id": "mK5bgXU8XyT1"
      },
      "source": [
        "1) Tạo một biến x kiểu List rỗng"
      ]
    },
    {
      "cell_type": "code",
      "metadata": {
        "colab": {
          "base_uri": "https://localhost:8080/"
        },
        "id": "b_LAt3y2Xo1X",
        "outputId": "8e829d70-2740-4fac-b21d-bbc395436bb4"
      },
      "source": [
        "x = []\n",
        "print(x)"
      ],
      "execution_count": null,
      "outputs": [
        {
          "output_type": "stream",
          "name": "stdout",
          "text": [
            "[]\n"
          ]
        }
      ]
    },
    {
      "cell_type": "markdown",
      "metadata": {
        "id": "pN-aju1IXyXq"
      },
      "source": [
        "2) Thêm giá trị 18 vào x"
      ]
    },
    {
      "cell_type": "code",
      "metadata": {
        "colab": {
          "base_uri": "https://localhost:8080/"
        },
        "id": "iSzEm6oTYvef",
        "outputId": "eada2b51-82f7-43c2-f51a-80fdcbc70402"
      },
      "source": [
        "x.append(18)\n",
        "print(x)"
      ],
      "execution_count": null,
      "outputs": [
        {
          "output_type": "stream",
          "name": "stdout",
          "text": [
            "[18]\n"
          ]
        }
      ]
    },
    {
      "cell_type": "markdown",
      "metadata": {
        "id": "7-p1e5yTXybp"
      },
      "source": [
        "3) Thêm giá trị \"Huế\" vào x"
      ]
    },
    {
      "cell_type": "code",
      "metadata": {
        "colab": {
          "base_uri": "https://localhost:8080/"
        },
        "id": "Yp3btqZBYwCy",
        "outputId": "499b523e-11b8-48fa-d796-280629ac1fbe"
      },
      "source": [
        "x.append(\"Huế\")\n",
        "print(x)"
      ],
      "execution_count": null,
      "outputs": [
        {
          "output_type": "stream",
          "name": "stdout",
          "text": [
            "[18, 'Huế']\n"
          ]
        }
      ]
    },
    {
      "cell_type": "markdown",
      "metadata": {
        "id": "uxh3_GLQXyeT"
      },
      "source": [
        "4) Tạo 1 List y = [12, 45, -1, -0.56, \"abc\"]"
      ]
    },
    {
      "cell_type": "code",
      "metadata": {
        "colab": {
          "base_uri": "https://localhost:8080/"
        },
        "id": "N5ECd8ZGYwfp",
        "outputId": "818e9c2f-9080-44ee-b944-7f0a7c3c3f40"
      },
      "source": [
        "y = [12, 45, -1, -0.56, \"abc\"]\n",
        "print(y)"
      ],
      "execution_count": null,
      "outputs": [
        {
          "output_type": "stream",
          "name": "stdout",
          "text": [
            "[12, 45, -1, -0.56, 'abc']\n"
          ]
        }
      ]
    },
    {
      "cell_type": "markdown",
      "metadata": {
        "id": "DbzWxt8FXyhZ"
      },
      "source": [
        "5) Thêm y vào x"
      ]
    },
    {
      "cell_type": "code",
      "metadata": {
        "colab": {
          "base_uri": "https://localhost:8080/"
        },
        "id": "TIQIuKtmYxRx",
        "outputId": "c4b6aa81-0c64-4bd6-fbba-07bd79c4f16c"
      },
      "source": [
        "x.extend(y)\n",
        "print(x)"
      ],
      "execution_count": null,
      "outputs": [
        {
          "output_type": "stream",
          "name": "stdout",
          "text": [
            "[18, 'Huế', 12, 45, -1, -0.56, 'abc']\n"
          ]
        }
      ]
    },
    {
      "cell_type": "markdown",
      "metadata": {
        "id": "nFiFWDlVXykZ"
      },
      "source": [
        "6) Xuất giá trị của x ra màn hình"
      ]
    },
    {
      "cell_type": "code",
      "metadata": {
        "colab": {
          "base_uri": "https://localhost:8080/"
        },
        "id": "IPQrPg2tYxtG",
        "outputId": "cba25c94-67fd-40fe-9b7a-8388230fb605"
      },
      "source": [
        "print(x)"
      ],
      "execution_count": null,
      "outputs": [
        {
          "output_type": "stream",
          "name": "stdout",
          "text": [
            "[18, 'Huế', 12, 45, -1, -0.56, 'abc']\n"
          ]
        }
      ]
    },
    {
      "cell_type": "markdown",
      "metadata": {
        "id": "4PyqJuIRXynF"
      },
      "source": [
        "7) In ra màn hình giá trị của phần tử đầu tiên và phần tử cuối cùng của x"
      ]
    },
    {
      "cell_type": "code",
      "metadata": {
        "colab": {
          "base_uri": "https://localhost:8080/"
        },
        "id": "eDjosmuqYyqJ",
        "outputId": "0eb78225-aaad-4a30-951b-70ccb5b7eed8"
      },
      "source": [
        "x = [18, 'Huế', 12, 45, -1, -0.56, 'abc']\n",
        "print(x[0])\n",
        "print(x[-1])"
      ],
      "execution_count": null,
      "outputs": [
        {
          "output_type": "stream",
          "name": "stdout",
          "text": [
            "18\n",
            "abc\n"
          ]
        }
      ]
    },
    {
      "cell_type": "markdown",
      "metadata": {
        "id": "F652GDY-Xy01"
      },
      "source": [
        "8) In ra màn hình giá trị của phần tử đầu tiên đến phần tử thứ 5 của x"
      ]
    },
    {
      "cell_type": "code",
      "metadata": {
        "colab": {
          "base_uri": "https://localhost:8080/"
        },
        "id": "3M8w02OIYzhp",
        "outputId": "5e870019-9dfc-4a3d-a653-b0ed91da4722"
      },
      "source": [
        "print(x[0:5])"
      ],
      "execution_count": null,
      "outputs": [
        {
          "output_type": "stream",
          "name": "stdout",
          "text": [
            "[18, 'Huế', 12, 45, -1]\n"
          ]
        }
      ]
    },
    {
      "cell_type": "markdown",
      "metadata": {
        "id": "xKiRGSbVX10P"
      },
      "source": [
        "9) In ra màn hình giá trị của phần từ thứ 3 đến cuối cùng của x"
      ]
    },
    {
      "cell_type": "code",
      "metadata": {
        "colab": {
          "base_uri": "https://localhost:8080/"
        },
        "id": "1ObD7VJ9Y0Cf",
        "outputId": "47df2749-bad4-4595-b408-d2861e4efabc"
      },
      "source": [
        "print(x[3:])"
      ],
      "execution_count": null,
      "outputs": [
        {
          "output_type": "stream",
          "name": "stdout",
          "text": [
            "[45, -1, -0.56, 'abc']\n"
          ]
        }
      ]
    }
  ]
}