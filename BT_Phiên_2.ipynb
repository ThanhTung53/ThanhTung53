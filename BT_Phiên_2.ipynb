{
  "nbformat": 4,
  "nbformat_minor": 0,
  "metadata": {
    "colab": {
      "name": "BT_Phiên_2.ipynb",
      "provenance": [],
      "authorship_tag": "ABX9TyNrVt9MOQ70TOqsGmJDmb47",
      "include_colab_link": true
    },
    "kernelspec": {
      "name": "python3",
      "display_name": "Python 3"
    },
    "language_info": {
      "name": "python"
    }
  },
  "cells": [
    {
      "cell_type": "markdown",
      "metadata": {
        "id": "view-in-github",
        "colab_type": "text"
      },
      "source": [
        "<a href=\"https://colab.research.google.com/github/ThanhTung53/Tuhu/blob/main/BT_Phi%C3%AAn_2.ipynb\" target=\"_parent\"><img src=\"https://colab.research.google.com/assets/colab-badge.svg\" alt=\"Open In Colab\"/></a>"
      ]
    },
    {
      "cell_type": "code",
      "metadata": {
        "colab": {
          "base_uri": "https://localhost:8080/"
        },
        "id": "juj_0owxdMMS",
        "outputId": "8eadeb08-f7e2-4572-a2b4-aa74ef959c9f"
      },
      "source": [
        "tup1 = ('physics', 'chemistry', 1997, 2000)\n",
        "tup2 = (1, 2, 3, 4, 5, 6, 7 )\n",
        "print(\"tup1[0]: \", tup1[0])\n",
        "print(\"tup2[1:5]: \", tup2[1:5])"
      ],
      "execution_count": null,
      "outputs": [
        {
          "output_type": "stream",
          "name": "stdout",
          "text": [
            "tup1[0]:  physics\n",
            "tup2[1:5]:  (2, 3, 4, 5)\n"
          ]
        }
      ]
    },
    {
      "cell_type": "code",
      "metadata": {
        "colab": {
          "base_uri": "https://localhost:8080/"
        },
        "id": "f61dKRHDdjTV",
        "outputId": "2a1e8b7a-abb2-4ce4-8f8a-54b3499f4069"
      },
      "source": [
        "tup1 = (12, 34.56)\n",
        "tup2 = ('abc', 'xyz')\n",
        "tup3 = tup1 + tup2\n",
        "print(tup3)"
      ],
      "execution_count": null,
      "outputs": [
        {
          "output_type": "stream",
          "name": "stdout",
          "text": [
            "(12, 34.56, 'abc', 'xyz')\n"
          ]
        }
      ]
    },
    {
      "cell_type": "code",
      "metadata": {
        "colab": {
          "base_uri": "https://localhost:8080/",
          "height": 238
        },
        "id": "SWawU6wYdo8f",
        "outputId": "8692ad36-63b1-46ca-be70-a5bb117badcd"
      },
      "source": [
        "tup4 = ('physics', 'chemistry', 1997, 2000)\n",
        "print(tup4)\n",
        "del tup4\n",
        "print(\"After deleting tup : \")\n",
        "print(tup4)"
      ],
      "execution_count": null,
      "outputs": [
        {
          "output_type": "stream",
          "name": "stdout",
          "text": [
            "('physics', 'chemistry', 1997, 2000)\n",
            "After deleting tup : \n"
          ]
        },
        {
          "output_type": "error",
          "ename": "NameError",
          "evalue": "ignored",
          "traceback": [
            "\u001b[0;31m---------------------------------------------------------------------------\u001b[0m",
            "\u001b[0;31mNameError\u001b[0m                                 Traceback (most recent call last)",
            "\u001b[0;32m<ipython-input-50-da685a5aaa4d>\u001b[0m in \u001b[0;36m<module>\u001b[0;34m()\u001b[0m\n\u001b[1;32m      3\u001b[0m \u001b[0;32mdel\u001b[0m \u001b[0mtup4\u001b[0m\u001b[0;34m\u001b[0m\u001b[0;34m\u001b[0m\u001b[0m\n\u001b[1;32m      4\u001b[0m \u001b[0mprint\u001b[0m\u001b[0;34m(\u001b[0m\u001b[0;34m\"After deleting tup : \"\u001b[0m\u001b[0;34m)\u001b[0m\u001b[0;34m\u001b[0m\u001b[0;34m\u001b[0m\u001b[0m\n\u001b[0;32m----> 5\u001b[0;31m \u001b[0mprint\u001b[0m\u001b[0;34m(\u001b[0m\u001b[0mtup4\u001b[0m\u001b[0;34m)\u001b[0m\u001b[0;34m\u001b[0m\u001b[0;34m\u001b[0m\u001b[0m\n\u001b[0m",
            "\u001b[0;31mNameError\u001b[0m: name 'tup4' is not defined"
          ]
        }
      ]
    },
    {
      "cell_type": "code",
      "metadata": {
        "colab": {
          "base_uri": "https://localhost:8080/"
        },
        "id": "iM2KGxArnYXT",
        "outputId": "ff079b3a-9cd5-409c-8939-cecbea6fc759"
      },
      "source": [
        "tuple1 = (1, 2, 3)\n",
        "tuple2 = (4, 5, 6)\n",
        "print(len(tuple1))\n",
        "tuple3 = tuple1 + tuple2\n",
        "print(tuple3)\n",
        "\n",
        "(\"Hi!\")*3\n",
        "\n",
        "if 3 in tuple1:\n",
        " print(True)"
      ],
      "execution_count": null,
      "outputs": [
        {
          "output_type": "stream",
          "name": "stdout",
          "text": [
            "3\n",
            "(1, 2, 3, 4, 5, 6)\n",
            "True\n"
          ]
        }
      ]
    },
    {
      "cell_type": "code",
      "metadata": {
        "colab": {
          "base_uri": "https://localhost:8080/"
        },
        "id": "QXWVS4YUdpDd",
        "outputId": "3b9a0e7a-33d9-40ce-880b-39137970622b"
      },
      "source": [
        "T = (\"Red\", \"Yellow\", \"Green\")\n",
        "print(T[2])\n",
        "print(T[-2])\n",
        "print(T[1:])"
      ],
      "execution_count": null,
      "outputs": [
        {
          "output_type": "stream",
          "name": "stdout",
          "text": [
            "Green\n",
            "Yellow\n",
            "('Yellow', 'Green')\n"
          ]
        }
      ]
    },
    {
      "cell_type": "code",
      "metadata": {
        "colab": {
          "base_uri": "https://localhost:8080/"
        },
        "id": "G1n_gSJCel7S",
        "outputId": "f26d3a5a-9726-4716-9327-bee764f7ceba"
      },
      "source": [
        "t1 = (11, 22, 10, 4)\n",
        "t2 = (20, 33, 65, 11, 7)\n",
        "print(len(t1))\n",
        "print(max(t1))\n",
        "print(min(t1))"
      ],
      "execution_count": null,
      "outputs": [
        {
          "output_type": "stream",
          "name": "stdout",
          "text": [
            "4\n",
            "22\n",
            "4\n"
          ]
        }
      ]
    },
    {
      "cell_type": "code",
      "metadata": {
        "colab": {
          "base_uri": "https://localhost:8080/"
        },
        "id": "R-IZTYQAel-C",
        "outputId": "afbe7566-1fe2-4e3d-bf2d-c353fdd2dfd6"
      },
      "source": [
        "dict1 = {'Name': 'Zara', 'Age': 7, 'Class': 'First'}\n",
        "print(\"dict['Name']: \", dict1['Name'])\n",
        "print(\"dict['Age']: \", dict1['Age'])"
      ],
      "execution_count": null,
      "outputs": [
        {
          "output_type": "stream",
          "name": "stdout",
          "text": [
            "dict['Name']:  Zara\n",
            "dict['Age']:  7\n"
          ]
        }
      ]
    },
    {
      "cell_type": "code",
      "metadata": {
        "colab": {
          "base_uri": "https://localhost:8080/"
        },
        "id": "8iMgdvzbemBW",
        "outputId": "26fdb58d-f867-49fa-9197-3fe00d74ee1c"
      },
      "source": [
        "dict2 = {'Name': 'Zara', 'Age': 7, 'Class': 'First'}\n",
        "dict2['Age'] = 8\n",
        "dict2['School'] = \"DPS School\"\n",
        "print(\"dict['Age']: \", dict2['Age'])\n",
        "print(\"dict['School']: \", dict2['School'])"
      ],
      "execution_count": null,
      "outputs": [
        {
          "output_type": "stream",
          "name": "stdout",
          "text": [
            "dict['Age']:  8\n",
            "dict['School']:  DPS School\n"
          ]
        }
      ]
    },
    {
      "cell_type": "code",
      "metadata": {
        "id": "2FEn3ifAhITq"
      },
      "source": [
        "dict3 = {'Name': 'Zara', 'Age': 7, 'Class': 'First'}\n",
        "del dict3['Name'] \n",
        "dict3.clear()\n",
        "del dict3"
      ],
      "execution_count": null,
      "outputs": []
    },
    {
      "cell_type": "code",
      "metadata": {
        "colab": {
          "base_uri": "https://localhost:8080/"
        },
        "id": "pFJlawxyhIWT",
        "outputId": "1c00e8b1-317a-4a0f-d73f-b7a53c69d569"
      },
      "source": [
        "#Clear\n",
        "d = {1: \"one\", 2: \"two\"}\n",
        "d.clear()\n",
        "print('d =', d)\n",
        "\n",
        "#Copy\n",
        "a = {\"Name\" : \"Tung\", \"Age\" : 18, \"Year\" : 2021}\n",
        "b = a.copy()\n",
        "print(b)\n",
        "\n",
        "#Get\n",
        "c = {'name': 'Tung', 'age': 18}\n",
        "print('Name: ', c.get('name'))\n",
        "print('Age: ', c.get('age'))\n",
        "\n",
        "#Items\n",
        "e = {'Physics':60, 'Maths':80}\n",
        "print(e.items())\n",
        "\n",
        "#Keys\n",
        "f = {'name': 'Tung', 'age': 18,}\n",
        "print(f.keys())\n",
        "\n",
        "#Update\n",
        "a = {\"Name\" : \"Tung\", \"Age\" : 18, \"Year\" : 2021}\n",
        "a.update({\"citizen\": \"Vietnam\"})\n",
        "print(a)\n",
        "\n",
        "#Values\n",
        "a = {\"Name\" : \"Tung\", \"Age\" : 18, \"Year\" : 2021}\n",
        "x = a.values()\n",
        "print(x)"
      ],
      "execution_count": null,
      "outputs": [
        {
          "output_type": "stream",
          "name": "stdout",
          "text": [
            "d = {}\n",
            "{'Name': 'Tung', 'Age': 18, 'Year': 2021}\n",
            "Name:  Tung\n",
            "Age:  18\n",
            "dict_items([('Physics', 60), ('Maths', 80)])\n",
            "dict_keys(['name', 'age'])\n",
            "{'Name': 'Tung', 'Age': 18, 'Year': 2021, 'citizen': 'Vietnam'}\n",
            "dict_values(['Tung', 18, 2021])\n"
          ]
        }
      ]
    },
    {
      "cell_type": "code",
      "metadata": {
        "colab": {
          "base_uri": "https://localhost:8080/"
        },
        "id": "MGqaszzwhIZF",
        "outputId": "8f1f2a43-dc2e-4f5c-83b3-eb2a6943e79e"
      },
      "source": [
        "Set = set([\"a\", \"b\", \"c\"])\n",
        "print(\"Set: \")\n",
        "print(Set)\n",
        "\n",
        "Set.add(\"d\")\n",
        "print(\"\\nSet after adding: \")\n",
        "print(Set)"
      ],
      "execution_count": null,
      "outputs": [
        {
          "output_type": "stream",
          "name": "stdout",
          "text": [
            "Set: \n",
            "{'c', 'a', 'b'}\n",
            "\n",
            "Set after adding: \n",
            "{'c', 'a', 'd', 'b'}\n"
          ]
        }
      ]
    },
    {
      "cell_type": "code",
      "metadata": {
        "colab": {
          "base_uri": "https://localhost:8080/",
          "height": 132
        },
        "id": "Gmh2dz6ZdpIg",
        "outputId": "e2bd6e85-48b8-46da-9f4c-5ad3ff7dca0c"
      },
      "source": [
        "people = {\"Jay\", \"Idrish\", \"Archi\"}\n",
        "print(\"People: \")\n",
        "print(people)\n",
        "people.add(\"Daxit\")\n",
        "for i in range(1, 6):\n",
        "people.add(i)\n",
        "print(\"\\nSet after adding element:\", end = \" \")\n",
        "print(people)"
      ],
      "execution_count": 55,
      "outputs": [
        {
          "output_type": "error",
          "ename": "IndentationError",
          "evalue": "ignored",
          "traceback": [
            "\u001b[0;36m  File \u001b[0;32m\"<ipython-input-55-161f607c683b>\"\u001b[0;36m, line \u001b[0;32m6\u001b[0m\n\u001b[0;31m    people.add(i)\u001b[0m\n\u001b[0m         ^\u001b[0m\n\u001b[0;31mIndentationError\u001b[0m\u001b[0;31m:\u001b[0m expected an indented block\n"
          ]
        }
      ]
    },
    {
      "cell_type": "code",
      "metadata": {
        "id": "Un3FzkyXmIMz"
      },
      "source": [
        "Days=set([\"Mon\",\"Tue\",\"Wed\",\"Thu\",\"Fri\",\"Sat\"])\n",
        "Days.discard(\"Sun\")\n",
        "print(Days)"
      ],
      "execution_count": null,
      "outputs": []
    },
    {
      "cell_type": "code",
      "metadata": {
        "id": "I5wFWXp4meu0"
      },
      "source": [
        "set1 = {1,2,3,4,5,6}\n",
        "print(\"Initial set\")\n",
        "print(set1)\n",
        "\n",
        "set1.clear()\n",
        "print(\"\\nSet after using clear() function\")\n",
        "print(set1)"
      ],
      "execution_count": null,
      "outputs": []
    },
    {
      "cell_type": "code",
      "metadata": {
        "colab": {
          "base_uri": "https://localhost:8080/"
        },
        "id": "oaqsJg5jmhxl",
        "outputId": "ed574d85-83e1-4550-d5d8-daaf0cbb0f5a"
      },
      "source": [
        "people = {\"Jay\", \"Idrish\", \"Archil\"}\n",
        "vampires = {\"Karan\", \"Arjun\"}\n",
        "dracula = {\"Deepanshu\", \"Raju\"}\n",
        "\n",
        "population = people.union(vampires)\n",
        "print(\"Union using union() function\")\n",
        "print(population)\n",
        "\n",
        "population = people|dracula\n",
        "print(\"\\nUnion using '|' operator\")\n",
        "print(population)"
      ],
      "execution_count": null,
      "outputs": [
        {
          "output_type": "stream",
          "name": "stdout",
          "text": [
            "Union using union() function\n",
            "{'Idrish', 'Archil', 'Karan', 'Arjun', 'Jay'}\n",
            "\n",
            "Union using '|' operator\n",
            "{'Idrish', 'Archil', 'Deepanshu', 'Jay', 'Raju'}\n"
          ]
        }
      ]
    },
    {
      "cell_type": "code",
      "metadata": {
        "colab": {
          "base_uri": "https://localhost:8080/",
          "height": 132
        },
        "id": "22cQ712kmh2e",
        "outputId": "1db27f74-c44b-48e9-a20b-41ce77ee39fb"
      },
      "source": [
        "set1 = set()\n",
        "for i in range(5):\n",
        "set1.add(i)\n",
        "set2 = {3, 4, 5, 6, 7, 8}\n",
        "set3 = set1.intersection(set2)\n",
        "print(\"Intersection using intersection() function\")\n",
        "print(set3)\n",
        "set3 = set1 & set2\n",
        "print(\"\\nIntersection using '&' operator\")\n",
        "print(set3)"
      ],
      "execution_count": null,
      "outputs": [
        {
          "output_type": "error",
          "ename": "IndentationError",
          "evalue": "ignored",
          "traceback": [
            "\u001b[0;36m  File \u001b[0;32m\"<ipython-input-39-42a2c6eb343b>\"\u001b[0;36m, line \u001b[0;32m3\u001b[0m\n\u001b[0;31m    set1.add(i)\u001b[0m\n\u001b[0m       ^\u001b[0m\n\u001b[0;31mIndentationError\u001b[0m\u001b[0;31m:\u001b[0m expected an indented block\n"
          ]
        }
      ]
    },
    {
      "cell_type": "code",
      "metadata": {
        "id": "D429NfEVmrQv"
      },
      "source": [
        "set1 = set()\n",
        "for i in range(5):\n",
        "set1.add(i)\n",
        "set2 = {3, 4, 5, 6, 7, 8}\n",
        "set3 = set1.difference(set2)\n",
        "print(\" Difference of two sets using difference() function\")\n",
        "print(set3)\n",
        "set3 = set1 - set2\n",
        "print(\"\\nDifference of two sets using '-' operator\")\n",
        "print(set3)"
      ],
      "execution_count": null,
      "outputs": []
    },
    {
      "cell_type": "code",
      "metadata": {
        "id": "dd-Z6yD8mrTn",
        "colab": {
          "base_uri": "https://localhost:8080/"
        },
        "outputId": "0c2ede75-5d84-412a-e5de-65202afcdf4a"
      },
      "source": [
        "DaysA = set([\"Mon\",\"Tue\",\"Wed\"])\n",
        "DaysB = set([\"Mon\",\"Tue\",\"Wed\",\"Thu\",\"Fri\",\"Sat\",\"Sun\"])\n",
        "SubsetRes = DaysA <= DaysB\n",
        "SupersetRes = DaysB >= DaysA\n",
        "print(SubsetRes)\n",
        "print(SupersetRes)"
      ],
      "execution_count": 51,
      "outputs": [
        {
          "output_type": "stream",
          "name": "stdout",
          "text": [
            "True\n",
            "True\n"
          ]
        }
      ]
    },
    {
      "cell_type": "code",
      "metadata": {
        "id": "ap5F60VMnBaD",
        "colab": {
          "base_uri": "https://localhost:8080/"
        },
        "outputId": "4572a7f2-a6bb-4653-e581-426f82911869"
      },
      "source": [
        "import time; \n",
        "ticks = time.time()\n",
        "print(\"Number of ticks since 12:00am, January 1, 1970:\", ticks)\n",
        "localtime = time.localtime(time.time())\n",
        "print(\"Local current time :\", localtime)"
      ],
      "execution_count": 52,
      "outputs": [
        {
          "output_type": "stream",
          "name": "stdout",
          "text": [
            "Number of ticks since 12:00am, January 1, 1970: 1636964695.9808307\n",
            "Local current time : time.struct_time(tm_year=2021, tm_mon=11, tm_mday=15, tm_hour=8, tm_min=24, tm_sec=55, tm_wday=0, tm_yday=319, tm_isdst=0)\n"
          ]
        }
      ]
    },
    {
      "cell_type": "code",
      "metadata": {
        "id": "MWFFR_TinBcs",
        "colab": {
          "base_uri": "https://localhost:8080/"
        },
        "outputId": "b0a8e538-670b-4aaa-c388-cd3b68a049c9"
      },
      "source": [
        "import time;\n",
        "localtime = time.asctime( time.localtime(time.time()) )\n",
        "print(\"Local current time :\", localtime)"
      ],
      "execution_count": 53,
      "outputs": [
        {
          "output_type": "stream",
          "name": "stdout",
          "text": [
            "Local current time : Mon Nov 15 08:24:58 2021\n"
          ]
        }
      ]
    },
    {
      "cell_type": "code",
      "metadata": {
        "id": "Fnwq--oZnBfq",
        "colab": {
          "base_uri": "https://localhost:8080/"
        },
        "outputId": "e571f27f-7440-4059-9f31-3ef1a68fdf05"
      },
      "source": [
        "import calendar\n",
        "cal = calendar.month(2008, 1)\n",
        "print(\"Here is the calendar:\")\n",
        "print(cal)"
      ],
      "execution_count": 54,
      "outputs": [
        {
          "output_type": "stream",
          "name": "stdout",
          "text": [
            "Here is the calendar:\n",
            "    January 2008\n",
            "Mo Tu We Th Fr Sa Su\n",
            "    1  2  3  4  5  6\n",
            " 7  8  9 10 11 12 13\n",
            "14 15 16 17 18 19 20\n",
            "21 22 23 24 25 26 27\n",
            "28 29 30 31\n",
            "\n"
          ]
        }
      ]
    }
  ]
}